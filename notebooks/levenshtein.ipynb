{
 "cells": [
  {
   "cell_type": "code",
   "execution_count": 1,
   "id": "mathematical-oxford",
   "metadata": {},
   "outputs": [],
   "source": [
    "%load_ext autoreload\n",
    "%autoreload 2"
   ]
  },
  {
   "cell_type": "code",
   "execution_count": 21,
   "id": "mental-furniture",
   "metadata": {},
   "outputs": [],
   "source": [
    "import numpy as np\n",
    "import jellyfish\n",
    "from tqdm import tqdm\n",
    "from sklearn.feature_extraction.text import TfidfVectorizer\n",
    "from sklearn.utils.extmath import safe_sparse_dot\n",
    "from scipy.sparse import vstack\n",
    "\n",
    "from matchers import metrics, utils, dataset"
   ]
  },
  {
   "cell_type": "code",
   "execution_count": 3,
   "id": "later-pressure",
   "metadata": {},
   "outputs": [],
   "source": [
    "np.set_printoptions(suppress=True)\n",
    "tqdm.pandas()"
   ]
  },
  {
   "cell_type": "markdown",
   "id": "herbal-sleep",
   "metadata": {},
   "source": [
    "### Load and process data"
   ]
  },
  {
   "cell_type": "code",
   "execution_count": 8,
   "id": "occupied-creator",
   "metadata": {},
   "outputs": [],
   "source": [
    "# Only need to run this once\n",
    "# It we split the data into train/test and will persist the data on disk\n",
    "# dataset.load_split_init(test_size=0.1)"
   ]
  },
  {
   "cell_type": "code",
   "execution_count": 9,
   "id": "martial-freedom",
   "metadata": {},
   "outputs": [],
   "source": [
    "train, test = dataset.load_process_from_disk()\n",
    "\n",
    "input_names_train, weighted_relevant_names_train, all_candidates_train = train\n",
    "input_names_test, weighted_relevant_names_test, all_candidates_test = test\n",
    "\n",
    "all_candidates = np.concatenate((all_candidates_train, all_candidates_test))"
   ]
  },
  {
   "cell_type": "markdown",
   "id": "radio-worse",
   "metadata": {},
   "source": [
    "### Model"
   ]
  },
  {
   "cell_type": "code",
   "execution_count": 58,
   "id": "featured-marketing",
   "metadata": {},
   "outputs": [],
   "source": [
    "def calc_similarity_to(name, alg='levenshtein'):\n",
    "    def calc_similarity(row):\n",
    "        cand_name = row[0]\n",
    "        similarity = 0\n",
    "        if alg == 'levenshtein':\n",
    "            dist = jellyfish.levenshtein_distance(name, cand_name)\n",
    "            similarity = 1 - (dist / (max(len(name), len(cand_name)) - 2))\n",
    "        elif alg == 'jaro_winkler':\n",
    "            similarity = jellyfish.jaro_winkler_similarity(name.strip('<>'), cand_name.strip('<>'))\n",
    "        return similarity\n",
    "    return calc_similarity"
   ]
  },
  {
   "cell_type": "markdown",
   "id": "worst-shadow",
   "metadata": {},
   "source": [
    "#### Similarity Function"
   ]
  },
  {
   "cell_type": "code",
   "execution_count": 59,
   "id": "operating-strategy",
   "metadata": {},
   "outputs": [],
   "source": [
    "def get_similars(name, k=10, alg='levenshtein', demo_mode=False):\n",
    "    if demo_mode:\n",
    "        name = utils.add_padding(name)\n",
    "    scores = np.apply_along_axis(calc_similarity_to(name, alg), 1, all_candidates[:,None])\n",
    "    sorted_scores_idx = np.argsort(scores)[::-1][:k]\n",
    "    candidates = all_candidates[sorted_scores_idx]\n",
    "    if demo_mode:\n",
    "        candidates = [utils.remove_padding(candidate) for candidate in candidates]\n",
    "    candidates_scores = scores[sorted_scores_idx]\n",
    "    \n",
    "    return list(zip(candidates, candidates_scores))"
   ]
  },
  {
   "cell_type": "markdown",
   "id": "unauthorized-confirmation",
   "metadata": {},
   "source": [
    "#### Demo"
   ]
  },
  {
   "cell_type": "code",
   "execution_count": 154,
   "id": "fleet-scale",
   "metadata": {},
   "outputs": [
    {
     "data": {
      "text/plain": [
       "[('bostelman', 1.0),\n",
       " ('bostelmann', 0.9),\n",
       " ('bostleman', 0.7777777777777778),\n",
       " ('vosselman', 0.7777777777777778),\n",
       " ('osterman', 0.7777777777777778),\n",
       " ('bokelman', 0.7777777777777778),\n",
       " ('bockelman', 0.7777777777777778),\n",
       " ('bushelman', 0.7777777777777778),\n",
       " ('fosselmann', 0.7),\n",
       " ('klosterman', 0.7)]"
      ]
     },
     "execution_count": 154,
     "metadata": {},
     "output_type": "execute_result"
    }
   ],
   "source": [
    "# get_similars('schumacher', 10, 'jaro_winkler', True)\n",
    "get_similars('bostelman', 10, 'levenshtein', True)"
   ]
  },
  {
   "cell_type": "markdown",
   "id": "dressed-portugal",
   "metadata": {},
   "source": [
    "## Generate levenshtein scores for all test names"
   ]
  },
  {
   "cell_type": "code",
   "execution_count": 77,
   "id": "standing-championship",
   "metadata": {},
   "outputs": [
    {
     "name": "stderr",
     "output_type": "stream",
     "text": [
      "100%|██████████| 2444/2444 [03:28<00:00, 11.72it/s]\n"
     ]
    }
   ],
   "source": [
    "k = 100 # Number of candidates to consider\n",
    "lev_name_candidates = list(map(lambda x: get_similars(x, k=k, alg='levenshtein'), tqdm(input_names_test)))"
   ]
  },
  {
   "cell_type": "code",
   "execution_count": 78,
   "id": "several-newcastle",
   "metadata": {},
   "outputs": [
    {
     "data": {
      "text/plain": [
       "2444"
      ]
     },
     "execution_count": 78,
     "metadata": {},
     "output_type": "execute_result"
    }
   ],
   "source": [
    "len(lev_name_candidates)"
   ]
  },
  {
   "cell_type": "code",
   "execution_count": 79,
   "id": "paperback-sport",
   "metadata": {},
   "outputs": [],
   "source": [
    "lev_candidates = np.array(lev_name_candidates, dtype=[('name','O'),('score', 'f8')])"
   ]
  },
  {
   "cell_type": "markdown",
   "id": "billion-treaty",
   "metadata": {},
   "source": [
    "### Evaluation"
   ]
  },
  {
   "cell_type": "markdown",
   "id": "particular-guest",
   "metadata": {},
   "source": [
    "#### Precision@0.8"
   ]
  },
  {
   "cell_type": "code",
   "execution_count": 80,
   "id": "prescription-search",
   "metadata": {},
   "outputs": [
    {
     "data": {
      "text/plain": [
       "0.5752773261552264"
      ]
     },
     "execution_count": 80,
     "metadata": {},
     "output_type": "execute_result"
    }
   ],
   "source": [
    "metrics.avg_precision_at_threshold(weighted_relevant_names_test, lev_candidates, 0.8)"
   ]
  },
  {
   "cell_type": "markdown",
   "id": "amended-printing",
   "metadata": {},
   "source": [
    "#### Recall@0.8"
   ]
  },
  {
   "cell_type": "code",
   "execution_count": 81,
   "id": "sorted-rwanda",
   "metadata": {},
   "outputs": [
    {
     "data": {
      "text/plain": [
       "0.874764347319197"
      ]
     },
     "execution_count": 81,
     "metadata": {},
     "output_type": "execute_result"
    }
   ],
   "source": [
    "metrics.avg_recall_at_threshold(weighted_relevant_names_test, lev_candidates, 0.8)"
   ]
  },
  {
   "cell_type": "markdown",
   "id": "alternate-ballet",
   "metadata": {},
   "source": [
    "#### Precision-Recall Curve"
   ]
  },
  {
   "cell_type": "code",
   "execution_count": 83,
   "id": "respective-dinner",
   "metadata": {},
   "outputs": [
    {
     "data": {
      "image/png": "[encoded data removed]",
      "text/plain": [
       "<Figure size 432x288 with 1 Axes>"
      ]
     },
     "metadata": {
      "needs_background": "light"
     },
     "output_type": "display_data"
    }
   ],
   "source": [
    "# minimum score threshold to test\n",
    "min_threshold = 0.5\n",
    "metrics.precision_recall_curve_at_threshold(weighted_relevant_names_test, lev_candidates, min_threshold)"
   ]
  },
  {
   "cell_type": "markdown",
   "id": "typical-script",
   "metadata": {},
   "source": [
    "## Generate jaro-winkler scores for all test names"
   ]
  },
  {
   "cell_type": "code",
   "execution_count": 84,
   "id": "billion-pixel",
   "metadata": {},
   "outputs": [
    {
     "name": "stderr",
     "output_type": "stream",
     "text": [
      "100%|██████████| 2444/2444 [03:15<00:00, 12.51it/s]\n"
     ]
    }
   ],
   "source": [
    "k = 100 # Number of candidates to consider\n",
    "jw_name_candidates = list(map(lambda x: get_similars(x, k=k, alg='jaro_winkler'), tqdm(input_names_test)))"
   ]
  },
  {
   "cell_type": "code",
   "execution_count": 85,
   "id": "qualified-boating",
   "metadata": {},
   "outputs": [
    {
     "data": {
      "text/plain": [
       "2444"
      ]
     },
     "execution_count": 85,
     "metadata": {},
     "output_type": "execute_result"
    }
   ],
   "source": [
    "len(jw_name_candidates)"
   ]
  },
  {
   "cell_type": "code",
   "execution_count": 86,
   "id": "introductory-battery",
   "metadata": {},
   "outputs": [],
   "source": [
    "jw_candidates = np.array(jw_name_candidates, dtype=[('name','O'),('score', 'f8')])"
   ]
  },
  {
   "cell_type": "markdown",
   "id": "declared-amount",
   "metadata": {},
   "source": [
    "#### Precision@0.92"
   ]
  },
  {
   "cell_type": "code",
   "execution_count": 106,
   "id": "gothic-ocean",
   "metadata": {},
   "outputs": [
    {
     "data": {
      "text/plain": [
       "0.5417236132661664"
      ]
     },
     "execution_count": 106,
     "metadata": {},
     "output_type": "execute_result"
    }
   ],
   "source": [
    "metrics.avg_precision_at_threshold(weighted_relevant_names_test, jw_candidates, 0.92)"
   ]
  },
  {
   "cell_type": "markdown",
   "id": "turkish-italian",
   "metadata": {},
   "source": [
    "#### Recall@0.92"
   ]
  },
  {
   "cell_type": "code",
   "execution_count": 105,
   "id": "regulation-radius",
   "metadata": {},
   "outputs": [
    {
     "data": {
      "text/plain": [
       "0.8418111418084"
      ]
     },
     "execution_count": 105,
     "metadata": {},
     "output_type": "execute_result"
    }
   ],
   "source": [
    "metrics.avg_recall_at_threshold(weighted_relevant_names_test, jw_candidates, 0.92)"
   ]
  },
  {
   "cell_type": "markdown",
   "id": "developmental-iraqi",
   "metadata": {},
   "source": [
    "#### Precision-Recall Curve"
   ]
  },
  {
   "cell_type": "code",
   "execution_count": 87,
   "id": "technical-encounter",
   "metadata": {},
   "outputs": [
    {
     "data": {
      "image/png": "[encoded data removed]",
      "text/plain": [
       "<Figure size 432x288 with 1 Axes>"
      ]
     },
     "metadata": {
      "needs_background": "light"
     },
     "output_type": "display_data"
    }
   ],
   "source": [
    "# minimum score threshold to test\n",
    "min_threshold = 0.5\n",
    "metrics.precision_recall_curve_at_threshold(weighted_relevant_names_test, jw_candidates, min_threshold)"
   ]
  },
  {
   "cell_type": "markdown",
   "id": "crazy-contest",
   "metadata": {},
   "source": [
    "## Test"
   ]
  },
  {
   "cell_type": "code",
   "execution_count": 155,
   "id": "virtual-madison",
   "metadata": {},
   "outputs": [
    {
     "data": {
      "text/plain": [
       "'<bostelman>'"
      ]
     },
     "execution_count": 155,
     "metadata": {},
     "output_type": "execute_result"
    }
   ],
   "source": [
    "input_names_test[251]"
   ]
  },
  {
   "cell_type": "code",
   "execution_count": 156,
   "id": "corrected-slide",
   "metadata": {},
   "outputs": [
    {
     "data": {
      "text/plain": [
       "[('<bostelmann>', 0.6784565916398714), ('<bostleman>', 0.3215434083601286)]"
      ]
     },
     "execution_count": 156,
     "metadata": {},
     "output_type": "execute_result"
    }
   ],
   "source": [
    "weighted_relevant_names_test[251]"
   ]
  },
  {
   "cell_type": "code",
   "execution_count": 157,
   "id": "positive-wages",
   "metadata": {},
   "outputs": [
    {
     "data": {
      "text/plain": [
       "array([('<bostelman>', 1.        ), ('<bostelmann>', 0.9       ),\n",
       "       ('<bostleman>', 0.77777778), ('<vosselman>', 0.77777778),\n",
       "       ('<osterman>', 0.77777778)],\n",
       "      dtype=[('name', 'O'), ('score', '<f8')])"
      ]
     },
     "execution_count": 157,
     "metadata": {},
     "output_type": "execute_result"
    }
   ],
   "source": [
    "lev_candidates[251,:5]"
   ]
  },
  {
   "cell_type": "code",
   "execution_count": 158,
   "id": "internal-material",
   "metadata": {},
   "outputs": [
    {
     "data": {
      "text/plain": [
       "0.6784565916398714"
      ]
     },
     "execution_count": 158,
     "metadata": {},
     "output_type": "execute_result"
    }
   ],
   "source": [
    "metrics.recall_at_threshold(weighted_relevant_names_test[251], lev_candidates[251], 0.85)"
   ]
  },
  {
   "cell_type": "code",
   "execution_count": 159,
   "id": "elementary-intersection",
   "metadata": {},
   "outputs": [
    {
     "data": {
      "text/plain": [
       "1.0"
      ]
     },
     "execution_count": 159,
     "metadata": {},
     "output_type": "execute_result"
    }
   ],
   "source": [
    "metrics.recall_at_threshold(weighted_relevant_names_test[251], lev_candidates[251], 0.75)"
   ]
  },
  {
   "cell_type": "code",
   "execution_count": null,
   "id": "advanced-temperature",
   "metadata": {},
   "outputs": [],
   "source": []
  }
 ],
 "metadata": {
  "kernelspec": {
   "display_name": "Python [conda env:name-matching] *",
   "language": "python",
   "name": "conda-env-name-matching-py"
  },
  "language_info": {
   "codemirror_mode": {
    "name": "ipython",
    "version": 3
   },
   "file_extension": ".py",
   "mimetype": "text/x-python",
   "name": "python",
   "nbconvert_exporter": "python",
   "pygments_lexer": "ipython3",
   "version": "3.8.5"
  }
 },
 "nbformat": 4,
 "nbformat_minor": 5
}
