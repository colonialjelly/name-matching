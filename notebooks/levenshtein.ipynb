{
 "cells": [
  {
   "cell_type": "code",
   "execution_count": 1,
   "id": "atlantic-armenia",
   "metadata": {},
   "outputs": [],
   "source": [
    "%load_ext autoreload\n",
    "%autoreload 2"
   ]
  },
  {
   "cell_type": "code",
   "execution_count": 2,
   "id": "flush-musician",
   "metadata": {},
   "outputs": [],
   "source": [
    "import numpy as np\n",
    "import jellyfish\n",
    "from tqdm import tqdm\n",
    "from sklearn.feature_extraction.text import TfidfVectorizer\n",
    "from sklearn.utils.extmath import safe_sparse_dot\n",
    "from scipy.sparse import vstack\n",
    "\n",
    "from matchers import metrics, utils, dataset"
   ]
  },
  {
   "cell_type": "code",
   "execution_count": 3,
   "id": "further-webcam",
   "metadata": {},
   "outputs": [],
   "source": [
    "np.set_printoptions(suppress=True)\n",
    "tqdm.pandas()"
   ]
  },
  {
   "cell_type": "markdown",
   "id": "creative-order",
   "metadata": {},
   "source": [
    "### Load and process data"
   ]
  },
  {
   "cell_type": "code",
   "execution_count": 4,
   "id": "strategic-yellow",
   "metadata": {},
   "outputs": [],
   "source": [
    "# Only need to run this once\n",
    "# It we split the data into train/test and will persist the data on disk\n",
    "# dataset.load_split_init(test_size=0.1)"
   ]
  },
  {
   "cell_type": "code",
   "execution_count": 5,
   "id": "neural-montgomery",
   "metadata": {},
   "outputs": [],
   "source": [
    "train, test = dataset.load_process_from_disk()\n",
    "\n",
    "input_names_train, weighted_relevant_names_train, all_candidates_train = train\n",
    "input_names_test, weighted_relevant_names_test, all_candidates_test = test\n",
    "\n",
    "all_candidates = np.concatenate((all_candidates_train, all_candidates_test))"
   ]
  },
  {
   "cell_type": "markdown",
   "id": "domestic-subcommittee",
   "metadata": {},
   "source": [
    "### Model"
   ]
  },
  {
   "cell_type": "code",
   "execution_count": 6,
   "id": "deadly-federal",
   "metadata": {},
   "outputs": [],
   "source": [
    "def calc_similarity_to(name, alg='levenshtein'):\n",
    "    def calc_similarity(row):\n",
    "        cand_name = row[0]\n",
    "        similarity = 0\n",
    "        if alg == 'levenshtein':\n",
    "            dist = jellyfish.levenshtein_distance(name, cand_name)\n",
    "            similarity = 1 - (dist / (max(len(name), len(cand_name)) - 2))\n",
    "        elif alg == 'jaro_winkler':\n",
    "            similarity = jellyfish.jaro_winkler_similarity(name.strip('<>'), cand_name.strip('<>'))\n",
    "        return similarity\n",
    "    return calc_similarity"
   ]
  },
  {
   "cell_type": "markdown",
   "id": "curious-spoke",
   "metadata": {},
   "source": [
    "#### Similarity Function"
   ]
  },
  {
   "cell_type": "code",
   "execution_count": 7,
   "id": "purple-cross",
   "metadata": {},
   "outputs": [],
   "source": [
    "def get_similars(name, k=10, alg='levenshtein', demo_mode=False):\n",
    "    if demo_mode:\n",
    "        name = utils.add_padding(name)\n",
    "    scores = np.apply_along_axis(calc_similarity_to(name, alg), 1, all_candidates[:,None])\n",
    "    sorted_scores_idx = np.argsort(scores)[::-1][:k]\n",
    "    candidates = all_candidates[sorted_scores_idx]\n",
    "    if demo_mode:\n",
    "        candidates = [utils.remove_padding(candidate) for candidate in candidates]\n",
    "    candidates_scores = scores[sorted_scores_idx]\n",
    "    \n",
    "    return list(zip(candidates, candidates_scores))"
   ]
  },
  {
   "cell_type": "markdown",
   "id": "italian-racing",
   "metadata": {},
   "source": [
    "#### Demo"
   ]
  },
  {
   "cell_type": "code",
   "execution_count": 8,
   "id": "periodic-power",
   "metadata": {},
   "outputs": [
    {
     "data": {
      "text/plain": [
       "[('bostelman', 1.0),\n",
       " ('bostelmann', 0.9),\n",
       " ('bostleman', 0.7777777777777778),\n",
       " ('vosselman', 0.7777777777777778),\n",
       " ('osterman', 0.7777777777777778),\n",
       " ('bokelman', 0.7777777777777778),\n",
       " ('bockelman', 0.7777777777777778),\n",
       " ('bushelman', 0.7777777777777778),\n",
       " ('fosselmann', 0.7),\n",
       " ('klosterman', 0.7)]"
      ]
     },
     "execution_count": 8,
     "metadata": {},
     "output_type": "execute_result"
    }
   ],
   "source": [
    "# get_similars('schumacher', 10, 'jaro_winkler', True)\n",
    "get_similars('bostelman', 10, 'levenshtein', True)"
   ]
  },
  {
   "cell_type": "markdown",
   "id": "awful-window",
   "metadata": {},
   "source": [
    "## Generate levenshtein scores for all test names"
   ]
  },
  {
   "cell_type": "code",
   "execution_count": 9,
   "id": "efficient-gender",
   "metadata": {},
   "outputs": [
    {
     "name": "stderr",
     "output_type": "stream",
     "text": [
      "100%|██████████| 2444/2444 [03:20<00:00, 12.16it/s]\n"
     ]
    }
   ],
   "source": [
    "k = 100 # Number of candidates to consider\n",
    "lev_name_candidates = list(map(lambda x: get_similars(x, k=k, alg='levenshtein'), tqdm(input_names_test)))"
   ]
  },
  {
   "cell_type": "code",
   "execution_count": 10,
   "id": "expensive-hindu",
   "metadata": {},
   "outputs": [
    {
     "data": {
      "text/plain": [
       "2444"
      ]
     },
     "execution_count": 10,
     "metadata": {},
     "output_type": "execute_result"
    }
   ],
   "source": [
    "len(lev_name_candidates)"
   ]
  },
  {
   "cell_type": "markdown",
   "id": "further-theology",
   "metadata": {},
   "source": [
    "#### Ugh - how can I specify [[[str,float64]]] without taking apart and re-assembling the array?"
   ]
  },
  {
   "cell_type": "code",
   "execution_count": 12,
   "id": "infectious-editing",
   "metadata": {},
   "outputs": [],
   "source": [
    "names = np.array(list(list(cell[0] for cell in row) for row in lev_name_candidates), dtype='O')\n",
    "scores = np.array(list(list(cell[1] for cell in row) for row in lev_name_candidates), dtype='f8')\n",
    "lev_candidates = np.dstack((names, scores))"
   ]
  },
  {
   "cell_type": "markdown",
   "id": "closing-roller",
   "metadata": {},
   "source": [
    "### Evaluation"
   ]
  },
  {
   "cell_type": "markdown",
   "id": "velvet-bridal",
   "metadata": {},
   "source": [
    "#### Precision@0.8"
   ]
  },
  {
   "cell_type": "code",
   "execution_count": 13,
   "id": "golden-racing",
   "metadata": {},
   "outputs": [
    {
     "data": {
      "text/plain": [
       "0.5752773261552264"
      ]
     },
     "execution_count": 13,
     "metadata": {},
     "output_type": "execute_result"
    }
   ],
   "source": [
    "metrics.avg_precision_at_threshold(weighted_relevant_names_test, lev_candidates, 0.8)"
   ]
  },
  {
   "cell_type": "markdown",
   "id": "pressed-viewer",
   "metadata": {},
   "source": [
    "#### Recall@0.8"
   ]
  },
  {
   "cell_type": "code",
   "execution_count": 14,
   "id": "false-jewel",
   "metadata": {},
   "outputs": [
    {
     "data": {
      "text/plain": [
       "0.874764347319197"
      ]
     },
     "execution_count": 14,
     "metadata": {},
     "output_type": "execute_result"
    }
   ],
   "source": [
    "metrics.avg_recall_at_threshold(weighted_relevant_names_test, lev_candidates, 0.8)"
   ]
  },
  {
   "cell_type": "markdown",
   "id": "loving-poker",
   "metadata": {},
   "source": [
    "#### Precision-Recall Curve"
   ]
  },
  {
   "cell_type": "code",
   "execution_count": 15,
   "id": "previous-acceptance",
   "metadata": {},
   "outputs": [
    {
     "data": {
      "image/png": "[encoded data removed]",
      "text/plain": [
       "<Figure size 432x288 with 1 Axes>"
      ]
     },
     "metadata": {
      "needs_background": "light"
     },
     "output_type": "display_data"
    }
   ],
   "source": [
    "# minimum score threshold to test\n",
    "min_threshold = 0.5\n",
    "metrics.precision_recall_curve_at_threshold(weighted_relevant_names_test, lev_candidates, min_threshold)"
   ]
  },
  {
   "cell_type": "markdown",
   "id": "generic-dominican",
   "metadata": {},
   "source": [
    "## Generate jaro-winkler scores for all test names"
   ]
  },
  {
   "cell_type": "code",
   "execution_count": null,
   "id": "fatty-bidder",
   "metadata": {},
   "outputs": [
    {
     "name": "stderr",
     "output_type": "stream",
     "text": [
      " 69%|██████▉   | 1696/2444 [02:13<00:58, 12.75it/s]"
     ]
    }
   ],
   "source": [
    "k = 100 # Number of candidates to consider\n",
    "jw_name_candidates = list(map(lambda x: get_similars(x, k=k, alg='jaro_winkler'), tqdm(input_names_test)))"
   ]
  },
  {
   "cell_type": "code",
   "execution_count": null,
   "id": "furnished-producer",
   "metadata": {},
   "outputs": [],
   "source": [
    "len(jw_name_candidates)"
   ]
  },
  {
   "cell_type": "code",
   "execution_count": null,
   "id": "regional-count",
   "metadata": {},
   "outputs": [],
   "source": [
    "names = np.array(list(list(cell[0] for cell in row) for row in jw_name_candidates), dtype='O')\n",
    "scores = np.array(list(list(cell[1] for cell in row) for row in jw_name_candidates), dtype='f8')\n",
    "jw_candidates = np.dstack((names, scores))"
   ]
  },
  {
   "cell_type": "markdown",
   "id": "usual-issue",
   "metadata": {},
   "source": [
    "#### Precision@0.92"
   ]
  },
  {
   "cell_type": "code",
   "execution_count": null,
   "id": "exciting-benefit",
   "metadata": {},
   "outputs": [],
   "source": [
    "metrics.avg_precision_at_threshold(weighted_relevant_names_test, jw_candidates, 0.92)"
   ]
  },
  {
   "cell_type": "markdown",
   "id": "continent-blast",
   "metadata": {},
   "source": [
    "#### Recall@0.92"
   ]
  },
  {
   "cell_type": "code",
   "execution_count": null,
   "id": "authorized-anaheim",
   "metadata": {},
   "outputs": [],
   "source": [
    "metrics.avg_recall_at_threshold(weighted_relevant_names_test, jw_candidates, 0.92)"
   ]
  },
  {
   "cell_type": "markdown",
   "id": "regular-facing",
   "metadata": {},
   "source": [
    "#### Precision-Recall Curve"
   ]
  },
  {
   "cell_type": "code",
   "execution_count": null,
   "id": "indian-gazette",
   "metadata": {},
   "outputs": [],
   "source": [
    "# minimum score threshold to test\n",
    "min_threshold = 0.5\n",
    "metrics.precision_recall_curve_at_threshold(weighted_relevant_names_test, jw_candidates, min_threshold)"
   ]
  },
  {
   "cell_type": "markdown",
   "id": "brazilian-honey",
   "metadata": {},
   "source": [
    "## Test"
   ]
  },
  {
   "cell_type": "code",
   "execution_count": null,
   "id": "clear-seattle",
   "metadata": {},
   "outputs": [],
   "source": [
    "input_names_test[251]"
   ]
  },
  {
   "cell_type": "code",
   "execution_count": null,
   "id": "intermediate-celtic",
   "metadata": {},
   "outputs": [],
   "source": [
    "weighted_relevant_names_test[251]"
   ]
  },
  {
   "cell_type": "code",
   "execution_count": null,
   "id": "conscious-biography",
   "metadata": {},
   "outputs": [],
   "source": [
    "lev_candidates[251,:5]"
   ]
  },
  {
   "cell_type": "code",
   "execution_count": null,
   "id": "fantastic-greek",
   "metadata": {},
   "outputs": [],
   "source": [
    "metrics.recall_at_threshold(weighted_relevant_names_test[251], lev_candidates[251], 0.85)"
   ]
  },
  {
   "cell_type": "code",
   "execution_count": null,
   "id": "discrete-adaptation",
   "metadata": {},
   "outputs": [],
   "source": [
    "metrics.recall_at_threshold(weighted_relevant_names_test[251], lev_candidates[251], 0.75)"
   ]
  },
  {
   "cell_type": "code",
   "execution_count": null,
   "id": "geological-twist",
   "metadata": {},
   "outputs": [],
   "source": []
  }
 ],
 "metadata": {
  "kernelspec": {
   "display_name": "Python [conda env:name-matching] *",
   "language": "python",
   "name": "conda-env-name-matching-py"
  },
  "language_info": {
   "codemirror_mode": {
    "name": "ipython",
    "version": 3
   },
   "file_extension": ".py",
   "mimetype": "text/x-python",
   "name": "python",
   "nbconvert_exporter": "python",
   "pygments_lexer": "ipython3",
   "version": "3.8.5"
  }
 },
 "nbformat": 4,
 "nbformat_minor": 5
}
