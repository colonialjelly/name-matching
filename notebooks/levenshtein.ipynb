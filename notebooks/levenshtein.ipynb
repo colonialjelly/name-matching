{
 "cells": [
  {
   "cell_type": "code",
   "execution_count": 1,
   "id": "elect-belgium",
   "metadata": {},
   "outputs": [],
   "source": [
    "%load_ext autoreload\n",
    "%autoreload 2"
   ]
  },
  {
   "cell_type": "code",
   "execution_count": 2,
   "id": "designing-narrow",
   "metadata": {},
   "outputs": [],
   "source": [
    "import sys\n",
    "sys.path.append('..')"
   ]
  },
  {
   "cell_type": "code",
   "execution_count": 3,
   "id": "fancy-candidate",
   "metadata": {},
   "outputs": [],
   "source": [
    "import numpy as np\n",
    "import jellyfish\n",
    "from tqdm import tqdm\n",
    "from sklearn.feature_extraction.text import TfidfVectorizer\n",
    "from sklearn.utils.extmath import safe_sparse_dot\n",
    "from scipy.sparse import vstack\n",
    "\n",
    "from matchers import metrics, utils, dataset"
   ]
  },
  {
   "cell_type": "code",
   "execution_count": 4,
   "id": "contemporary-vaccine",
   "metadata": {},
   "outputs": [],
   "source": [
    "np.set_printoptions(suppress=True)\n",
    "tqdm.pandas()"
   ]
  },
  {
   "cell_type": "markdown",
   "id": "particular-cambridge",
   "metadata": {},
   "source": [
    "### Load and process data"
   ]
  },
  {
   "cell_type": "code",
   "execution_count": 5,
   "id": "excited-stone",
   "metadata": {},
   "outputs": [],
   "source": [
    "# Only need to run this once\n",
    "# It we split the data into train/test and will persist the data on disk\n",
    "# dataset.load_split_init(test_size=0.1)"
   ]
  },
  {
   "cell_type": "code",
   "execution_count": 6,
   "id": "sticky-overview",
   "metadata": {},
   "outputs": [],
   "source": [
    "train, test = dataset.load_process_from_disk()\n",
    "\n",
    "input_names_train, weighted_relevant_names_train, all_candidates_train = train\n",
    "input_names_test, weighted_relevant_names_test, all_candidates_test = test\n",
    "\n",
    "all_candidates = np.concatenate((all_candidates_train, all_candidates_test))"
   ]
  },
  {
   "cell_type": "markdown",
   "id": "incomplete-drawing",
   "metadata": {},
   "source": [
    "### Model"
   ]
  },
  {
   "cell_type": "code",
   "execution_count": 7,
   "id": "exclusive-african",
   "metadata": {},
   "outputs": [],
   "source": [
    "def calc_similarity_to(name, alg='levenshtein'):\n",
    "    name = utils.remove_padding(name)\n",
    "    def calc_similarity(row):\n",
    "        cand_name = utils.remove_padding(row[0])\n",
    "        similarity = 0\n",
    "        if alg == 'levenshtein':\n",
    "            dist = jellyfish.levenshtein_distance(name, cand_name)\n",
    "            similarity = 1 - (dist / max(len(name), len(cand_name)))\n",
    "        elif alg == 'jaro_winkler':\n",
    "            similarity = jellyfish.jaro_winkler_similarity(name, cand_name)\n",
    "        return similarity\n",
    "    return calc_similarity"
   ]
  },
  {
   "cell_type": "markdown",
   "id": "vital-alias",
   "metadata": {},
   "source": [
    "#### Similarity Function"
   ]
  },
  {
   "cell_type": "code",
   "execution_count": 8,
   "id": "above-glasgow",
   "metadata": {},
   "outputs": [],
   "source": [
    "def get_similars(name, k=10, alg='levenshtein', demo_mode=False):\n",
    "    if demo_mode:\n",
    "        name = utils.add_padding(name)\n",
    "    scores = np.apply_along_axis(calc_similarity_to(name, alg), 1, all_candidates[:,None])\n",
    "    sorted_scores_idx = np.argsort(scores)[::-1][:k]\n",
    "    candidates = all_candidates[sorted_scores_idx]\n",
    "    if demo_mode:\n",
    "        candidates = [utils.remove_padding(candidate) for candidate in candidates]\n",
    "    candidates_scores = scores[sorted_scores_idx]\n",
    "    \n",
    "    return list(zip(candidates, candidates_scores))"
   ]
  },
  {
   "cell_type": "markdown",
   "id": "athletic-double",
   "metadata": {},
   "source": [
    "#### Demo"
   ]
  },
  {
   "cell_type": "code",
   "execution_count": 9,
   "id": "angry-amount",
   "metadata": {},
   "outputs": [
    {
     "data": {
      "text/plain": [
       "[('bostelman', 1.0),\n",
       " ('bostelmann', 0.9),\n",
       " ('bostleman', 0.7777777777777778),\n",
       " ('vosselman', 0.7777777777777778),\n",
       " ('osterman', 0.7777777777777778),\n",
       " ('bokelman', 0.7777777777777778),\n",
       " ('bockelman', 0.7777777777777778),\n",
       " ('bushelman', 0.7777777777777778),\n",
       " ('fosselmann', 0.7),\n",
       " ('klosterman', 0.7)]"
      ]
     },
     "execution_count": 9,
     "metadata": {},
     "output_type": "execute_result"
    }
   ],
   "source": [
    "# get_similars('schumacher', 10, 'jaro_winkler', True)\n",
    "get_similars('bostelman', 10, 'levenshtein', True)"
   ]
  },
  {
   "cell_type": "markdown",
   "id": "assisted-start",
   "metadata": {},
   "source": [
    "## Generate levenshtein scores for all test names"
   ]
  },
  {
   "cell_type": "code",
   "execution_count": 10,
   "id": "fifty-diesel",
   "metadata": {},
   "outputs": [
    {
     "name": "stderr",
     "output_type": "stream",
     "text": [
      "100%|██████████| 2444/2444 [03:43<00:00, 10.96it/s]\n"
     ]
    }
   ],
   "source": [
    "k = 100 # Number of candidates to consider\n",
    "lev_name_candidates = list(map(lambda x: get_similars(x, k=k, alg='levenshtein'), tqdm(input_names_test)))"
   ]
  },
  {
   "cell_type": "code",
   "execution_count": 11,
   "id": "equipped-package",
   "metadata": {},
   "outputs": [
    {
     "data": {
      "text/plain": [
       "2444"
      ]
     },
     "execution_count": 11,
     "metadata": {},
     "output_type": "execute_result"
    }
   ],
   "source": [
    "len(lev_name_candidates)"
   ]
  },
  {
   "cell_type": "markdown",
   "id": "other-mainland",
   "metadata": {},
   "source": [
    "#### Ugh - how can I specify [[[str,float64]]] without taking apart and re-assembling the array?"
   ]
  },
  {
   "cell_type": "code",
   "execution_count": 12,
   "id": "higher-completion",
   "metadata": {},
   "outputs": [],
   "source": [
    "names = np.array(list(list(cell[0] for cell in row) for row in lev_name_candidates), dtype='O')\n",
    "scores = np.array(list(list(cell[1] for cell in row) for row in lev_name_candidates), dtype='f8')\n",
    "lev_candidates = np.dstack((names, scores))"
   ]
  },
  {
   "cell_type": "markdown",
   "id": "infrared-vanilla",
   "metadata": {},
   "source": [
    "### Evaluation"
   ]
  },
  {
   "cell_type": "code",
   "execution_count": 13,
   "id": "fifty-intranet",
   "metadata": {},
   "outputs": [],
   "source": [
    "relevant_names_test = [[name for name, _, _ in name_weights] for name_weights in weighted_relevant_names_test]\n",
    "candidate_names_test = [[name for name, _ in name_similarities] for name_similarities in lev_name_candidates]"
   ]
  },
  {
   "cell_type": "code",
   "execution_count": 14,
   "id": "right-johns",
   "metadata": {},
   "outputs": [
    {
     "data": {
      "image/png": "[encoded data removed]",
      "text/plain": [
       "<Figure size 432x288 with 1 Axes>"
      ]
     },
     "metadata": {
      "needs_background": "light"
     },
     "output_type": "display_data"
    }
   ],
   "source": [
    "metrics.precision_recall_curve(relevant_names_test, candidate_names_test, k)"
   ]
  },
  {
   "cell_type": "markdown",
   "id": "downtown-pillow",
   "metadata": {},
   "source": [
    "#### Precision@0.8"
   ]
  },
  {
   "cell_type": "code",
   "execution_count": 61,
   "id": "academic-place",
   "metadata": {},
   "outputs": [
    {
     "data": {
      "text/plain": [
       "0.6243342146658792"
      ]
     },
     "execution_count": 61,
     "metadata": {},
     "output_type": "execute_result"
    }
   ],
   "source": [
    "metrics.avg_precision_at_threshold(weighted_relevant_names_test, lev_candidates, 0.833)"
   ]
  },
  {
   "cell_type": "markdown",
   "id": "painted-termination",
   "metadata": {},
   "source": [
    "#### Recall@0.8"
   ]
  },
  {
   "cell_type": "code",
   "execution_count": 60,
   "id": "moved-failing",
   "metadata": {},
   "outputs": [
    {
     "data": {
      "text/plain": [
       "0.811057863747893"
      ]
     },
     "execution_count": 60,
     "metadata": {},
     "output_type": "execute_result"
    }
   ],
   "source": [
    "metrics.avg_recall_at_threshold(weighted_relevant_names_test, lev_candidates, 0.833)"
   ]
  },
  {
   "cell_type": "markdown",
   "id": "falling-stockholm",
   "metadata": {},
   "source": [
    "#### Precision-Recall Curve"
   ]
  },
  {
   "cell_type": "code",
   "execution_count": 17,
   "id": "painted-punch",
   "metadata": {},
   "outputs": [
    {
     "data": {
      "image/png": "[encoded data removed]",
      "text/plain": [
       "<Figure size 432x288 with 1 Axes>"
      ]
     },
     "metadata": {
      "needs_background": "light"
     },
     "output_type": "display_data"
    }
   ],
   "source": [
    "# minimum score threshold to test\n",
    "min_threshold = 0.5\n",
    "metrics.precision_recall_curve_at_threshold(weighted_relevant_names_test, lev_candidates, min_threshold)"
   ]
  },
  {
   "cell_type": "code",
   "execution_count": 50,
   "id": "formal-lunch",
   "metadata": {},
   "outputs": [
    {
     "data": {
      "text/plain": [
       "0.6354260895680246"
      ]
     },
     "execution_count": 50,
     "metadata": {},
     "output_type": "execute_result"
    }
   ],
   "source": [
    "metrics.get_auc(weighted_relevant_names_test, lev_candidates, step=.01)"
   ]
  },
  {
   "cell_type": "markdown",
   "id": "vital-modification",
   "metadata": {},
   "source": [
    "## Generate jaro-winkler scores for all test names"
   ]
  },
  {
   "cell_type": "code",
   "execution_count": 18,
   "id": "automatic-moses",
   "metadata": {},
   "outputs": [
    {
     "name": "stderr",
     "output_type": "stream",
     "text": [
      "100%|██████████| 2444/2444 [03:27<00:00, 11.76it/s]\n"
     ]
    }
   ],
   "source": [
    "k = 100 # Number of candidates to consider\n",
    "jw_name_candidates = list(map(lambda x: get_similars(x, k=k, alg='jaro_winkler'), tqdm(input_names_test)))"
   ]
  },
  {
   "cell_type": "code",
   "execution_count": 19,
   "id": "alternative-memphis",
   "metadata": {},
   "outputs": [
    {
     "data": {
      "text/plain": [
       "2444"
      ]
     },
     "execution_count": 19,
     "metadata": {},
     "output_type": "execute_result"
    }
   ],
   "source": [
    "len(jw_name_candidates)"
   ]
  },
  {
   "cell_type": "code",
   "execution_count": 20,
   "id": "sorted-birmingham",
   "metadata": {},
   "outputs": [],
   "source": [
    "names = np.array(list(list(cell[0] for cell in row) for row in jw_name_candidates), dtype='O')\n",
    "scores = np.array(list(list(cell[1] for cell in row) for row in jw_name_candidates), dtype='f8')\n",
    "jw_candidates = np.dstack((names, scores))"
   ]
  },
  {
   "cell_type": "markdown",
   "id": "spiritual-swaziland",
   "metadata": {},
   "source": [
    "### Evaluation"
   ]
  },
  {
   "cell_type": "code",
   "execution_count": 21,
   "id": "fitting-reading",
   "metadata": {},
   "outputs": [],
   "source": [
    "candidate_names_test = [[name for name, _ in name_similarities] for name_similarities in jw_name_candidates]"
   ]
  },
  {
   "cell_type": "code",
   "execution_count": 22,
   "id": "adjacent-slide",
   "metadata": {},
   "outputs": [
    {
     "data": {
      "image/png": "[encoded data removed]",
      "text/plain": [
       "<Figure size 432x288 with 1 Axes>"
      ]
     },
     "metadata": {
      "needs_background": "light"
     },
     "output_type": "display_data"
    }
   ],
   "source": [
    "metrics.precision_recall_curve(relevant_names_test, candidate_names_test, k)"
   ]
  },
  {
   "cell_type": "markdown",
   "id": "anonymous-posting",
   "metadata": {},
   "source": [
    "#### Precision@0.92"
   ]
  },
  {
   "cell_type": "code",
   "execution_count": 23,
   "id": "realistic-buyer",
   "metadata": {},
   "outputs": [
    {
     "data": {
      "text/plain": [
       "0.30025209139634457"
      ]
     },
     "execution_count": 23,
     "metadata": {},
     "output_type": "execute_result"
    }
   ],
   "source": [
    "metrics.avg_precision_at_threshold(weighted_relevant_names_test, jw_candidates, 0.88)"
   ]
  },
  {
   "cell_type": "markdown",
   "id": "optical-water",
   "metadata": {},
   "source": [
    "#### Recall@0.92"
   ]
  },
  {
   "cell_type": "code",
   "execution_count": 24,
   "id": "broadband-silicon",
   "metadata": {},
   "outputs": [
    {
     "data": {
      "text/plain": [
       "0.9547201989339293"
      ]
     },
     "execution_count": 24,
     "metadata": {},
     "output_type": "execute_result"
    }
   ],
   "source": [
    "metrics.avg_recall_at_threshold(weighted_relevant_names_test, jw_candidates, 0.88)"
   ]
  },
  {
   "cell_type": "markdown",
   "id": "short-victor",
   "metadata": {},
   "source": [
    "#### Precision-Recall Curve"
   ]
  },
  {
   "cell_type": "code",
   "execution_count": 25,
   "id": "royal-egypt",
   "metadata": {},
   "outputs": [
    {
     "data": {
      "image/png": "[encoded data removed]",
      "text/plain": [
       "<Figure size 432x288 with 1 Axes>"
      ]
     },
     "metadata": {
      "needs_background": "light"
     },
     "output_type": "display_data"
    }
   ],
   "source": [
    "# minimum score threshold to test\n",
    "min_threshold = 0.5\n",
    "metrics.precision_recall_curve_at_threshold(weighted_relevant_names_test, jw_candidates, min_threshold)"
   ]
  },
  {
   "cell_type": "markdown",
   "id": "hairy-break",
   "metadata": {},
   "source": [
    "## Test"
   ]
  },
  {
   "cell_type": "code",
   "execution_count": 26,
   "id": "driven-investment",
   "metadata": {},
   "outputs": [
    {
     "data": {
      "text/plain": [
       "'<bostelman>'"
      ]
     },
     "execution_count": 26,
     "metadata": {},
     "output_type": "execute_result"
    }
   ],
   "source": [
    "input_names_test[251]"
   ]
  },
  {
   "cell_type": "code",
   "execution_count": 27,
   "id": "descending-science",
   "metadata": {},
   "outputs": [
    {
     "data": {
      "text/plain": [
       "[('<bostelmann>', 0.6784565916398714, 211),\n",
       " ('<bostleman>', 0.3215434083601286, 100)]"
      ]
     },
     "execution_count": 27,
     "metadata": {},
     "output_type": "execute_result"
    }
   ],
   "source": [
    "weighted_relevant_names_test[251]"
   ]
  },
  {
   "cell_type": "code",
   "execution_count": 28,
   "id": "current-second",
   "metadata": {},
   "outputs": [
    {
     "data": {
      "text/plain": [
       "array([['<bostelman>', 1.0],\n",
       "       ['<bostelmann>', 0.9],\n",
       "       ['<bostleman>', 0.7777777777777778],\n",
       "       ['<vosselman>', 0.7777777777777778],\n",
       "       ['<osterman>', 0.7777777777777778]], dtype=object)"
      ]
     },
     "execution_count": 28,
     "metadata": {},
     "output_type": "execute_result"
    }
   ],
   "source": [
    "lev_candidates[251,:5]"
   ]
  },
  {
   "cell_type": "code",
   "execution_count": 29,
   "id": "applicable-value",
   "metadata": {},
   "outputs": [
    {
     "data": {
      "text/plain": [
       "0.6784565916398714"
      ]
     },
     "execution_count": 29,
     "metadata": {},
     "output_type": "execute_result"
    }
   ],
   "source": [
    "metrics.recall_at_threshold(weighted_relevant_names_test[251], lev_candidates[251], 0.85)"
   ]
  },
  {
   "cell_type": "code",
   "execution_count": 30,
   "id": "played-transcript",
   "metadata": {},
   "outputs": [
    {
     "data": {
      "text/plain": [
       "1.0"
      ]
     },
     "execution_count": 30,
     "metadata": {},
     "output_type": "execute_result"
    }
   ],
   "source": [
    "metrics.recall_at_threshold(weighted_relevant_names_test[251], lev_candidates[251], 0.75)"
   ]
  },
  {
   "cell_type": "code",
   "execution_count": null,
   "id": "auburn-mercy",
   "metadata": {},
   "outputs": [],
   "source": []
  }
 ],
 "metadata": {
  "kernelspec": {
   "display_name": "Python [conda env:name-matching] *",
   "language": "python",
   "name": "conda-env-name-matching-py"
  },
  "language_info": {
   "codemirror_mode": {
    "name": "ipython",
    "version": 3
   },
   "file_extension": ".py",
   "mimetype": "text/x-python",
   "name": "python",
   "nbconvert_exporter": "python",
   "pygments_lexer": "ipython3",
   "version": "3.8.5"
  }
 },
 "nbformat": 4,
 "nbformat_minor": 5
}
