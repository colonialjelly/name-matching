{
 "cells": [
  {
   "cell_type": "code",
   "execution_count": 1,
   "id": "cathedral-converter",
   "metadata": {},
   "outputs": [],
   "source": [
    "%load_ext autoreload\n",
    "%autoreload 2"
   ]
  },
  {
   "cell_type": "code",
   "execution_count": 2,
   "id": "productive-intervention",
   "metadata": {},
   "outputs": [],
   "source": [
    "import numpy as np\n",
    "from tqdm import tqdm\n",
    "from sklearn.feature_extraction.text import TfidfVectorizer\n",
    "from sklearn.utils.extmath import safe_sparse_dot\n",
    "from scipy.sparse import vstack\n",
    "\n",
    "from matchers import metrics, utils, dataset"
   ]
  },
  {
   "cell_type": "code",
   "execution_count": 3,
   "id": "optimum-keeping",
   "metadata": {},
   "outputs": [],
   "source": [
    "np.set_printoptions(suppress=True)\n",
    "tqdm.pandas()"
   ]
  },
  {
   "cell_type": "markdown",
   "id": "neither-ranking",
   "metadata": {},
   "source": [
    "### Load and process data"
   ]
  },
  {
   "cell_type": "code",
   "execution_count": 4,
   "id": "final-liabilities",
   "metadata": {},
   "outputs": [],
   "source": [
    "# Only need to run this once\n",
    "# It we split the data into train/test and will persist the data on disk\n",
    "# dataset.load_split_init(test_size=0.1)"
   ]
  },
  {
   "cell_type": "code",
   "execution_count": 5,
   "id": "novel-director",
   "metadata": {},
   "outputs": [],
   "source": [
    "train, test = dataset.load_process_from_disk()\n",
    "\n",
    "input_names_train, weighted_relevant_names_train, all_candidates_train = train\n",
    "input_names_test, weighted_relevant_names_test, all_candidates_test = test\n",
    "\n",
    "all_candidates = np.concatenate((all_candidates_train, all_candidates_test))"
   ]
  },
  {
   "cell_type": "markdown",
   "id": "vital-homeless",
   "metadata": {},
   "source": [
    "### Model"
   ]
  },
  {
   "cell_type": "code",
   "execution_count": 6,
   "id": "horizontal-wisconsin",
   "metadata": {},
   "outputs": [],
   "source": [
    "vectorizer = TfidfVectorizer(ngram_range=(1, 3), analyzer='char_wb', min_df=10, max_df=0.5)"
   ]
  },
  {
   "cell_type": "code",
   "execution_count": 7,
   "id": "varying-essence",
   "metadata": {},
   "outputs": [],
   "source": [
    "X_train = vectorizer.fit_transform(all_candidates_train)\n",
    "X_test = vectorizer.transform(all_candidates_test)\n",
    "X_all = vstack((X_train, X_test))"
   ]
  },
  {
   "cell_type": "markdown",
   "id": "robust-johnston",
   "metadata": {},
   "source": [
    "#### Similarity Function"
   ]
  },
  {
   "cell_type": "code",
   "execution_count": 8,
   "id": "psychological-archives",
   "metadata": {},
   "outputs": [],
   "source": [
    "def get_similars(name, k=10, demo_mode=False):\n",
    "    if demo_mode:\n",
    "        name = utils.add_padding(name)\n",
    "    x = vectorizer.transform([name]).toarray()\n",
    "    scores = safe_sparse_dot(X_all, x.T).flatten()\n",
    "    sorted_scores_idx = np.argsort(scores)[::-1][:k]\n",
    "    candidates = all_candidates[sorted_scores_idx]\n",
    "    if demo_mode:\n",
    "        candidates = [utils.remove_padding(candidate) for candidate in candidates]\n",
    "    candidates_scores = scores[sorted_scores_idx]\n",
    "    \n",
    "    return list(zip(candidates, candidates_scores))"
   ]
  },
  {
   "cell_type": "markdown",
   "id": "elder-burden",
   "metadata": {},
   "source": [
    "#### Demo"
   ]
  },
  {
   "cell_type": "code",
   "execution_count": 9,
   "id": "breathing-access",
   "metadata": {},
   "outputs": [
    {
     "data": {
      "text/plain": [
       "[('schumacker', 0.8084019391224851),\n",
       " ('schuman', 0.7498062862635078),\n",
       " ('schumann', 0.7021428274919617),\n",
       " ('schumaker', 0.6903799002710765),\n",
       " ('schacher', 0.6546075134964433),\n",
       " ('schum', 0.6372560334730984),\n",
       " ('scheuman', 0.5587998782852258),\n",
       " ('hamacher', 0.542549261402101),\n",
       " ('amacher', 0.5372510049299706),\n",
       " ('stelmacher', 0.5293322424252592)]"
      ]
     },
     "execution_count": 9,
     "metadata": {},
     "output_type": "execute_result"
    }
   ],
   "source": [
    "get_similars('schumacher', 10, True)"
   ]
  },
  {
   "cell_type": "markdown",
   "id": "contemporary-stationery",
   "metadata": {},
   "source": [
    "### Generate candidates for all test names"
   ]
  },
  {
   "cell_type": "code",
   "execution_count": null,
   "id": "pleased-subcommittee",
   "metadata": {},
   "outputs": [
    {
     "name": "stderr",
     "output_type": "stream",
     "text": [
      " 68%|██████▊   | 1659/2444 [00:04<00:01, 408.06it/s]"
     ]
    }
   ],
   "source": [
    "k = 100 # Number of candidates to consider\n",
    "name_candidates = list(map(lambda x: get_similars(x, k=k), tqdm(input_names_test)))"
   ]
  },
  {
   "cell_type": "code",
   "execution_count": null,
   "id": "aboriginal-museum",
   "metadata": {},
   "outputs": [],
   "source": [
    "len(name_candidates)"
   ]
  },
  {
   "cell_type": "markdown",
   "id": "expired-progress",
   "metadata": {},
   "source": [
    "#### Ugh - how can I specify [[[str,float64]]] without taking apart and re-assembling the array?"
   ]
  },
  {
   "cell_type": "code",
   "execution_count": null,
   "id": "equivalent-timothy",
   "metadata": {},
   "outputs": [],
   "source": [
    "names = np.array(list(list(cell[0] for cell in row) for row in name_candidates), dtype='O')\n",
    "scores = np.array(list(list(cell[1] for cell in row) for row in name_candidates), dtype='f8')\n",
    "candidates = np.dstack((names, scores))"
   ]
  },
  {
   "cell_type": "markdown",
   "id": "handed-latter",
   "metadata": {},
   "source": [
    "#### Ugh - how can I specify [[[str,float64]]] without taking apart and re-assembling the array?"
   ]
  },
  {
   "cell_type": "markdown",
   "id": "quarterly-internship",
   "metadata": {},
   "source": [
    "### Evaluation"
   ]
  },
  {
   "cell_type": "markdown",
   "id": "earned-twist",
   "metadata": {},
   "source": [
    "### Average precision @0.65"
   ]
  },
  {
   "cell_type": "code",
   "execution_count": null,
   "id": "caroline-header",
   "metadata": {},
   "outputs": [],
   "source": [
    "metrics.avg_precision_at_threshold(weighted_relevant_names_test, candidates, 0.65)"
   ]
  },
  {
   "cell_type": "markdown",
   "id": "promotional-blame",
   "metadata": {},
   "source": [
    "### Average recall @0.8"
   ]
  },
  {
   "cell_type": "code",
   "execution_count": null,
   "id": "linear-resistance",
   "metadata": {},
   "outputs": [],
   "source": [
    "metrics.avg_recall_at_threshold(weighted_relevant_names_test, candidates, 0.65)"
   ]
  },
  {
   "cell_type": "markdown",
   "id": "broken-giant",
   "metadata": {},
   "source": [
    "### Precision-Recall Curve"
   ]
  },
  {
   "cell_type": "code",
   "execution_count": null,
   "id": "muslim-investor",
   "metadata": {},
   "outputs": [],
   "source": [
    "# minimum score threshold to test\n",
    "min_threshold = 0.5\n",
    "metrics.precision_recall_curve_at_threshold(weighted_relevant_names_test, candidates, min_threshold)"
   ]
  },
  {
   "cell_type": "markdown",
   "id": "explicit-corruption",
   "metadata": {},
   "source": [
    "### Test"
   ]
  },
  {
   "cell_type": "code",
   "execution_count": null,
   "id": "residential-adelaide",
   "metadata": {},
   "outputs": [],
   "source": [
    "input_names_test[251]"
   ]
  },
  {
   "cell_type": "code",
   "execution_count": null,
   "id": "invalid-refrigerator",
   "metadata": {},
   "outputs": [],
   "source": [
    "weighted_relevant_names_test[251]"
   ]
  },
  {
   "cell_type": "code",
   "execution_count": null,
   "id": "clinical-lucas",
   "metadata": {},
   "outputs": [],
   "source": [
    "candidates[251][:10]"
   ]
  },
  {
   "cell_type": "code",
   "execution_count": null,
   "id": "mysterious-value",
   "metadata": {},
   "outputs": [],
   "source": [
    "metrics.recall_at_threshold(weighted_relevant_names_test[251], candidates[251], 0.9)"
   ]
  },
  {
   "cell_type": "code",
   "execution_count": null,
   "id": "attractive-nicaragua",
   "metadata": {},
   "outputs": [],
   "source": [
    "metrics.recall_at_threshold(weighted_relevant_names_test[251], candidates[251], 0.5)"
   ]
  },
  {
   "cell_type": "code",
   "execution_count": null,
   "id": "roman-shooting",
   "metadata": {},
   "outputs": [],
   "source": []
  }
 ],
 "metadata": {
  "kernelspec": {
   "display_name": "Python [conda env:name-matching] *",
   "language": "python",
   "name": "conda-env-name-matching-py"
  },
  "language_info": {
   "codemirror_mode": {
    "name": "ipython",
    "version": 3
   },
   "file_extension": ".py",
   "mimetype": "text/x-python",
   "name": "python",
   "nbconvert_exporter": "python",
   "pygments_lexer": "ipython3",
   "version": "3.8.5"
  }
 },
 "nbformat": 4,
 "nbformat_minor": 5
}
