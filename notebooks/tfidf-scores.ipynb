{
 "cells": [
  {
   "cell_type": "code",
   "execution_count": 1,
   "id": "dominican-current",
   "metadata": {},
   "outputs": [],
   "source": [
    "%load_ext autoreload\n",
    "%autoreload 2"
   ]
  },
  {
   "cell_type": "code",
   "execution_count": 2,
   "id": "together-marketing",
   "metadata": {},
   "outputs": [],
   "source": [
    "import numpy as np\n",
    "from tqdm import tqdm\n",
    "from sklearn.feature_extraction.text import TfidfVectorizer\n",
    "from sklearn.utils.extmath import safe_sparse_dot\n",
    "from scipy.sparse import vstack\n",
    "\n",
    "from matchers import metrics, utils, dataset"
   ]
  },
  {
   "cell_type": "code",
   "execution_count": 3,
   "id": "iraqi-hepatitis",
   "metadata": {},
   "outputs": [],
   "source": [
    "np.set_printoptions(suppress=True)\n",
    "tqdm.pandas()"
   ]
  },
  {
   "cell_type": "markdown",
   "id": "hired-encyclopedia",
   "metadata": {},
   "source": [
    "### Load and process data"
   ]
  },
  {
   "cell_type": "code",
   "execution_count": 4,
   "id": "incoming-preference",
   "metadata": {},
   "outputs": [],
   "source": [
    "# Only need to run this once\n",
    "# It we split the data into train/test and will persist the data on disk\n",
    "# dataset.load_split_init(test_size=0.1)"
   ]
  },
  {
   "cell_type": "code",
   "execution_count": 5,
   "id": "honest-arbor",
   "metadata": {},
   "outputs": [],
   "source": [
    "train, test = dataset.load_process_from_disk()\n",
    "\n",
    "input_names_train, weighted_relevant_names_train, all_candidates_train = train\n",
    "input_names_test, weighted_relevant_names_test, all_candidates_test = test\n",
    "\n",
    "all_candidates = np.concatenate((all_candidates_train, all_candidates_test))"
   ]
  },
  {
   "cell_type": "markdown",
   "id": "moving-stations",
   "metadata": {},
   "source": [
    "### Model"
   ]
  },
  {
   "cell_type": "code",
   "execution_count": 6,
   "id": "gentle-letter",
   "metadata": {},
   "outputs": [],
   "source": [
    "vectorizer = TfidfVectorizer(ngram_range=(1, 3), analyzer='char_wb', min_df=10, max_df=0.5)"
   ]
  },
  {
   "cell_type": "code",
   "execution_count": 7,
   "id": "cleared-distribution",
   "metadata": {},
   "outputs": [],
   "source": [
    "X_train = vectorizer.fit_transform(all_candidates_train)\n",
    "X_test = vectorizer.transform(all_candidates_test)\n",
    "X_all = vstack((X_train, X_test))"
   ]
  },
  {
   "cell_type": "markdown",
   "id": "indie-march",
   "metadata": {},
   "source": [
    "#### Similarity Function"
   ]
  },
  {
   "cell_type": "code",
   "execution_count": 8,
   "id": "necessary-reach",
   "metadata": {},
   "outputs": [],
   "source": [
    "def get_similars(name, k=10, demo_mode=False):\n",
    "    if demo_mode:\n",
    "        name = utils.add_padding(name)\n",
    "    x = vectorizer.transform([name]).toarray()\n",
    "    scores = safe_sparse_dot(X_all, x.T).flatten()\n",
    "    sorted_scores_idx = np.argsort(scores)[::-1][:k]\n",
    "    candidates = all_candidates[sorted_scores_idx]\n",
    "    if demo_mode:\n",
    "        candidates = [utils.remove_padding(candidate) for candidate in candidates]\n",
    "    candidates_scores = scores[sorted_scores_idx]\n",
    "    \n",
    "    return list(zip(candidates, candidates_scores))"
   ]
  },
  {
   "cell_type": "markdown",
   "id": "proved-jason",
   "metadata": {},
   "source": [
    "#### Demo"
   ]
  },
  {
   "cell_type": "code",
   "execution_count": 9,
   "id": "infectious-processor",
   "metadata": {},
   "outputs": [
    {
     "data": {
      "text/plain": [
       "[('schumacker', 0.8091910201105204),\n",
       " ('schuman', 0.7499740328601138),\n",
       " ('schumann', 0.7028078364574786),\n",
       " ('schumaker', 0.691594961530637),\n",
       " ('schacher', 0.6555404281281796),\n",
       " ('schum', 0.6374145590188357),\n",
       " ('scheuman', 0.5581458870921694),\n",
       " ('hamacher', 0.5427420219299985),\n",
       " ('amacher', 0.5366064690591383),\n",
       " ('stelmacher', 0.5298472894115192)]"
      ]
     },
     "execution_count": 9,
     "metadata": {},
     "output_type": "execute_result"
    }
   ],
   "source": [
    "get_similars('schumacher', 10, True)"
   ]
  },
  {
   "cell_type": "markdown",
   "id": "continent-sending",
   "metadata": {},
   "source": [
    "### Generate candidates for all test names"
   ]
  },
  {
   "cell_type": "code",
   "execution_count": 10,
   "id": "conventional-design",
   "metadata": {},
   "outputs": [
    {
     "name": "stderr",
     "output_type": "stream",
     "text": [
      "100%|██████████| 2452/2452 [00:08<00:00, 302.91it/s]\n"
     ]
    }
   ],
   "source": [
    "k = 100 # Number of candidates to consider\n",
    "name_candidates = list(map(lambda x: get_similars(x, k=k), tqdm(input_names_test)))"
   ]
  },
  {
   "cell_type": "code",
   "execution_count": 11,
   "id": "romantic-motivation",
   "metadata": {},
   "outputs": [
    {
     "data": {
      "text/plain": [
       "2452"
      ]
     },
     "execution_count": 11,
     "metadata": {},
     "output_type": "execute_result"
    }
   ],
   "source": [
    "len(name_candidates)"
   ]
  },
  {
   "cell_type": "code",
   "execution_count": 12,
   "id": "false-recording",
   "metadata": {},
   "outputs": [],
   "source": [
    "candidates = np.array(name_candidates, dtype=[('name','O'),('score', 'f8')])"
   ]
  },
  {
   "cell_type": "markdown",
   "id": "positive-mumbai",
   "metadata": {},
   "source": [
    "### Evaluation"
   ]
  },
  {
   "cell_type": "markdown",
   "id": "systematic-staff",
   "metadata": {},
   "source": [
    "### mAP@0.8"
   ]
  },
  {
   "cell_type": "code",
   "execution_count": 13,
   "id": "reduced-setting",
   "metadata": {},
   "outputs": [
    {
     "data": {
      "text/plain": [
       "0.6938893420337139"
      ]
     },
     "execution_count": 13,
     "metadata": {},
     "output_type": "execute_result"
    }
   ],
   "source": [
    "metrics.avg_precision_at_threshold(weighted_relevant_names_test, candidates, 0.8)"
   ]
  },
  {
   "cell_type": "markdown",
   "id": "professional-withdrawal",
   "metadata": {},
   "source": [
    "### mAP@0.5"
   ]
  },
  {
   "cell_type": "code",
   "execution_count": 14,
   "id": "right-armor",
   "metadata": {},
   "outputs": [
    {
     "data": {
      "text/plain": [
       "0.19117343262179495"
      ]
     },
     "execution_count": 14,
     "metadata": {},
     "output_type": "execute_result"
    }
   ],
   "source": [
    "metrics.avg_precision_at_threshold(weighted_relevant_names_test, candidates, 0.5)"
   ]
  },
  {
   "cell_type": "markdown",
   "id": "interested-somalia",
   "metadata": {},
   "source": [
    "### Precision-Recall Curve"
   ]
  },
  {
   "cell_type": "code",
   "execution_count": 15,
   "id": "vietnamese-fourth",
   "metadata": {},
   "outputs": [
    {
     "data": {
      "image/png": "[encoded data removed]",
      "text/plain": [
       "<Figure size 432x288 with 1 Axes>"
      ]
     },
     "metadata": {
      "needs_background": "light"
     },
     "output_type": "display_data"
    }
   ],
   "source": [
    "# minimum score threshold to test\n",
    "min_threshold = 0.5\n",
    "metrics.precision_recall_curve_at_threshold(weighted_relevant_names_test, candidates, min_threshold)"
   ]
  },
  {
   "cell_type": "markdown",
   "id": "julian-passenger",
   "metadata": {},
   "source": [
    "### Test"
   ]
  },
  {
   "cell_type": "code",
   "execution_count": 16,
   "id": "honest-burning",
   "metadata": {},
   "outputs": [
    {
     "data": {
      "text/plain": [
       "[('<abraham>', 1.0)]"
      ]
     },
     "execution_count": 16,
     "metadata": {},
     "output_type": "execute_result"
    }
   ],
   "source": [
    "weighted_relevant_names_test[8]"
   ]
  },
  {
   "cell_type": "code",
   "execution_count": 17,
   "id": "hydraulic-jamaica",
   "metadata": {},
   "outputs": [
    {
     "data": {
      "text/plain": [
       "array([('<abrahams>', 1.        ), ('<abraham>', 0.7997712 ),\n",
       "       ('<abrahart>', 0.70755729), ('<abram>', 0.54115503),\n",
       "       ('<mathams>', 0.46421162)], dtype=[('name', 'O'), ('score', '<f8')])"
      ]
     },
     "execution_count": 17,
     "metadata": {},
     "output_type": "execute_result"
    }
   ],
   "source": [
    "candidates[8][:5]"
   ]
  },
  {
   "cell_type": "code",
   "execution_count": 18,
   "id": "stainless-family",
   "metadata": {},
   "outputs": [
    {
     "data": {
      "text/plain": [
       "1.0"
      ]
     },
     "execution_count": 18,
     "metadata": {},
     "output_type": "execute_result"
    }
   ],
   "source": [
    "metrics.recall_at_threshold(weighted_relevant_names_test[8], candidates[8], 0.77)"
   ]
  },
  {
   "cell_type": "code",
   "execution_count": 19,
   "id": "educated-plain",
   "metadata": {},
   "outputs": [
    {
     "data": {
      "text/plain": [
       "1.0"
      ]
     },
     "execution_count": 19,
     "metadata": {},
     "output_type": "execute_result"
    }
   ],
   "source": [
    "metrics.recall_at_threshold(weighted_relevant_names_test[8], candidates[8], 0.71)"
   ]
  },
  {
   "cell_type": "code",
   "execution_count": null,
   "id": "solid-hospital",
   "metadata": {},
   "outputs": [],
   "source": []
  }
 ],
 "metadata": {
  "kernelspec": {
   "display_name": "Python [conda env:name-matching] *",
   "language": "python",
   "name": "conda-env-name-matching-py"
  },
  "language_info": {
   "codemirror_mode": {
    "name": "ipython",
    "version": 3
   },
   "file_extension": ".py",
   "mimetype": "text/x-python",
   "name": "python",
   "nbconvert_exporter": "python",
   "pygments_lexer": "ipython3",
   "version": "3.8.5"
  }
 },
 "nbformat": 4,
 "nbformat_minor": 5
}
