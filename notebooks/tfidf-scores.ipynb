{
 "cells": [
  {
   "cell_type": "code",
   "execution_count": 1,
   "id": "dominican-current",
   "metadata": {},
   "outputs": [],
   "source": [
    "%load_ext autoreload\n",
    "%autoreload 2"
   ]
  },
  {
   "cell_type": "code",
   "execution_count": 2,
   "id": "together-marketing",
   "metadata": {},
   "outputs": [],
   "source": [
    "import numpy as np\n",
    "from tqdm import tqdm\n",
    "from sklearn.feature_extraction.text import TfidfVectorizer\n",
    "from sklearn.utils.extmath import safe_sparse_dot\n",
    "\n",
    "from matchers import metrics\n",
    "from matchers import utils\n",
    "from matchers import dataset"
   ]
  },
  {
   "cell_type": "code",
   "execution_count": 3,
   "id": "iraqi-hepatitis",
   "metadata": {},
   "outputs": [],
   "source": [
    "np.set_printoptions(suppress=True)\n",
    "tqdm.pandas()"
   ]
  },
  {
   "cell_type": "markdown",
   "id": "hired-encyclopedia",
   "metadata": {},
   "source": [
    "### Load and process data"
   ]
  },
  {
   "cell_type": "code",
   "execution_count": 4,
   "id": "honest-arbor",
   "metadata": {},
   "outputs": [],
   "source": [
    "input_names, weighted_relevant_names, all_candidates = dataset.load_preprocess()"
   ]
  },
  {
   "cell_type": "markdown",
   "id": "moving-stations",
   "metadata": {},
   "source": [
    "### Model"
   ]
  },
  {
   "cell_type": "code",
   "execution_count": 8,
   "id": "gentle-letter",
   "metadata": {},
   "outputs": [],
   "source": [
    "vectorizer = TfidfVectorizer(ngram_range=(1, 3), analyzer='char_wb', min_df=10, max_df=0.5)"
   ]
  },
  {
   "cell_type": "code",
   "execution_count": 9,
   "id": "cleared-distribution",
   "metadata": {},
   "outputs": [],
   "source": [
    "X = vectorizer.fit_transform(all_candidates)"
   ]
  },
  {
   "cell_type": "markdown",
   "id": "indie-march",
   "metadata": {},
   "source": [
    "#### Similarity Function"
   ]
  },
  {
   "cell_type": "code",
   "execution_count": 10,
   "id": "necessary-reach",
   "metadata": {},
   "outputs": [],
   "source": [
    "def get_similars(name, k=10, demo_mode=False):\n",
    "    if demo_mode:\n",
    "        name = utils.add_padding(name)\n",
    "    x = vectorizer.transform([name]).toarray()\n",
    "    scores = safe_sparse_dot(X, x.T).flatten()\n",
    "    sorted_scores_idx = np.argsort(scores)[::-1][:k]\n",
    "    candidates = all_candidates[sorted_scores_idx]\n",
    "    if demo_mode:\n",
    "        candidates = [utils.remove_padding(candidate) for candidate in candidates]\n",
    "    candidates_scores = scores[sorted_scores_idx]\n",
    "    \n",
    "    return list(zip(candidates, candidates_scores))"
   ]
  },
  {
   "cell_type": "markdown",
   "id": "proved-jason",
   "metadata": {},
   "source": [
    "#### Demo"
   ]
  },
  {
   "cell_type": "code",
   "execution_count": 11,
   "id": "infectious-processor",
   "metadata": {},
   "outputs": [
    {
     "data": {
      "text/plain": [
       "[('schumacker', 0.8092917375133881),\n",
       " ('schuman', 0.7500946651703772),\n",
       " ('schumann', 0.7027601314426227),\n",
       " ('schumaker', 0.6902077476321082),\n",
       " ('schacher', 0.6547967092097396),\n",
       " ('schum', 0.6372697150535584),\n",
       " ('scheuman', 0.5581147793510491),\n",
       " ('hamacher', 0.5418542569428891),\n",
       " ('amacher', 0.5358002092434181),\n",
       " ('stelmacher', 0.5294070446892177)]"
      ]
     },
     "execution_count": 11,
     "metadata": {},
     "output_type": "execute_result"
    }
   ],
   "source": [
    "get_similars('schumacher', 10, True)"
   ]
  },
  {
   "cell_type": "markdown",
   "id": "continent-sending",
   "metadata": {},
   "source": [
    "### Generate candidates for all names"
   ]
  },
  {
   "cell_type": "code",
   "execution_count": 12,
   "id": "conventional-design",
   "metadata": {},
   "outputs": [
    {
     "name": "stderr",
     "output_type": "stream",
     "text": [
      "100%|██████████| 23587/23587 [00:56<00:00, 414.11it/s]\n"
     ]
    }
   ],
   "source": [
    "k = 100 # Number of candidates to consider\n",
    "name_candidates = list(map(lambda x: get_similars(x, k=k), tqdm(input_names)))"
   ]
  },
  {
   "cell_type": "code",
   "execution_count": 13,
   "id": "romantic-motivation",
   "metadata": {},
   "outputs": [
    {
     "data": {
      "text/plain": [
       "23587"
      ]
     },
     "execution_count": 13,
     "metadata": {},
     "output_type": "execute_result"
    }
   ],
   "source": [
    "len(name_candidates)"
   ]
  },
  {
   "cell_type": "code",
   "execution_count": 14,
   "id": "false-recording",
   "metadata": {},
   "outputs": [],
   "source": [
    "candidates = np.array(name_candidates, dtype=[('name','O'),('score', 'f8')])"
   ]
  },
  {
   "cell_type": "markdown",
   "id": "positive-mumbai",
   "metadata": {},
   "source": [
    "### Evaluation"
   ]
  },
  {
   "cell_type": "markdown",
   "id": "systematic-staff",
   "metadata": {},
   "source": [
    "### mAP@0.8"
   ]
  },
  {
   "cell_type": "code",
   "execution_count": 15,
   "id": "reduced-setting",
   "metadata": {},
   "outputs": [
    {
     "data": {
      "text/plain": [
       "0.7263534998092169"
      ]
     },
     "execution_count": 15,
     "metadata": {},
     "output_type": "execute_result"
    }
   ],
   "source": [
    "metrics.avg_precision_at_threshold(weighted_relevant_names, candidates, 0.8)"
   ]
  },
  {
   "cell_type": "markdown",
   "id": "professional-withdrawal",
   "metadata": {},
   "source": [
    "### mAP@0.5"
   ]
  },
  {
   "cell_type": "code",
   "execution_count": 16,
   "id": "right-armor",
   "metadata": {},
   "outputs": [
    {
     "data": {
      "text/plain": [
       "0.20709488267797801"
      ]
     },
     "execution_count": 16,
     "metadata": {},
     "output_type": "execute_result"
    }
   ],
   "source": [
    "metrics.avg_precision_at_threshold(weighted_relevant_names, candidates, 0.5)"
   ]
  },
  {
   "cell_type": "markdown",
   "id": "interested-somalia",
   "metadata": {},
   "source": [
    "### Precision-Recall Curve"
   ]
  },
  {
   "cell_type": "code",
   "execution_count": 17,
   "id": "vietnamese-fourth",
   "metadata": {},
   "outputs": [
    {
     "data": {
      "image/png": "[encoded data removed]",
      "text/plain": [
       "<Figure size 432x288 with 1 Axes>"
      ]
     },
     "metadata": {
      "needs_background": "light"
     },
     "output_type": "display_data"
    }
   ],
   "source": [
    "# minimum score threshold to test\n",
    "min_threshold = 0.5\n",
    "metrics.precision_recall_curve_at_threshold(weighted_relevant_names, candidates, min_threshold)"
   ]
  },
  {
   "cell_type": "markdown",
   "id": "julian-passenger",
   "metadata": {},
   "source": [
    "### Test"
   ]
  },
  {
   "cell_type": "code",
   "execution_count": 21,
   "id": "honest-burning",
   "metadata": {},
   "outputs": [
    {
     "data": {
      "text/plain": [
       "[('<aarons>', 0.4110330823250698), ('<aron>', 0.5889669176749301)]"
      ]
     },
     "execution_count": 21,
     "metadata": {},
     "output_type": "execute_result"
    }
   ],
   "source": [
    "weighted_relevant_names[8]"
   ]
  },
  {
   "cell_type": "code",
   "execution_count": 23,
   "id": "hydraulic-jamaica",
   "metadata": {},
   "outputs": [
    {
     "data": {
      "text/plain": [
       "array([('<aaronson>', 0.82690353), ('<aarons>', 0.80859468),\n",
       "       ('<aron>', 0.7480946 ), ('<charon>', 0.54476603),\n",
       "       ('<aarnes>', 0.47702161)], dtype=[('name', 'O'), ('score', '<f8')])"
      ]
     },
     "execution_count": 23,
     "metadata": {},
     "output_type": "execute_result"
    }
   ],
   "source": [
    "candidates[8][:5]"
   ]
  },
  {
   "cell_type": "code",
   "execution_count": 30,
   "id": "stainless-family",
   "metadata": {},
   "outputs": [
    {
     "data": {
      "text/plain": [
       "0.4110330823250698"
      ]
     },
     "execution_count": 30,
     "metadata": {},
     "output_type": "execute_result"
    }
   ],
   "source": [
    "metrics.recall_at_threshold(weighted_relevant_names[8], candidates[8], 0.77)"
   ]
  },
  {
   "cell_type": "code",
   "execution_count": 31,
   "id": "educated-plain",
   "metadata": {},
   "outputs": [
    {
     "data": {
      "text/plain": [
       "1.0"
      ]
     },
     "execution_count": 31,
     "metadata": {},
     "output_type": "execute_result"
    }
   ],
   "source": [
    "metrics.recall_at_threshold(weighted_relevant_names[8], candidates[8], 0.71)"
   ]
  },
  {
   "cell_type": "code",
   "execution_count": null,
   "id": "solid-hospital",
   "metadata": {},
   "outputs": [],
   "source": []
  }
 ],
 "metadata": {
  "kernelspec": {
   "display_name": "Python [conda env:name-matching] *",
   "language": "python",
   "name": "conda-env-name-matching-py"
  },
  "language_info": {
   "codemirror_mode": {
    "name": "ipython",
    "version": 3
   },
   "file_extension": ".py",
   "mimetype": "text/x-python",
   "name": "python",
   "nbconvert_exporter": "python",
   "pygments_lexer": "ipython3",
   "version": "3.8.5"
  }
 },
 "nbformat": 4,
 "nbformat_minor": 5
}
