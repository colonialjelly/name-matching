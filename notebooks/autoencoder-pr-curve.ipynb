{
 "cells": [
  {
   "cell_type": "code",
   "execution_count": 1,
   "id": "medieval-dream",
   "metadata": {},
   "outputs": [],
   "source": [
    "%load_ext autoreload\n",
    "%autoreload 2"
   ]
  },
  {
   "cell_type": "code",
   "execution_count": 2,
   "id": "soviet-florida",
   "metadata": {},
   "outputs": [],
   "source": [
    "import sys\n",
    "sys.path.append('..')"
   ]
  },
  {
   "cell_type": "code",
   "execution_count": 3,
   "id": "annoying-throat",
   "metadata": {},
   "outputs": [],
   "source": [
    "import re\n",
    "import torch\n",
    "import numpy as np\n",
    "from matchers import constant, dataset, metrics, utils\n",
    "from matchers.models.autoencoder import AutoEncoder, train_model"
   ]
  },
  {
   "cell_type": "code",
   "execution_count": 4,
   "id": "metric-approval",
   "metadata": {},
   "outputs": [],
   "source": [
    "MAX_NAME_LENGTH = 30"
   ]
  },
  {
   "cell_type": "markdown",
   "id": "liberal-longitude",
   "metadata": {},
   "source": [
    "### Load data"
   ]
  },
  {
   "cell_type": "code",
   "execution_count": 5,
   "id": "operational-heater",
   "metadata": {},
   "outputs": [],
   "source": [
    "train, test = dataset.load_process_from_disk()\n",
    "\n",
    "input_names_train, weighted_relevant_names_train, candidates_train = train\n",
    "input_names_test, weighted_relevant_names_test, candidates_test = test\n",
    "\n",
    "relevant_names_train = [[name for name, _, _ in name_weights] for name_weights in weighted_relevant_names_train]\n",
    "relevant_names_test = [[name for name, _, _ in name_weights] for name_weights in weighted_relevant_names_test]\n",
    "\n",
    "all_candidates = np.concatenate((candidates_train, candidates_test))"
   ]
  },
  {
   "cell_type": "markdown",
   "id": "sound-placement",
   "metadata": {},
   "source": [
    "### Load all names"
   ]
  },
  {
   "cell_type": "code",
   "execution_count": 6,
   "id": "happy-birthday",
   "metadata": {},
   "outputs": [],
   "source": [
    "min_name_count = 5"
   ]
  },
  {
   "cell_type": "code",
   "execution_count": 7,
   "id": "raising-extension",
   "metadata": {},
   "outputs": [],
   "source": [
    "def load_names(filename):\n",
    "    names = []\n",
    "    with open(filename, mode=\"r\", encoding=\"utf-8\") as f:\n",
    "        for line in f:\n",
    "            fields = line.rstrip().split(\"\\t\")\n",
    "            name = fields[0]\n",
    "            count = int(fields[1])\n",
    "            if count >= min_name_count:\n",
    "                name = re.sub(\"[.' ]\", '', name)\n",
    "                names.append(utils.add_padding(name))\n",
    "    return names"
   ]
  },
  {
   "cell_type": "code",
   "execution_count": 8,
   "id": "professional-greene",
   "metadata": {},
   "outputs": [
    {
     "name": "stdout",
     "output_type": "stream",
     "text": [
      "606072\n"
     ]
    }
   ],
   "source": [
    "all_names = load_names('../data/given-final.normal.txt') + load_names('../data/surname-final.normal.txt')\n",
    "print(len(all_names))"
   ]
  },
  {
   "cell_type": "markdown",
   "id": "official-fountain",
   "metadata": {},
   "source": [
    "### Build token index mappings"
   ]
  },
  {
   "cell_type": "code",
   "execution_count": 6,
   "id": "potential-swift",
   "metadata": {},
   "outputs": [],
   "source": [
    "char_to_idx_map, idx_to_char_map = utils.build_token_idx_maps()"
   ]
  },
  {
   "cell_type": "markdown",
   "id": "median-prototype",
   "metadata": {},
   "source": [
    "### Convert names to ids"
   ]
  },
  {
   "cell_type": "code",
   "execution_count": 10,
   "id": "included-terminology",
   "metadata": {},
   "outputs": [],
   "source": [
    "# Prepare data for training\n",
    "# inputs and targets have the same data just in different representations 1-hot vs normal sequences\n",
    "X_train_inputs, X_train_targets = utils.convert_names_model_inputs(all_names, \n",
    "                                                                   char_to_idx_map, \n",
    "                                                                   MAX_NAME_LENGTH)"
   ]
  },
  {
   "cell_type": "code",
   "execution_count": 11,
   "id": "incorporated-kingdom",
   "metadata": {},
   "outputs": [
    {
     "name": "stdout",
     "output_type": "stream",
     "text": [
      "torch.Size([606072, 30, 29]) torch.Size([606072, 30])\n"
     ]
    }
   ],
   "source": [
    "print(X_train_inputs.shape, X_train_targets.shape)"
   ]
  },
  {
   "cell_type": "markdown",
   "id": "patent-milton",
   "metadata": {},
   "source": [
    "### Model"
   ]
  },
  {
   "cell_type": "code",
   "execution_count": 12,
   "id": "referenced-inside",
   "metadata": {},
   "outputs": [
    {
     "name": "stdout",
     "output_type": "stream",
     "text": [
      "cuda:0\n"
     ]
    }
   ],
   "source": [
    "device = torch.device(\"cuda:0\" if torch.cuda.is_available() else \"cpu\")\n",
    "print(device)"
   ]
  },
  {
   "cell_type": "code",
   "execution_count": 13,
   "id": "second-builder",
   "metadata": {},
   "outputs": [],
   "source": [
    "model = AutoEncoder(input_size=constant.VOCAB_SIZE + 1, \n",
    "                    hidden_size=100,\n",
    "                    num_layers=1,\n",
    "                    seq_len=MAX_NAME_LENGTH,\n",
    "                    device=device)"
   ]
  },
  {
   "cell_type": "code",
   "execution_count": 14,
   "id": "architectural-addition",
   "metadata": {
    "scrolled": true
   },
   "outputs": [
    {
     "name": "stderr",
     "output_type": "stream",
     "text": [
      "100%|██████████| 100/100 [2:49:07<00:00, 101.47s/it, loss=1.52e-5]  \n"
     ]
    }
   ],
   "source": [
    "train_model(model, X_train_inputs, X_train_targets, 100, 512)"
   ]
  },
  {
   "cell_type": "code",
   "execution_count": 16,
   "id": "mobile-donna",
   "metadata": {},
   "outputs": [],
   "source": [
    "torch.save(model, '../data/ae-bilstm-100.pth')"
   ]
  },
  {
   "cell_type": "code",
   "execution_count": 7,
   "id": "essential-webmaster",
   "metadata": {},
   "outputs": [],
   "source": [
    "model = torch.load('../data/ae-bilstm-100.pth')"
   ]
  },
  {
   "cell_type": "markdown",
   "id": "supposed-perry",
   "metadata": {},
   "source": [
    "### Understand AutoEncoder"
   ]
  },
  {
   "cell_type": "code",
   "execution_count": 17,
   "id": "regulated-county",
   "metadata": {},
   "outputs": [],
   "source": [
    "loss_fn = torch.nn.CrossEntropyLoss()\n",
    "dataset_train = torch.utils.data.TensorDataset(X_train_inputs, X_train_targets)\n",
    "data_loader = torch.utils.data.DataLoader(dataset_train, batch_size=512, shuffle=True)"
   ]
  },
  {
   "cell_type": "code",
   "execution_count": 18,
   "id": "conventional-england",
   "metadata": {},
   "outputs": [
    {
     "name": "stdout",
     "output_type": "stream",
     "text": [
      "torch.Size([512, 30, 29]) torch.Size([512, 30])\n"
     ]
    }
   ],
   "source": [
    "train_batch, labels_batch = next(iter(data_loader))\n",
    "print(train_batch.shape, labels_batch.shape)"
   ]
  },
  {
   "cell_type": "code",
   "execution_count": 19,
   "id": "attempted-diversity",
   "metadata": {},
   "outputs": [
    {
     "name": "stdout",
     "output_type": "stream",
     "text": [
      "torch.Size([2, 512, 100])\n"
     ]
    }
   ],
   "source": [
    "model.zero_grad()\n",
    "# Encode(input,hidden) -> (batch,seq,dirs*hidden), ((dirs*layers,batch,hidden),(dirs*layers,batch,hidden)) - x_encoded is the last hidden state\n",
    "_, (x_encoded, _) = model.lstm_encoder(train_batch.to(device))\n",
    "print(x_encoded.shape)"
   ]
  },
  {
   "cell_type": "code",
   "execution_count": 20,
   "id": "amended-messaging",
   "metadata": {},
   "outputs": [
    {
     "name": "stdout",
     "output_type": "stream",
     "text": [
      "torch.Size([512, 200])\n"
     ]
    }
   ],
   "source": [
    "# Concatenate left-right hidden vectors\n",
    "x_encoded = torch.cat([x_encoded[0], x_encoded[1]], dim=1)\n",
    "print(x_encoded.shape)"
   ]
  },
  {
   "cell_type": "code",
   "execution_count": 21,
   "id": "civil-possible",
   "metadata": {},
   "outputs": [
    {
     "name": "stdout",
     "output_type": "stream",
     "text": [
      "torch.Size([512, 30, 200])\n"
     ]
    }
   ],
   "source": [
    "# Reshape data to have seq_len time steps\n",
    "# why do we copy x_encoded to every time step?\n",
    "x_encoded = x_encoded.unsqueeze(1).repeat(1, MAX_NAME_LENGTH, 1)\n",
    "print(x_encoded.shape)"
   ]
  },
  {
   "cell_type": "code",
   "execution_count": 22,
   "id": "tropical-option",
   "metadata": {},
   "outputs": [
    {
     "name": "stdout",
     "output_type": "stream",
     "text": [
      "torch.Size([512, 30, 100])\n"
     ]
    }
   ],
   "source": [
    "# Decode(hidden*dirs,hidden) -> (batch,seq,dirs*hidden), ((dirs*layers,batch,hidden),(dirs*layers,batch,hidden)) - x_decoded is the output\n",
    "x_decoded, (_, _) = model.lstm_decoder(x_encoded)\n",
    "print(x_decoded.shape)"
   ]
  },
  {
   "cell_type": "code",
   "execution_count": 23,
   "id": "little-antique",
   "metadata": {},
   "outputs": [
    {
     "name": "stdout",
     "output_type": "stream",
     "text": [
      "torch.Size([512, 30, 29])\n"
     ]
    }
   ],
   "source": [
    "# linear layer(hidden,input) predicts characters\n",
    "x_prime = model.linear(x_decoded)\n",
    "print(x_prime.shape)"
   ]
  },
  {
   "cell_type": "code",
   "execution_count": 24,
   "id": "tender-intermediate",
   "metadata": {},
   "outputs": [
    {
     "name": "stdout",
     "output_type": "stream",
     "text": [
      "torch.Size([512, 29, 30])\n"
     ]
    }
   ],
   "source": [
    "# Reshape output to match CrossEntropyLoss input\n",
    "x_prime = x_prime.transpose(1, -1)\n",
    "print(x_prime.shape)"
   ]
  },
  {
   "cell_type": "code",
   "execution_count": 25,
   "id": "smaller-attitude",
   "metadata": {},
   "outputs": [
    {
     "name": "stdout",
     "output_type": "stream",
     "text": [
      "tensor(2.9429e-05, device='cuda:0', grad_fn=<NllLoss2DBackward>)\n"
     ]
    }
   ],
   "source": [
    "# Compute loss (batch,classes,seq), (batch,seq)\n",
    "loss = loss_fn(x_prime, labels_batch.to(device))\n",
    "print(loss)"
   ]
  },
  {
   "cell_type": "markdown",
   "id": "affecting-recovery",
   "metadata": {},
   "source": [
    "### Evaluation"
   ]
  },
  {
   "cell_type": "code",
   "execution_count": 8,
   "id": "attended-lemon",
   "metadata": {},
   "outputs": [],
   "source": [
    "model.to(\"cpu\")\n",
    "model.device=\"cpu\""
   ]
  },
  {
   "cell_type": "code",
   "execution_count": 9,
   "id": "fitting-width",
   "metadata": {},
   "outputs": [],
   "source": [
    "# Convert train name inputs to correct format\n",
    "X_train_inputs, _ = utils.convert_names_model_inputs(candidates_train,\n",
    "                                                     char_to_idx_map, \n",
    "                                                     MAX_NAME_LENGTH)\n",
    "# Get Embeddings for the names from the encoder\n",
    "X_train_candidates_encoded = model(X_train_inputs, just_encoder=True).detach().numpy()"
   ]
  },
  {
   "cell_type": "code",
   "execution_count": 10,
   "id": "humanitarian-canadian",
   "metadata": {},
   "outputs": [
    {
     "name": "stdout",
     "output_type": "stream",
     "text": [
      "torch.Size([22107, 30, 29])\n",
      "(22107, 200)\n"
     ]
    }
   ],
   "source": [
    "print(X_train_inputs.shape)\n",
    "print(X_train_candidates_encoded.shape)"
   ]
  },
  {
   "cell_type": "code",
   "execution_count": 11,
   "id": "single-edwards",
   "metadata": {},
   "outputs": [],
   "source": [
    "# Convert test name inputs to correct format\n",
    "X_test_inputs, X_test_targets = utils.convert_names_model_inputs(input_names_test,\n",
    "                                                                 char_to_idx_map, \n",
    "                                                                 MAX_NAME_LENGTH)\n",
    "# Get Embeddings for the names from the encoder\n",
    "X_input_names_encoded = model(X_test_inputs, just_encoder=True).detach().numpy()"
   ]
  },
  {
   "cell_type": "code",
   "execution_count": 12,
   "id": "sweet-eagle",
   "metadata": {},
   "outputs": [
    {
     "name": "stdout",
     "output_type": "stream",
     "text": [
      "torch.Size([2444, 30, 29]) torch.Size([2444, 30])\n",
      "(2444, 200)\n"
     ]
    }
   ],
   "source": [
    "print(X_test_inputs.shape, X_test_targets.shape)\n",
    "print(X_input_names_encoded.shape)"
   ]
  },
  {
   "cell_type": "code",
   "execution_count": 13,
   "id": "literary-future",
   "metadata": {},
   "outputs": [],
   "source": [
    "# Get embeddings for all candidate names (train + test)\n",
    "X_test_candidate_inputs, _ = utils.convert_names_model_inputs(candidates_test, \n",
    "                                                              char_to_idx_map, \n",
    "                                                              MAX_NAME_LENGTH)\n",
    "X_test_candidates_encoded = model(X_test_candidate_inputs, just_encoder=True).detach().numpy()"
   ]
  },
  {
   "cell_type": "code",
   "execution_count": 14,
   "id": "supreme-polyester",
   "metadata": {},
   "outputs": [
    {
     "name": "stdout",
     "output_type": "stream",
     "text": [
      "torch.Size([2453, 30, 29])\n",
      "(2453, 200)\n"
     ]
    }
   ],
   "source": [
    "print(X_test_candidate_inputs.shape)\n",
    "print(X_test_candidates_encoded.shape)"
   ]
  },
  {
   "cell_type": "code",
   "execution_count": 15,
   "id": "worse-secretary",
   "metadata": {},
   "outputs": [],
   "source": [
    "X_candidates_encoded = np.vstack((X_train_candidates_encoded, X_test_candidates_encoded))"
   ]
  },
  {
   "cell_type": "code",
   "execution_count": 16,
   "id": "bizarre-afternoon",
   "metadata": {},
   "outputs": [
    {
     "name": "stdout",
     "output_type": "stream",
     "text": [
      "(24560, 200)\n"
     ]
    }
   ],
   "source": [
    "print(X_candidates_encoded.shape)"
   ]
  },
  {
   "cell_type": "code",
   "execution_count": 17,
   "id": "occasional-boating",
   "metadata": {},
   "outputs": [
    {
     "name": "stdout",
     "output_type": "stream",
     "text": [
      "(2444, 100, 2)\n",
      "<abadusky>\n",
      "0.9095762857505686\n"
     ]
    }
   ],
   "source": [
    "k = 100\n",
    "candidates = utils.get_candidates_batch(X_input_names_encoded, \n",
    "                                        X_candidates_encoded, \n",
    "                                        all_candidates,\n",
    "                                        num_candidates=k)\n",
    "print(candidates.shape)\n",
    "print(candidates[0,0,0])\n",
    "print(candidates[0,0,1])"
   ]
  },
  {
   "cell_type": "code",
   "execution_count": 18,
   "id": "stock-archives",
   "metadata": {},
   "outputs": [
    {
     "name": "stdout",
     "output_type": "stream",
     "text": [
      "(2444, 100)\n"
     ]
    }
   ],
   "source": [
    "candidate_names = candidates[:, :, 0]\n",
    "print(candidate_names.shape)"
   ]
  },
  {
   "cell_type": "markdown",
   "id": "passing-champagne",
   "metadata": {},
   "source": [
    "### Evaluation"
   ]
  },
  {
   "cell_type": "code",
   "execution_count": 19,
   "id": "worldwide-active",
   "metadata": {},
   "outputs": [
    {
     "data": {
      "image/png": "[encoded data removed]",
      "text/plain": [
       "<Figure size 432x288 with 1 Axes>"
      ]
     },
     "metadata": {
      "needs_background": "light"
     },
     "output_type": "display_data"
    }
   ],
   "source": [
    "metrics.precision_recall_curve(relevant_names_test, candidate_names, k)"
   ]
  },
  {
   "cell_type": "markdown",
   "id": "valuable-generic",
   "metadata": {},
   "source": [
    "### mAP @ 1"
   ]
  },
  {
   "cell_type": "code",
   "execution_count": 20,
   "id": "coral-norwegian",
   "metadata": {},
   "outputs": [
    {
     "data": {
      "text/plain": [
       "0.44844517184942717"
      ]
     },
     "execution_count": 20,
     "metadata": {},
     "output_type": "execute_result"
    }
   ],
   "source": [
    "metrics.mean_avg_precision_k(relevant_names_test, candidate_names, 1)"
   ]
  },
  {
   "cell_type": "markdown",
   "id": "moral-vertex",
   "metadata": {},
   "source": [
    "### mAP @ 3"
   ]
  },
  {
   "cell_type": "code",
   "execution_count": 21,
   "id": "framed-original",
   "metadata": {},
   "outputs": [
    {
     "data": {
      "text/plain": [
       "0.36990816512093105"
      ]
     },
     "execution_count": 21,
     "metadata": {},
     "output_type": "execute_result"
    }
   ],
   "source": [
    "metrics.mean_avg_precision_k(relevant_names_test, candidate_names, 3)"
   ]
  },
  {
   "cell_type": "markdown",
   "id": "corresponding-transportation",
   "metadata": {},
   "source": [
    "### Demo"
   ]
  },
  {
   "cell_type": "code",
   "execution_count": 46,
   "id": "iraqi-dietary",
   "metadata": {},
   "outputs": [
    {
     "data": {
      "text/plain": [
       "array([[['<schumacker>', 0.9746154770537481],\n",
       "        ['<schumaker>', 0.9323621066351657],\n",
       "        ['<stelmacher>', 0.9086041117971908],\n",
       "        ['<schmelcher>', 0.8968587091091864],\n",
       "        ['<schmicker>', 0.8843006593922649],\n",
       "        ['<standacher>', 0.8750426195822874],\n",
       "        ['<schlicker>', 0.8729185370395702],\n",
       "        ['<steinacher>', 0.8703248354862012],\n",
       "        ['<schlecter>', 0.8682462372974001],\n",
       "        ['<schoenbachler>', 0.8622889207171189]]], dtype=object)"
      ]
     },
     "execution_count": 46,
     "metadata": {},
     "output_type": "execute_result"
    }
   ],
   "source": [
    "test_name = ['<schumacher>']\n",
    "test_name, _ = utils.convert_names_model_inputs(test_name, char_to_idx_map, MAX_NAME_LENGTH)\n",
    "test_name_embedding = model(test_name, just_encoder=True).detach().numpy()\n",
    "\n",
    "utils.get_candidates_batch(test_name_embedding, \n",
    "                           X_candidates_encoded,\n",
    "                           all_candidates,\n",
    "                           num_candidates=10)"
   ]
  },
  {
   "cell_type": "markdown",
   "id": "streaming-ontario",
   "metadata": {},
   "source": [
    "## Evaluate using weighted relevant names and score thresholds"
   ]
  },
  {
   "cell_type": "markdown",
   "id": "retired-basketball",
   "metadata": {},
   "source": [
    "### Avearge precision at 0.97"
   ]
  },
  {
   "cell_type": "code",
   "execution_count": 22,
   "id": "distinguished-female",
   "metadata": {},
   "outputs": [
    {
     "data": {
      "text/plain": [
       "0.14052854834915468"
      ]
     },
     "execution_count": 22,
     "metadata": {},
     "output_type": "execute_result"
    }
   ],
   "source": [
    "metrics.avg_precision_at_threshold(weighted_relevant_names_test, candidates, 0.81)"
   ]
  },
  {
   "cell_type": "markdown",
   "id": "brazilian-birthday",
   "metadata": {},
   "source": [
    "### Average recall at 0.97"
   ]
  },
  {
   "cell_type": "code",
   "execution_count": 23,
   "id": "passing-kingdom",
   "metadata": {},
   "outputs": [
    {
     "data": {
      "text/plain": [
       "0.9447626841243862"
      ]
     },
     "execution_count": 23,
     "metadata": {},
     "output_type": "execute_result"
    }
   ],
   "source": [
    "metrics.avg_recall_at_threshold(weighted_relevant_names_test, candidates, 0.81)"
   ]
  },
  {
   "cell_type": "markdown",
   "id": "featured-traffic",
   "metadata": {},
   "source": [
    "### PR Curve"
   ]
  },
  {
   "cell_type": "code",
   "execution_count": 24,
   "id": "premier-shopping",
   "metadata": {},
   "outputs": [
    {
     "data": {
      "image/png": "[encoded data removed]",
      "text/plain": [
       "<Figure size 432x288 with 1 Axes>"
      ]
     },
     "metadata": {
      "needs_background": "light"
     },
     "output_type": "display_data"
    }
   ],
   "source": [
    "# minimum score threshold to test\n",
    "min_threshold = 0.5\n",
    "metrics.precision_recall_curve_at_threshold(weighted_relevant_names_test, candidates, min_threshold)"
   ]
  },
  {
   "cell_type": "markdown",
   "id": "certain-hampshire",
   "metadata": {},
   "source": [
    "### AUC"
   ]
  },
  {
   "cell_type": "code",
   "execution_count": 27,
   "id": "southwest-merchant",
   "metadata": {},
   "outputs": [
    {
     "data": {
      "text/plain": [
       "0.5610302933856371"
      ]
     },
     "execution_count": 27,
     "metadata": {},
     "output_type": "execute_result"
    }
   ],
   "source": [
    "metrics.get_auc(weighted_relevant_names_test, candidates)"
   ]
  },
  {
   "cell_type": "code",
   "execution_count": null,
   "id": "executed-noise",
   "metadata": {},
   "outputs": [],
   "source": []
  }
 ],
 "metadata": {
  "kernelspec": {
   "display_name": "Python [conda env:name-matching] *",
   "language": "python",
   "name": "conda-env-name-matching-py"
  },
  "language_info": {
   "codemirror_mode": {
    "name": "ipython",
    "version": 3
   },
   "file_extension": ".py",
   "mimetype": "text/x-python",
   "name": "python",
   "nbconvert_exporter": "python",
   "pygments_lexer": "ipython3",
   "version": "3.8.5"
  }
 },
 "nbformat": 4,
 "nbformat_minor": 5
}
