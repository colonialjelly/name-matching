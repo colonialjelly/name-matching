{
 "cells": [
  {
   "cell_type": "code",
   "execution_count": 1,
   "id": "handed-class",
   "metadata": {},
   "outputs": [],
   "source": [
    "%load_ext autoreload\n",
    "%autoreload 2"
   ]
  },
  {
   "cell_type": "code",
   "execution_count": 2,
   "id": "spoken-jersey",
   "metadata": {},
   "outputs": [],
   "source": [
    "import torch\n",
    "import numpy as np\n",
    "from matchers import constant, dataset, metrics, utils\n",
    "from matchers.models.autoencoder import AutoEncoder, train_model"
   ]
  },
  {
   "cell_type": "code",
   "execution_count": 3,
   "id": "innocent-korea",
   "metadata": {},
   "outputs": [],
   "source": [
    "MAX_NAME_LENGTH = 30"
   ]
  },
  {
   "cell_type": "markdown",
   "id": "computational-prisoner",
   "metadata": {},
   "source": [
    "### Load data"
   ]
  },
  {
   "cell_type": "code",
   "execution_count": 4,
   "id": "naked-statistics",
   "metadata": {},
   "outputs": [],
   "source": [
    "train, test = dataset.load_process_from_disk()\n",
    "\n",
    "input_names_train, weighted_relevant_names_train, candidates_train = train\n",
    "input_names_test, weighted_relevant_names_test, candidates_test = test\n",
    "\n",
    "relevant_names_train = [[name for name, _ in name_weights] for name_weights in weighted_relevant_names_train]\n",
    "relevant_names_test = [[name for name, _ in name_weights] for name_weights in weighted_relevant_names_test]\n",
    "\n",
    "all_candidates = np.concatenate((candidates_train, candidates_test))"
   ]
  },
  {
   "cell_type": "markdown",
   "id": "accepting-hands",
   "metadata": {},
   "source": [
    "### Build token index mappings"
   ]
  },
  {
   "cell_type": "code",
   "execution_count": 5,
   "id": "british-morris",
   "metadata": {},
   "outputs": [],
   "source": [
    "char_to_idx_map, idx_to_char_map = utils.build_token_idx_maps()"
   ]
  },
  {
   "cell_type": "markdown",
   "id": "chronic-oxford",
   "metadata": {},
   "source": [
    "### Convert names to ids"
   ]
  },
  {
   "cell_type": "code",
   "execution_count": 6,
   "id": "anonymous-button",
   "metadata": {},
   "outputs": [],
   "source": [
    "# Prepare data for training\n",
    "# inputs and targets have the same data just in different representations 1-hot vs normal sequences\n",
    "X_train_inputs, X_train_targets = utils.convert_names_model_inputs(candidates_train, \n",
    "                                                                   char_to_idx_map, \n",
    "                                                                   MAX_NAME_LENGTH)"
   ]
  },
  {
   "cell_type": "markdown",
   "id": "featured-integral",
   "metadata": {},
   "source": [
    "### Model"
   ]
  },
  {
   "cell_type": "code",
   "execution_count": 7,
   "id": "capable-greeting",
   "metadata": {},
   "outputs": [],
   "source": [
    "model = AutoEncoder(input_size=constant.VOCAB_SIZE + 1, \n",
    "                    hidden_size=100,\n",
    "                    num_layers=1,\n",
    "                    seq_len=MAX_NAME_LENGTH)"
   ]
  },
  {
   "cell_type": "code",
   "execution_count": 8,
   "id": "patient-shopper",
   "metadata": {
    "scrolled": true
   },
   "outputs": [
    {
     "name": "stderr",
     "output_type": "stream",
     "text": [
      "100%|██████████| 100/100 [31:45<00:00, 19.06s/it, loss=0.0927]\n"
     ]
    }
   ],
   "source": [
    "train_model(model, X_train_inputs, X_train_targets, 100, 512)"
   ]
  },
  {
   "cell_type": "markdown",
   "id": "psychological-hamilton",
   "metadata": {},
   "source": [
    "### Evaluation"
   ]
  },
  {
   "cell_type": "code",
   "execution_count": 9,
   "id": "billion-hunter",
   "metadata": {},
   "outputs": [],
   "source": [
    "# Convert test name inputs to correct format\n",
    "X_test_inputs, X_test_targets = utils.convert_names_model_inputs(input_names_test,\n",
    "                                                                 char_to_idx_map, \n",
    "                                                                 MAX_NAME_LENGTH)\n",
    "\n",
    "# Get Embeddings for the names from the encoder\n",
    "X_input_names_encoded = model(X_test_inputs, just_encoder=True).detach().numpy()"
   ]
  },
  {
   "cell_type": "code",
   "execution_count": 10,
   "id": "tribal-comparison",
   "metadata": {},
   "outputs": [],
   "source": [
    "# Get embeddings for all candidate names (train + test)\n",
    "X_test_candidate_inputs, _ = utils.convert_names_model_inputs(candidates_test, \n",
    "                                                              char_to_idx_map, \n",
    "                                                              MAX_NAME_LENGTH)\n",
    "X_train_candidates_encoded = model(X_train_inputs, just_encoder=True).detach().numpy()\n",
    "X_test_candidates_encoded = model(X_test_candidate_inputs, just_encoder=True).detach().numpy()"
   ]
  },
  {
   "cell_type": "code",
   "execution_count": 11,
   "id": "located-vampire",
   "metadata": {},
   "outputs": [],
   "source": [
    "X_candidates_encoded = np.vstack((X_train_candidates_encoded, X_test_candidates_encoded))"
   ]
  },
  {
   "cell_type": "code",
   "execution_count": 12,
   "id": "measured-glasgow",
   "metadata": {},
   "outputs": [],
   "source": [
    "candidates = utils.get_candidates_batch(X_input_names_encoded, \n",
    "                                        X_candidates_encoded, \n",
    "                                        all_candidates,\n",
    "                                        num_candidates=10)"
   ]
  },
  {
   "cell_type": "code",
   "execution_count": 13,
   "id": "disturbed-ethnic",
   "metadata": {},
   "outputs": [],
   "source": [
    "candidate_names = candidates[:, :, 0]"
   ]
  },
  {
   "cell_type": "markdown",
   "id": "liked-workstation",
   "metadata": {},
   "source": [
    "### mAP @ 1"
   ]
  },
  {
   "cell_type": "code",
   "execution_count": 14,
   "id": "chubby-excitement",
   "metadata": {},
   "outputs": [
    {
     "data": {
      "text/plain": [
       "0.4864975450081833"
      ]
     },
     "execution_count": 14,
     "metadata": {},
     "output_type": "execute_result"
    }
   ],
   "source": [
    "metrics.mean_avg_precision_k(relevant_names_test, candidate_names, 1)"
   ]
  },
  {
   "cell_type": "markdown",
   "id": "coordinated-harassment",
   "metadata": {},
   "source": [
    "### mAP @ 3"
   ]
  },
  {
   "cell_type": "code",
   "execution_count": 15,
   "id": "positive-walnut",
   "metadata": {},
   "outputs": [
    {
     "data": {
      "text/plain": [
       "0.3969585379159847"
      ]
     },
     "execution_count": 15,
     "metadata": {},
     "output_type": "execute_result"
    }
   ],
   "source": [
    "metrics.mean_avg_precision_k(relevant_names_test, candidate_names, 3)"
   ]
  },
  {
   "cell_type": "markdown",
   "id": "recent-organ",
   "metadata": {},
   "source": [
    "### Demo"
   ]
  },
  {
   "cell_type": "code",
   "execution_count": 16,
   "id": "leading-potential",
   "metadata": {},
   "outputs": [
    {
     "data": {
      "text/plain": [
       "array([[['<schumacker>', 0.9823874991481613],\n",
       "        ['<schumaker>', 0.9731549311198896],\n",
       "        ['<schacher>', 0.9673257103469648],\n",
       "        ['<schmicker>', 0.9637133127035327],\n",
       "        ['<schmelcher>', 0.9632124247193975],\n",
       "        ['<schoomaker>', 0.9571950856169624],\n",
       "        ['<stelmacher>', 0.9566770289729123],\n",
       "        ['<schmaker>', 0.9559019211559833],\n",
       "        ['<schurhamer>', 0.9553484074112852],\n",
       "        ['<schacker>', 0.953941256820117]]], dtype=object)"
      ]
     },
     "execution_count": 16,
     "metadata": {},
     "output_type": "execute_result"
    }
   ],
   "source": [
    "test_name = ['<schumacher>']\n",
    "test_name, _ = utils.convert_names_model_inputs(test_name, char_to_idx_map, MAX_NAME_LENGTH)\n",
    "test_name_embedding = model(test_name, just_encoder=True).detach().numpy()\n",
    "\n",
    "utils.get_candidates_batch(test_name_embedding, \n",
    "                           X_candidates_encoded,\n",
    "                           all_candidates,\n",
    "                           num_candidates=10)"
   ]
  },
  {
   "cell_type": "markdown",
   "id": "ongoing-bristol",
   "metadata": {},
   "source": [
    "## Evaluate using weighted relevant names and score thresholds"
   ]
  },
  {
   "cell_type": "markdown",
   "id": "charitable-specific",
   "metadata": {},
   "source": [
    "### Avearge precision at 0.97"
   ]
  },
  {
   "cell_type": "code",
   "execution_count": 74,
   "id": "educational-textbook",
   "metadata": {},
   "outputs": [
    {
     "data": {
      "text/plain": [
       "0.5239528940326812"
      ]
     },
     "execution_count": 74,
     "metadata": {},
     "output_type": "execute_result"
    }
   ],
   "source": [
    "metrics.avg_precision_at_threshold(weighted_relevant_names_test, candidates, 0.97)"
   ]
  },
  {
   "cell_type": "markdown",
   "id": "intellectual-amateur",
   "metadata": {},
   "source": [
    "### Average recall at 0.97"
   ]
  },
  {
   "cell_type": "code",
   "execution_count": 75,
   "id": "ancient-officer",
   "metadata": {},
   "outputs": [
    {
     "data": {
      "text/plain": [
       "0.8273167795554867"
      ]
     },
     "execution_count": 75,
     "metadata": {},
     "output_type": "execute_result"
    }
   ],
   "source": [
    "metrics.avg_recall_at_threshold(weighted_relevant_names_test, candidates, 0.97)"
   ]
  },
  {
   "cell_type": "markdown",
   "id": "opposed-telephone",
   "metadata": {},
   "source": [
    "### PR Curve"
   ]
  },
  {
   "cell_type": "code",
   "execution_count": 76,
   "id": "illegal-musician",
   "metadata": {},
   "outputs": [
    {
     "data": {
      "image/png": "[encoded data removed]",
      "text/plain": [
       "<Figure size 432x288 with 1 Axes>"
      ]
     },
     "metadata": {
      "needs_background": "light"
     },
     "output_type": "display_data"
    }
   ],
   "source": [
    "# minimum score threshold to test\n",
    "min_threshold = 0.5\n",
    "metrics.precision_recall_curve_at_threshold(weighted_relevant_names_test, candidates, min_threshold)"
   ]
  },
  {
   "cell_type": "code",
   "execution_count": null,
   "id": "synthetic-short",
   "metadata": {},
   "outputs": [],
   "source": []
  }
 ],
 "metadata": {
  "kernelspec": {
   "display_name": "Python [conda env:name-matching] *",
   "language": "python",
   "name": "conda-env-name-matching-py"
  },
  "language_info": {
   "codemirror_mode": {
    "name": "ipython",
    "version": 3
   },
   "file_extension": ".py",
   "mimetype": "text/x-python",
   "name": "python",
   "nbconvert_exporter": "python",
   "pygments_lexer": "ipython3",
   "version": "3.8.5"
  }
 },
 "nbformat": 4,
 "nbformat_minor": 5
}
