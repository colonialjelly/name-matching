{
 "cells": [
  {
   "cell_type": "markdown",
   "id": "mounted-investing",
   "metadata": {},
   "source": [
    "# This approach is not as good as the approach in the \"random-forest\" notebook"
   ]
  },
  {
   "cell_type": "code",
   "execution_count": 1,
   "id": "powerful-intervention",
   "metadata": {},
   "outputs": [],
   "source": [
    "%load_ext autoreload\n",
    "%autoreload 2"
   ]
  },
  {
   "cell_type": "code",
   "execution_count": 2,
   "id": "korean-living",
   "metadata": {},
   "outputs": [],
   "source": [
    "import numpy as np\n",
    "import math\n",
    "import jellyfish\n",
    "from collections import defaultdict\n",
    "from sklearn.ensemble import RandomForestClassifier\n",
    "from tqdm import tqdm\n",
    "\n",
    "from matchers import metrics, utils, dataset\n",
    "from matchers.models.randomforest import get_editops, get_features_targets"
   ]
  },
  {
   "cell_type": "code",
   "execution_count": 3,
   "id": "hundred-trust",
   "metadata": {},
   "outputs": [],
   "source": [
    "np.set_printoptions(suppress=True)\n",
    "tqdm.pandas()"
   ]
  },
  {
   "cell_type": "markdown",
   "id": "determined-match",
   "metadata": {},
   "source": [
    "### Load and process data"
   ]
  },
  {
   "cell_type": "code",
   "execution_count": 4,
   "id": "advisory-cause",
   "metadata": {},
   "outputs": [],
   "source": [
    "# Only need to run this once\n",
    "# It we split the data into train/test and will persist the data on disk\n",
    "# dataset.load_split_init(test_size=0.1)"
   ]
  },
  {
   "cell_type": "code",
   "execution_count": 5,
   "id": "stock-merchant",
   "metadata": {},
   "outputs": [],
   "source": [
    "train, test = dataset.load_process_from_disk()\n",
    "\n",
    "input_names_train, weighted_relevant_names_train, all_candidates_train = train\n",
    "input_names_test, weighted_relevant_names_test, all_candidates_test = test\n",
    "\n",
    "all_candidates = np.concatenate((all_candidates_train, all_candidates_test))"
   ]
  },
  {
   "cell_type": "markdown",
   "id": "advisory-desert",
   "metadata": {},
   "source": [
    "### Model"
   ]
  },
  {
   "cell_type": "code",
   "execution_count": 6,
   "id": "pursuant-rough",
   "metadata": {},
   "outputs": [
    {
     "name": "stdout",
     "output_type": "stream",
     "text": [
      "22541\n",
      "525\n",
      "233360938\n"
     ]
    }
   ],
   "source": [
    "# compute transitions and editops\n",
    "train_editops_counts = []\n",
    "editop_counts = defaultdict(int)\n",
    "\n",
    "for tree_name, record_names in zip(input_names_train, weighted_relevant_names_train):\n",
    "    for weighted_record_name in record_names:\n",
    "        # weighted_record_name = (name, weight, co-occurrence count)\n",
    "        editops = get_editops(weighted_record_name[0], tree_name)\n",
    "        train_editops_counts.append((editops, weighted_record_name[2]))\n",
    "        for editop in editops:\n",
    "            editop_counts[editop] += weighted_record_name[2]\n",
    "\n",
    "sorted_editop_counts = sorted(editop_counts.items(), key=lambda item: item[1])\n",
    "print(len(train_editops_counts))\n",
    "print(len(sorted_editop_counts))\n",
    "print(sum(editop_counts.values()))"
   ]
  },
  {
   "cell_type": "code",
   "execution_count": 7,
   "id": "experienced-leather",
   "metadata": {},
   "outputs": [
    {
     "data": {
      "text/plain": [
       "264"
      ]
     },
     "execution_count": 7,
     "metadata": {},
     "output_type": "execute_result"
    }
   ],
   "source": [
    "# filter editops to those appearing more than threshold times\n",
    "\n",
    "min_editop_threshold = 2000\n",
    "\n",
    "filtered_editops = list(editop for editop, count in editop_counts.items() if count >= min_editop_threshold)\n",
    "len(filtered_editops)"
   ]
  },
  {
   "cell_type": "code",
   "execution_count": 8,
   "id": "powerful-wages",
   "metadata": {},
   "outputs": [
    {
     "data": {
      "text/plain": [
       "266"
      ]
     },
     "execution_count": 8,
     "metadata": {},
     "output_type": "execute_result"
    }
   ],
   "source": [
    "# map editops to indexes and vice-versa\n",
    "\n",
    "idx = range(2, len(filtered_editops) + 2)\n",
    "editop_to_idx_map = dict(zip(filtered_editops, idx))\n",
    "idx_to_editop_map = dict(zip(idx, filtered_editops))\n",
    "\n",
    "# pad character\n",
    "editop_to_idx_map[' '] = 0\n",
    "idx_to_editop_map[0] = ' '\n",
    "# not-in-dict character\n",
    "editop_to_idx_map['*'] = 1\n",
    "idx_to_editop_map[1] = '*'\n",
    "\n",
    "vocab_size = len(editop_to_idx_map)\n",
    "vocab_size"
   ]
  },
  {
   "cell_type": "code",
   "execution_count": 9,
   "id": "reliable-compromise",
   "metadata": {},
   "outputs": [],
   "source": [
    "def editops_from_indexes(indexes):\n",
    "    return list(idx_to_editop_map[ix] for ix in indexes)"
   ]
  },
  {
   "cell_type": "code",
   "execution_count": 10,
   "id": "equipped-issue",
   "metadata": {},
   "outputs": [
    {
     "data": {
      "text/plain": [
       "136165"
      ]
     },
     "execution_count": 10,
     "metadata": {},
     "output_type": "execute_result"
    }
   ],
   "source": [
    "# replace editops with their corresponding indexes or 0 if not in filtered_editops, and multiply by count / count_repeat_divisor\n",
    "\n",
    "count_repeat_divisor = 200\n",
    "train_editops = []\n",
    "\n",
    "for editops, count in train_editops_counts:\n",
    "    editops = list(editop_to_idx_map[editop] if editop in filtered_editops else 0 for editop in editops)\n",
    "    editops = [editops] * math.ceil(count / count_repeat_divisor)\n",
    "    train_editops.extend(editops)\n",
    "\n",
    "len(train_editops)"
   ]
  },
  {
   "cell_type": "code",
   "execution_count": 11,
   "id": "structural-portuguese",
   "metadata": {},
   "outputs": [
    {
     "name": "stdout",
     "output_type": "stream",
     "text": [
      "(995433, 2128) (995433,)\n"
     ]
    }
   ],
   "source": [
    "# create X_train and y_train\n",
    "\n",
    "Xy = list((features, target) for editops in train_editops for features, target in get_features_targets(editops))\n",
    "X_train, y_train = list(zip(*Xy))\n",
    "X_train = np.eye(vocab_size, dtype='u2')[np.array(X_train, dtype='u2')].reshape(len(X_train),-1)\n",
    "y_train = np.array(y_train, dtype='u2')\n",
    "print(X_train.shape, y_train.shape)"
   ]
  },
  {
   "cell_type": "code",
   "execution_count": 12,
   "id": "turkish-central",
   "metadata": {},
   "outputs": [
    {
     "data": {
      "text/plain": [
       "0.6403725815800763"
      ]
     },
     "execution_count": 12,
     "metadata": {},
     "output_type": "execute_result"
    }
   ],
   "source": [
    "# fit random forest\n",
    "\n",
    "max_depth = 20\n",
    "n_estimators = 100\n",
    "\n",
    "clf = RandomForestClassifier(max_depth=max_depth, n_estimators=n_estimators, oob_score=True, n_jobs=-1, random_state=42)\n",
    "clf.fit(X_train, y_train)\n",
    "clf.oob_score_"
   ]
  },
  {
   "cell_type": "code",
   "execution_count": 13,
   "id": "postal-annex",
   "metadata": {},
   "outputs": [],
   "source": [
    "def get_Xy(cand_name, name):\n",
    "    editops = get_editops(cand_name, name)\n",
    "    editops = list(editop_to_idx_map[editop] if editop in filtered_editops else 0 for editop in editops)\n",
    "    Xy = get_features_targets(editops)\n",
    "    X, y = list(zip(*Xy))\n",
    "    X = np.eye(vocab_size, dtype='u2')[np.array(X, dtype='u2')].reshape(len(X),-1)\n",
    "    y = np.array(y, dtype='u2')    \n",
    "    return X, y"
   ]
  },
  {
   "cell_type": "code",
   "execution_count": 14,
   "id": "orange-pressure",
   "metadata": {},
   "outputs": [],
   "source": [
    "def lev_similarity(cand_name, name):\n",
    "    # jellyfish is 10x faster than Levenshtein\n",
    "    # it doesn't return the edit operations, but we don't need those here\n",
    "    cand_name = utils.remove_padding(cand_name)\n",
    "    name = utils.remove_padding(name)\n",
    "    dist = jellyfish.levenshtein_distance(name, cand_name)\n",
    "    return 1 - (dist / max(len(name), len(cand_name)))"
   ]
  },
  {
   "cell_type": "code",
   "execution_count": 15,
   "id": "coupled-valuable",
   "metadata": {},
   "outputs": [],
   "source": [
    "import warnings\n",
    "\n",
    "lev_similarity_threshold = 0.6\n",
    "no_score = -99.0\n",
    "\n",
    "def calc_similarity_to(name):\n",
    "    # score name vs name\n",
    "    X, y = get_Xy(name, name)\n",
    "    with warnings.catch_warnings():\n",
    "        warnings.simplefilter(\"ignore\")\n",
    "        predictions = clf.predict_log_proba(X)\n",
    "    indices = np.where(clf.classes_==y[:,None])[1]\n",
    "    name_score = sum(predictions[np.arange(len(indices)), indices])\n",
    "\n",
    "    def calc_similarity(row):\n",
    "        cand_name = row[0]\n",
    "        # random forest is slow; return 0 scores for names that aren't very similar\n",
    "        if lev_similarity(cand_name, name) < lev_similarity_threshold:\n",
    "            return no_score\n",
    "        # get candidate score\n",
    "        X, y = get_Xy(cand_name, name)\n",
    "        with warnings.catch_warnings():\n",
    "            warnings.simplefilter(\"ignore\")\n",
    "            predictions = clf.predict_log_proba(X)\n",
    "        indices = np.where(clf.classes_==y[:,None])[1]\n",
    "        cand_score = sum(predictions[np.arange(len(indices)), indices])\n",
    "        # score is cand_score - name_score\n",
    "        return cand_score - name_score\n",
    "\n",
    "    return calc_similarity"
   ]
  },
  {
   "cell_type": "markdown",
   "id": "corporate-reception",
   "metadata": {},
   "source": [
    "#### Similarity Function"
   ]
  },
  {
   "cell_type": "code",
   "execution_count": 16,
   "id": "unlikely-course",
   "metadata": {},
   "outputs": [],
   "source": [
    "def get_similars(name, k=10, demo_mode=False):\n",
    "    if demo_mode:\n",
    "        name = utils.add_padding(name)\n",
    "    scores = np.apply_along_axis(calc_similarity_to(name), 1, all_candidates[:,None])\n",
    "    sorted_scores_idx = np.argsort(scores)[::-1][:k]\n",
    "    candidates = all_candidates[sorted_scores_idx]\n",
    "    if demo_mode:\n",
    "        candidates = [utils.remove_padding(candidate) for candidate in candidates]\n",
    "    candidates_scores = scores[sorted_scores_idx]\n",
    "    \n",
    "    return list(zip(candidates, candidates_scores))"
   ]
  },
  {
   "cell_type": "code",
   "execution_count": 17,
   "id": "italic-large",
   "metadata": {},
   "outputs": [
    {
     "data": {
      "text/plain": [
       "-7.433819264530433"
      ]
     },
     "execution_count": 17,
     "metadata": {},
     "output_type": "execute_result"
    }
   ],
   "source": [
    "calc_similarity = calc_similarity_to('<quass>')\n",
    "calc_similarity(['<quast>'])"
   ]
  },
  {
   "cell_type": "markdown",
   "id": "endangered-stopping",
   "metadata": {},
   "source": [
    "#### Demo"
   ]
  },
  {
   "cell_type": "code",
   "execution_count": 18,
   "id": "visible-entry",
   "metadata": {},
   "outputs": [
    {
     "data": {
      "text/plain": [
       "[('bostelman', 0.0),\n",
       " ('bostelmann', -1.113080747762755),\n",
       " ('bostleman', -3.8061436300038096),\n",
       " ('bosman', -8.977597679072922),\n",
       " ('bokelman', -9.160775591376723),\n",
       " ('baseman', -9.903477799278921),\n",
       " ('bockelman', -11.374803663310843),\n",
       " ('hoseman', -11.594687111418107),\n",
       " ('osterman', -11.643527979197021),\n",
       " ('koppelman', -11.704207065091769)]"
      ]
     },
     "execution_count": 18,
     "metadata": {},
     "output_type": "execute_result"
    }
   ],
   "source": [
    "get_similars('bostelman', 10, True)"
   ]
  },
  {
   "cell_type": "markdown",
   "id": "vietnamese-writer",
   "metadata": {},
   "source": [
    "## Generate scores for all test names"
   ]
  },
  {
   "cell_type": "code",
   "execution_count": 19,
   "id": "regulated-alliance",
   "metadata": {},
   "outputs": [
    {
     "name": "stderr",
     "output_type": "stream",
     "text": [
      "100%|██████████| 2444/2444 [38:06<00:00,  1.07it/s]  \n"
     ]
    }
   ],
   "source": [
    "k = 100 # Number of candidates to consider\n",
    "name_candidates = list(map(lambda x: get_similars(x, k=k), tqdm(input_names_test)))"
   ]
  },
  {
   "cell_type": "code",
   "execution_count": 20,
   "id": "breeding-lawrence",
   "metadata": {},
   "outputs": [
    {
     "data": {
      "text/plain": [
       "2444"
      ]
     },
     "execution_count": 20,
     "metadata": {},
     "output_type": "execute_result"
    }
   ],
   "source": [
    "len(name_candidates)"
   ]
  },
  {
   "cell_type": "code",
   "execution_count": 21,
   "id": "published-representative",
   "metadata": {},
   "outputs": [],
   "source": [
    "names = np.array(list(list(cell[0] for cell in row) for row in name_candidates), dtype='O')\n",
    "scores = np.array(list(list(cell[1] for cell in row) for row in name_candidates), dtype='f8')\n",
    "candidates = np.dstack((names, scores))"
   ]
  },
  {
   "cell_type": "markdown",
   "id": "expected-wedding",
   "metadata": {},
   "source": [
    "### Evaluation"
   ]
  },
  {
   "cell_type": "markdown",
   "id": "handled-consensus",
   "metadata": {},
   "source": [
    "#### Precision @ -4"
   ]
  },
  {
   "cell_type": "code",
   "execution_count": 22,
   "id": "norwegian-sheet",
   "metadata": {},
   "outputs": [
    {
     "data": {
      "text/plain": [
       "0.6200721752788038"
      ]
     },
     "execution_count": 22,
     "metadata": {},
     "output_type": "execute_result"
    }
   ],
   "source": [
    "metrics.avg_precision_at_threshold(weighted_relevant_names_test, candidates, -4)"
   ]
  },
  {
   "cell_type": "markdown",
   "id": "functioning-necklace",
   "metadata": {},
   "source": [
    "#### Recall @ -4"
   ]
  },
  {
   "cell_type": "code",
   "execution_count": 23,
   "id": "exclusive-program",
   "metadata": {},
   "outputs": [
    {
     "data": {
      "text/plain": [
       "0.8022874774863124"
      ]
     },
     "execution_count": 23,
     "metadata": {},
     "output_type": "execute_result"
    }
   ],
   "source": [
    "metrics.avg_recall_at_threshold(weighted_relevant_names_test, candidates, -4)"
   ]
  },
  {
   "cell_type": "markdown",
   "id": "divided-dependence",
   "metadata": {},
   "source": [
    "#### Precision-Recall Curve"
   ]
  },
  {
   "cell_type": "code",
   "execution_count": 24,
   "id": "atomic-graham",
   "metadata": {},
   "outputs": [
    {
     "data": {
      "image/png": "[encoded data removed]",
      "text/plain": [
       "<Figure size 432x288 with 1 Axes>"
      ]
     },
     "metadata": {
      "needs_background": "light"
     },
     "output_type": "display_data"
    }
   ],
   "source": [
    "# minimum score threshold to test\n",
    "min_threshold = -20.0\n",
    "max_threshold = 2.0\n",
    "step = 0.1\n",
    "metrics.precision_recall_curve_at_threshold(weighted_relevant_names_test, candidates, min_threshold, max_threshold, step)"
   ]
  },
  {
   "cell_type": "markdown",
   "id": "damaged-adult",
   "metadata": {},
   "source": [
    "## Test"
   ]
  },
  {
   "cell_type": "code",
   "execution_count": 155,
   "id": "palestinian-program",
   "metadata": {},
   "outputs": [
    {
     "data": {
      "text/plain": [
       "'<bostelman>'"
      ]
     },
     "execution_count": 155,
     "metadata": {},
     "output_type": "execute_result"
    }
   ],
   "source": [
    "input_names_test[251]"
   ]
  },
  {
   "cell_type": "code",
   "execution_count": 156,
   "id": "empirical-asian",
   "metadata": {},
   "outputs": [
    {
     "data": {
      "text/plain": [
       "[('<bostelmann>', 0.6784565916398714), ('<bostleman>', 0.3215434083601286)]"
      ]
     },
     "execution_count": 156,
     "metadata": {},
     "output_type": "execute_result"
    }
   ],
   "source": [
    "weighted_relevant_names_test[251]"
   ]
  },
  {
   "cell_type": "code",
   "execution_count": 157,
   "id": "magnetic-blame",
   "metadata": {},
   "outputs": [
    {
     "data": {
      "text/plain": [
       "array([('<bostelman>', 1.        ), ('<bostelmann>', 0.9       ),\n",
       "       ('<bostleman>', 0.77777778), ('<vosselman>', 0.77777778),\n",
       "       ('<osterman>', 0.77777778)],\n",
       "      dtype=[('name', 'O'), ('score', '<f8')])"
      ]
     },
     "execution_count": 157,
     "metadata": {},
     "output_type": "execute_result"
    }
   ],
   "source": [
    "candidates[251,:5]"
   ]
  },
  {
   "cell_type": "code",
   "execution_count": 158,
   "id": "western-charlotte",
   "metadata": {},
   "outputs": [
    {
     "data": {
      "text/plain": [
       "0.6784565916398714"
      ]
     },
     "execution_count": 158,
     "metadata": {},
     "output_type": "execute_result"
    }
   ],
   "source": [
    "metrics.recall_at_threshold(weighted_relevant_names_test[251], candidates[251], 0.85)"
   ]
  },
  {
   "cell_type": "code",
   "execution_count": 159,
   "id": "departmental-netscape",
   "metadata": {},
   "outputs": [
    {
     "data": {
      "text/plain": [
       "1.0"
      ]
     },
     "execution_count": 159,
     "metadata": {},
     "output_type": "execute_result"
    }
   ],
   "source": [
    "metrics.recall_at_threshold(weighted_relevant_names_test[251], candidates[251], 0.75)"
   ]
  },
  {
   "cell_type": "code",
   "execution_count": null,
   "id": "pleased-immigration",
   "metadata": {},
   "outputs": [],
   "source": []
  }
 ],
 "metadata": {
  "kernelspec": {
   "display_name": "Python [conda env:name-matching] *",
   "language": "python",
   "name": "conda-env-name-matching-py"
  },
  "language_info": {
   "codemirror_mode": {
    "name": "ipython",
    "version": 3
   },
   "file_extension": ".py",
   "mimetype": "text/x-python",
   "name": "python",
   "nbconvert_exporter": "python",
   "pygments_lexer": "ipython3",
   "version": "3.8.5"
  }
 },
 "nbformat": 4,
 "nbformat_minor": 5
}
