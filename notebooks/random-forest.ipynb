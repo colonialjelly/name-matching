{
 "cells": [
  {
   "cell_type": "markdown",
   "id": "induced-garden",
   "metadata": {},
   "source": [
    "## Use a random forest to predict the next output character given the previous inputs and outputs"
   ]
  },
  {
   "cell_type": "code",
   "execution_count": 1,
   "id": "compatible-tulsa",
   "metadata": {},
   "outputs": [],
   "source": [
    "%load_ext autoreload\n",
    "%autoreload 2"
   ]
  },
  {
   "cell_type": "code",
   "execution_count": 2,
   "id": "cathedral-valve",
   "metadata": {},
   "outputs": [],
   "source": [
    "import numpy as np\n",
    "import math\n",
    "import jellyfish\n",
    "from collections import defaultdict\n",
    "from sklearn.ensemble import RandomForestClassifier\n",
    "from tqdm import tqdm\n",
    "\n",
    "from matchers import metrics, utils, dataset\n",
    "from matchers.models.randomforest import get_editpairs, get_Xy"
   ]
  },
  {
   "cell_type": "code",
   "execution_count": 3,
   "id": "rubber-samoa",
   "metadata": {},
   "outputs": [],
   "source": [
    "np.set_printoptions(suppress=True)\n",
    "tqdm.pandas()"
   ]
  },
  {
   "cell_type": "markdown",
   "id": "express-education",
   "metadata": {},
   "source": [
    "### Load and process data"
   ]
  },
  {
   "cell_type": "code",
   "execution_count": 4,
   "id": "described-cooperative",
   "metadata": {},
   "outputs": [],
   "source": [
    "# Only need to run this once\n",
    "# It we split the data into train/test and will persist the data on disk\n",
    "# dataset.load_split_init(test_size=0.1)"
   ]
  },
  {
   "cell_type": "code",
   "execution_count": 5,
   "id": "resistant-killer",
   "metadata": {},
   "outputs": [],
   "source": [
    "train, test = dataset.load_process_from_disk()\n",
    "\n",
    "input_names_train, weighted_relevant_names_train, all_candidates_train = train\n",
    "input_names_test, weighted_relevant_names_test, all_candidates_test = test\n",
    "\n",
    "all_candidates = np.concatenate((all_candidates_train, all_candidates_test))"
   ]
  },
  {
   "cell_type": "markdown",
   "id": "scheduled-mattress",
   "metadata": {},
   "source": [
    "### Model"
   ]
  },
  {
   "cell_type": "code",
   "execution_count": 6,
   "id": "champion-pipeline",
   "metadata": {},
   "outputs": [
    {
     "data": {
      "text/plain": [
       "22541"
      ]
     },
     "execution_count": 6,
     "metadata": {},
     "output_type": "execute_result"
    }
   ],
   "source": [
    "train_editpairs = []\n",
    "\n",
    "for tree_name, record_names in zip(input_names_train, weighted_relevant_names_train):\n",
    "    for weighted_record_name in record_names:\n",
    "        train_editpairs.append(get_editpairs(weighted_record_name[0], tree_name))\n",
    "\n",
    "len(train_editpairs)"
   ]
  },
  {
   "cell_type": "code",
   "execution_count": 7,
   "id": "proper-depression",
   "metadata": {},
   "outputs": [
    {
     "name": "stdout",
     "output_type": "stream",
     "text": [
      "(199608, 270) (199608,)\n"
     ]
    }
   ],
   "source": [
    "# create X_train and y_train\n",
    "\n",
    "window_size = 4\n",
    "\n",
    "X_train, y_train = get_Xy(train_editpairs, window_size)\n",
    "print(X_train.shape, y_train.shape)"
   ]
  },
  {
   "cell_type": "code",
   "execution_count": 8,
   "id": "municipal-emission",
   "metadata": {},
   "outputs": [
    {
     "data": {
      "text/plain": [
       "0.904567953188249"
      ]
     },
     "execution_count": 8,
     "metadata": {},
     "output_type": "execute_result"
    }
   ],
   "source": [
    "# fit random forest\n",
    "\n",
    "max_depth = 30\n",
    "n_estimators = 100\n",
    "\n",
    "clf = RandomForestClassifier(max_depth=max_depth, n_estimators=n_estimators, oob_score=True, n_jobs=-1, random_state=42)\n",
    "clf.fit(X_train, y_train)\n",
    "clf.oob_score_"
   ]
  },
  {
   "cell_type": "code",
   "execution_count": 9,
   "id": "virtual-device",
   "metadata": {},
   "outputs": [],
   "source": [
    "def lev_similarity(cand_name, name):\n",
    "    # jellyfish is 10x faster than Levenshtein\n",
    "    # it doesn't return the edit operations, but we don't need those here\n",
    "    cand_name = utils.remove_padding(cand_name)\n",
    "    name = utils.remove_padding(name)\n",
    "    dist = jellyfish.levenshtein_distance(name, cand_name)\n",
    "    return 1 - (dist / max(len(name), len(cand_name)))"
   ]
  },
  {
   "cell_type": "code",
   "execution_count": 10,
   "id": "painted-dispute",
   "metadata": {},
   "outputs": [],
   "source": [
    "import warnings\n",
    "\n",
    "lev_similarity_threshold = 0.6\n",
    "no_score = -99.0\n",
    "\n",
    "def calc_similarity_to(name):\n",
    "    # score name vs name\n",
    "    X, y = get_Xy([get_editpairs(name, name)], window_size)\n",
    "    with warnings.catch_warnings():\n",
    "        warnings.simplefilter(\"ignore\")\n",
    "        predictions = clf.predict_log_proba(X)\n",
    "    indices = np.where(clf.classes_==y[:,None])[1]\n",
    "    name_score = sum(predictions[np.arange(len(indices)), indices])\n",
    "\n",
    "    def calc_similarity(row):\n",
    "        cand_name = row[0]\n",
    "        # random forest is slow; return 0 scores for names that aren't very similar\n",
    "        if lev_similarity(cand_name, name) < lev_similarity_threshold:\n",
    "            return no_score\n",
    "        # get candidate score\n",
    "        X, y = get_Xy([get_editpairs(cand_name, name)], window_size)\n",
    "        with warnings.catch_warnings():\n",
    "            warnings.simplefilter(\"ignore\")\n",
    "            predictions = clf.predict_log_proba(X)\n",
    "        indices = np.where(clf.classes_==y[:,None])[1]\n",
    "        cand_score = sum(predictions[np.arange(len(indices)), indices])\n",
    "        # score is cand_score - name_score\n",
    "        return cand_score - name_score\n",
    "\n",
    "    return calc_similarity"
   ]
  },
  {
   "cell_type": "markdown",
   "id": "racial-electricity",
   "metadata": {},
   "source": [
    "#### Similarity Function"
   ]
  },
  {
   "cell_type": "code",
   "execution_count": 11,
   "id": "understood-construction",
   "metadata": {},
   "outputs": [],
   "source": [
    "def get_similars(name, k=10, demo_mode=False):\n",
    "    if demo_mode:\n",
    "        name = utils.add_padding(name)\n",
    "    scores = np.apply_along_axis(calc_similarity_to(name), 1, all_candidates[:,None])\n",
    "    sorted_scores_idx = np.argsort(scores)[::-1][:k]\n",
    "    candidates = all_candidates[sorted_scores_idx]\n",
    "    if demo_mode:\n",
    "        candidates = [utils.remove_padding(candidate) for candidate in candidates]\n",
    "    candidates_scores = scores[sorted_scores_idx]\n",
    "    \n",
    "    return list(zip(candidates, candidates_scores))"
   ]
  },
  {
   "cell_type": "code",
   "execution_count": 12,
   "id": "sensitive-roots",
   "metadata": {},
   "outputs": [
    {
     "data": {
      "text/plain": [
       "-4.493598546175214"
      ]
     },
     "execution_count": 12,
     "metadata": {},
     "output_type": "execute_result"
    }
   ],
   "source": [
    "calc_similarity = calc_similarity_to('<quass>')\n",
    "calc_similarity(['<quast>'])"
   ]
  },
  {
   "cell_type": "markdown",
   "id": "lesser-antarctica",
   "metadata": {},
   "source": [
    "#### Demo"
   ]
  },
  {
   "cell_type": "code",
   "execution_count": 13,
   "id": "enclosed-island",
   "metadata": {},
   "outputs": [
    {
     "data": {
      "text/plain": [
       "[('bostelman', -4.440892098500626e-16),\n",
       " ('bostelmann', -0.07863752870526097),\n",
       " ('bostleman', -2.9625867655163254),\n",
       " ('bokelman', -6.438046744102918),\n",
       " ('bosman', -6.616046096964132),\n",
       " ('bothman', -7.350681507534022),\n",
       " ('bushelman', -7.738154839748606),\n",
       " ('bockelman', -8.026404327075555),\n",
       " ('baseman', -8.389334955998219),\n",
       " ('bestman', -8.73328298174307)]"
      ]
     },
     "execution_count": 13,
     "metadata": {},
     "output_type": "execute_result"
    }
   ],
   "source": [
    "get_similars('bostelman', 10, True)"
   ]
  },
  {
   "cell_type": "markdown",
   "id": "infrared-windsor",
   "metadata": {},
   "source": [
    "## Generate scores for all test names"
   ]
  },
  {
   "cell_type": "code",
   "execution_count": 14,
   "id": "exclusive-birth",
   "metadata": {},
   "outputs": [
    {
     "name": "stderr",
     "output_type": "stream",
     "text": [
      "100%|██████████| 2444/2444 [34:36<00:00,  1.18it/s] \n"
     ]
    }
   ],
   "source": [
    "k = 100 # Number of candidates to consider\n",
    "name_candidates = list(map(lambda x: get_similars(x, k=k), tqdm(input_names_test)))"
   ]
  },
  {
   "cell_type": "code",
   "execution_count": 15,
   "id": "instrumental-indication",
   "metadata": {},
   "outputs": [
    {
     "data": {
      "text/plain": [
       "2444"
      ]
     },
     "execution_count": 15,
     "metadata": {},
     "output_type": "execute_result"
    }
   ],
   "source": [
    "len(name_candidates)"
   ]
  },
  {
   "cell_type": "code",
   "execution_count": 16,
   "id": "ranging-equivalent",
   "metadata": {},
   "outputs": [],
   "source": [
    "names = np.array(list(list(cell[0] for cell in row) for row in name_candidates), dtype='O')\n",
    "scores = np.array(list(list(cell[1] for cell in row) for row in name_candidates), dtype='f8')\n",
    "candidates = np.dstack((names, scores))"
   ]
  },
  {
   "cell_type": "markdown",
   "id": "empirical-service",
   "metadata": {},
   "source": [
    "### Evaluation"
   ]
  },
  {
   "cell_type": "markdown",
   "id": "decent-script",
   "metadata": {},
   "source": [
    "#### Precision @ -4"
   ]
  },
  {
   "cell_type": "code",
   "execution_count": 101,
   "id": "dietary-section",
   "metadata": {},
   "outputs": [
    {
     "data": {
      "text/plain": [
       "0.49404638551834507"
      ]
     },
     "execution_count": 101,
     "metadata": {},
     "output_type": "execute_result"
    }
   ],
   "source": [
    "metrics.avg_precision_at_threshold(weighted_relevant_names_test, candidates, -5.81)"
   ]
  },
  {
   "cell_type": "markdown",
   "id": "amber-myanmar",
   "metadata": {},
   "source": [
    "#### Recall @ -4"
   ]
  },
  {
   "cell_type": "code",
   "execution_count": 102,
   "id": "public-brief",
   "metadata": {},
   "outputs": [
    {
     "data": {
      "text/plain": [
       "0.9501475171147631"
      ]
     },
     "execution_count": 102,
     "metadata": {},
     "output_type": "execute_result"
    }
   ],
   "source": [
    "metrics.avg_recall_at_threshold(weighted_relevant_names_test, candidates, -5.81)"
   ]
  },
  {
   "cell_type": "markdown",
   "id": "median-techno",
   "metadata": {},
   "source": [
    "#### Precision-Recall Curve"
   ]
  },
  {
   "cell_type": "code",
   "execution_count": 103,
   "id": "reserved-survivor",
   "metadata": {},
   "outputs": [
    {
     "data": {
      "image/png": "[encoded data removed]",
      "text/plain": [
       "<Figure size 432x288 with 1 Axes>"
      ]
     },
     "metadata": {
      "needs_background": "light"
     },
     "output_type": "display_data"
    }
   ],
   "source": [
    "# minimum score threshold to test\n",
    "min_threshold = -10.0\n",
    "max_threshold = 0.0\n",
    "step = 0.1\n",
    "metrics.precision_recall_curve_at_threshold(weighted_relevant_names_test, candidates, min_threshold, max_threshold, step)"
   ]
  },
  {
   "cell_type": "markdown",
   "id": "falling-convenience",
   "metadata": {},
   "source": [
    "## Test"
   ]
  },
  {
   "cell_type": "code",
   "execution_count": 155,
   "id": "favorite-hawaiian",
   "metadata": {},
   "outputs": [
    {
     "data": {
      "text/plain": [
       "'<bostelman>'"
      ]
     },
     "execution_count": 155,
     "metadata": {},
     "output_type": "execute_result"
    }
   ],
   "source": [
    "input_names_test[251]"
   ]
  },
  {
   "cell_type": "code",
   "execution_count": 156,
   "id": "durable-accounting",
   "metadata": {},
   "outputs": [
    {
     "data": {
      "text/plain": [
       "[('<bostelmann>', 0.6784565916398714), ('<bostleman>', 0.3215434083601286)]"
      ]
     },
     "execution_count": 156,
     "metadata": {},
     "output_type": "execute_result"
    }
   ],
   "source": [
    "weighted_relevant_names_test[251]"
   ]
  },
  {
   "cell_type": "code",
   "execution_count": 157,
   "id": "approved-universal",
   "metadata": {},
   "outputs": [
    {
     "data": {
      "text/plain": [
       "array([('<bostelman>', 1.        ), ('<bostelmann>', 0.9       ),\n",
       "       ('<bostleman>', 0.77777778), ('<vosselman>', 0.77777778),\n",
       "       ('<osterman>', 0.77777778)],\n",
       "      dtype=[('name', 'O'), ('score', '<f8')])"
      ]
     },
     "execution_count": 157,
     "metadata": {},
     "output_type": "execute_result"
    }
   ],
   "source": [
    "candidates[251,:5]"
   ]
  },
  {
   "cell_type": "code",
   "execution_count": 158,
   "id": "legendary-snapshot",
   "metadata": {},
   "outputs": [
    {
     "data": {
      "text/plain": [
       "0.6784565916398714"
      ]
     },
     "execution_count": 158,
     "metadata": {},
     "output_type": "execute_result"
    }
   ],
   "source": [
    "metrics.recall_at_threshold(weighted_relevant_names_test[251], candidates[251], 0.85)"
   ]
  },
  {
   "cell_type": "code",
   "execution_count": 159,
   "id": "naughty-mandate",
   "metadata": {},
   "outputs": [
    {
     "data": {
      "text/plain": [
       "1.0"
      ]
     },
     "execution_count": 159,
     "metadata": {},
     "output_type": "execute_result"
    }
   ],
   "source": [
    "metrics.recall_at_threshold(weighted_relevant_names_test[251], candidates[251], 0.75)"
   ]
  },
  {
   "cell_type": "code",
   "execution_count": null,
   "id": "coated-alcohol",
   "metadata": {},
   "outputs": [],
   "source": []
  }
 ],
 "metadata": {
  "kernelspec": {
   "display_name": "Python [conda env:name-matching] *",
   "language": "python",
   "name": "conda-env-name-matching-py"
  },
  "language_info": {
   "codemirror_mode": {
    "name": "ipython",
    "version": 3
   },
   "file_extension": ".py",
   "mimetype": "text/x-python",
   "name": "python",
   "nbconvert_exporter": "python",
   "pygments_lexer": "ipython3",
   "version": "3.8.5"
  }
 },
 "nbformat": 4,
 "nbformat_minor": 5
}
