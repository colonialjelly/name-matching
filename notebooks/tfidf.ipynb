{
 "cells": [
  {
   "cell_type": "code",
   "execution_count": 1,
   "id": "endangered-floating",
   "metadata": {},
   "outputs": [],
   "source": [
    "%load_ext autoreload\n",
    "%autoreload 2"
   ]
  },
  {
   "cell_type": "code",
   "execution_count": 2,
   "id": "available-repeat",
   "metadata": {},
   "outputs": [],
   "source": [
    "import numpy as np\n",
    "from tqdm import tqdm\n",
    "from sklearn.feature_extraction.text import TfidfVectorizer\n",
    "from sklearn.utils.extmath import safe_sparse_dot\n",
    "from scipy.sparse import vstack\n",
    "\n",
    "from matchers import metrics, utils, dataset"
   ]
  },
  {
   "cell_type": "code",
   "execution_count": 3,
   "id": "afraid-donor",
   "metadata": {},
   "outputs": [],
   "source": [
    "np.set_printoptions(suppress=True)\n",
    "tqdm.pandas()"
   ]
  },
  {
   "cell_type": "markdown",
   "id": "killing-least",
   "metadata": {},
   "source": [
    "### Load and process data"
   ]
  },
  {
   "cell_type": "code",
   "execution_count": 4,
   "id": "commercial-white",
   "metadata": {},
   "outputs": [],
   "source": [
    "# Only need to run this once\n",
    "# It we split the data into train/test and will persist the data on disk\n",
    "dataset.load_split_init(test_size=0.1)"
   ]
  },
  {
   "cell_type": "code",
   "execution_count": 5,
   "id": "norman-ebony",
   "metadata": {},
   "outputs": [],
   "source": [
    "train, test = dataset.load_process_from_disk()\n",
    "\n",
    "input_names_train, weighted_relevant_names_train, all_candidates_train = train\n",
    "input_names_test, weighted_relevant_names_test, all_candidates_test = test\n",
    "\n",
    "relevant_names_train = [[name for name, _ in name_weights] for name_weights in weighted_relevant_names_train]\n",
    "relevant_names_test = [[name for name, _ in name_weights] for name_weights in weighted_relevant_names_test]\n",
    "\n",
    "all_candidates = np.concatenate((all_candidates_train, all_candidates_test))"
   ]
  },
  {
   "cell_type": "markdown",
   "id": "informative-sunset",
   "metadata": {},
   "source": [
    "### Model"
   ]
  },
  {
   "cell_type": "code",
   "execution_count": 6,
   "id": "understanding-neighborhood",
   "metadata": {},
   "outputs": [],
   "source": [
    "vectorizer = TfidfVectorizer(ngram_range=(1, 3), analyzer='char_wb', min_df=10, max_df=0.5)"
   ]
  },
  {
   "cell_type": "code",
   "execution_count": 7,
   "id": "great-constitutional",
   "metadata": {},
   "outputs": [],
   "source": [
    "X_train = vectorizer.fit_transform(all_candidates_train)\n",
    "X_test = vectorizer.transform(all_candidates_test)\n",
    "X_all = vstack((X_train, X_test))"
   ]
  },
  {
   "cell_type": "markdown",
   "id": "configured-correlation",
   "metadata": {},
   "source": [
    "#### Similarity Function"
   ]
  },
  {
   "cell_type": "code",
   "execution_count": 8,
   "id": "marine-thickness",
   "metadata": {},
   "outputs": [],
   "source": [
    "def get_similars(name, k=10, demo_mode=False):\n",
    "    if demo_mode:\n",
    "        name = utils.add_padding(name)\n",
    "    x = vectorizer.transform([name]).toarray()\n",
    "    scores = safe_sparse_dot(X_all, x.T).flatten()\n",
    "    sorted_scores_idx = np.argsort(scores)[::-1][:k]\n",
    "    candidates = all_candidates[sorted_scores_idx]\n",
    "    if demo_mode:\n",
    "        candidates = [utils.remove_padding(candidate) for candidate in candidates]\n",
    "    candidates_scores = scores[sorted_scores_idx]\n",
    "    \n",
    "    return list(zip(candidates, candidates_scores))"
   ]
  },
  {
   "cell_type": "markdown",
   "id": "parental-legislation",
   "metadata": {},
   "source": [
    "#### Demo"
   ]
  },
  {
   "cell_type": "code",
   "execution_count": 9,
   "id": "czech-cotton",
   "metadata": {},
   "outputs": [
    {
     "data": {
      "text/plain": [
       "[('schumacker', 0.8091910201105204),\n",
       " ('schuman', 0.7499740328601138),\n",
       " ('schumann', 0.7028078364574786),\n",
       " ('schumaker', 0.691594961530637),\n",
       " ('schacher', 0.6555404281281796),\n",
       " ('schum', 0.6374145590188357),\n",
       " ('scheuman', 0.5581458870921694),\n",
       " ('hamacher', 0.5427420219299985),\n",
       " ('amacher', 0.5366064690591383),\n",
       " ('stelmacher', 0.5298472894115192)]"
      ]
     },
     "execution_count": 9,
     "metadata": {},
     "output_type": "execute_result"
    }
   ],
   "source": [
    "get_similars('schumacher', 10, True)"
   ]
  },
  {
   "cell_type": "markdown",
   "id": "comparable-nightmare",
   "metadata": {},
   "source": [
    "### Generate candidates for all test names"
   ]
  },
  {
   "cell_type": "code",
   "execution_count": 10,
   "id": "proper-milwaukee",
   "metadata": {},
   "outputs": [
    {
     "name": "stderr",
     "output_type": "stream",
     "text": [
      "100%|██████████| 2452/2452 [00:06<00:00, 355.84it/s]\n"
     ]
    }
   ],
   "source": [
    "k = 100 # Number of candidates\n",
    "name_candidates = list(map(lambda x: get_similars(x, k=k), tqdm(input_names_test)))\n",
    "candidates_test = np.array(name_candidates)[:, :, 0]"
   ]
  },
  {
   "cell_type": "markdown",
   "id": "flexible-affiliate",
   "metadata": {},
   "source": [
    "### Evaluation"
   ]
  },
  {
   "cell_type": "markdown",
   "id": "universal-priority",
   "metadata": {},
   "source": [
    "### mAP@1"
   ]
  },
  {
   "cell_type": "code",
   "execution_count": 11,
   "id": "italic-beverage",
   "metadata": {},
   "outputs": [
    {
     "data": {
      "text/plain": [
       "0.4600326264274062"
      ]
     },
     "execution_count": 11,
     "metadata": {},
     "output_type": "execute_result"
    }
   ],
   "source": [
    "metrics.mean_avg_precision_k(relevant_names_test, candidates_test, 1)"
   ]
  },
  {
   "cell_type": "markdown",
   "id": "incomplete-barrel",
   "metadata": {},
   "source": [
    "### mAP@3"
   ]
  },
  {
   "cell_type": "code",
   "execution_count": 12,
   "id": "threatened-product",
   "metadata": {},
   "outputs": [
    {
     "data": {
      "text/plain": [
       "0.3838363240891789"
      ]
     },
     "execution_count": 12,
     "metadata": {},
     "output_type": "execute_result"
    }
   ],
   "source": [
    "metrics.mean_avg_precision_k(relevant_names_test, candidates_test, 3)"
   ]
  },
  {
   "cell_type": "markdown",
   "id": "solved-statistics",
   "metadata": {},
   "source": [
    "### Precision-Recall Curve"
   ]
  },
  {
   "cell_type": "code",
   "execution_count": 13,
   "id": "offshore-shore",
   "metadata": {},
   "outputs": [
    {
     "data": {
      "image/png": "[encoded data removed]",
      "text/plain": [
       "<Figure size 432x288 with 1 Axes>"
      ]
     },
     "metadata": {
      "needs_background": "light"
     },
     "output_type": "display_data"
    }
   ],
   "source": [
    "# Number of rank cutoffs to test i.e precision_{i}, recall_{i} for i in (1, ..., N)\n",
    "N = 100\n",
    "metrics.precision_recall_curve(relevant_names_test, candidates_test, N)"
   ]
  },
  {
   "cell_type": "code",
   "execution_count": null,
   "id": "provincial-survivor",
   "metadata": {},
   "outputs": [],
   "source": []
  }
 ],
 "metadata": {
  "kernelspec": {
   "display_name": "Python [conda env:name-matching] *",
   "language": "python",
   "name": "conda-env-name-matching-py"
  },
  "language_info": {
   "codemirror_mode": {
    "name": "ipython",
    "version": 3
   },
   "file_extension": ".py",
   "mimetype": "text/x-python",
   "name": "python",
   "nbconvert_exporter": "python",
   "pygments_lexer": "ipython3",
   "version": "3.8.5"
  }
 },
 "nbformat": 4,
 "nbformat_minor": 5
}
