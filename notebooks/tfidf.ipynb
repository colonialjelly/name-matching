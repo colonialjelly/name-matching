{
 "cells": [
  {
   "cell_type": "code",
   "execution_count": 14,
   "id": "endangered-floating",
   "metadata": {},
   "outputs": [],
   "source": [
    "%load_ext autoreload\n",
    "%autoreload 2"
   ]
  },
  {
   "cell_type": "code",
   "execution_count": 15,
   "id": "available-repeat",
   "metadata": {},
   "outputs": [],
   "source": [
    "import numpy as np\n",
    "from tqdm import tqdm\n",
    "from sklearn.feature_extraction.text import TfidfVectorizer\n",
    "from sklearn.utils.extmath import safe_sparse_dot\n",
    "\n",
    "from matchers import metrics\n",
    "from matchers import utils\n",
    "from matchers import dataset"
   ]
  },
  {
   "cell_type": "code",
   "execution_count": 16,
   "id": "afraid-donor",
   "metadata": {},
   "outputs": [],
   "source": [
    "np.set_printoptions(suppress=True)\n",
    "tqdm.pandas()"
   ]
  },
  {
   "cell_type": "markdown",
   "id": "killing-least",
   "metadata": {},
   "source": [
    "### Load and process data"
   ]
  },
  {
   "cell_type": "code",
   "execution_count": 17,
   "id": "speaking-progress",
   "metadata": {},
   "outputs": [],
   "source": [
    "input_names, weighted_relevant_names, all_candidates = dataset.load_preprocess()\n",
    "relevant_names = [[name for name,weight in name_weights] for name_weights in weighted_relevant_names]"
   ]
  },
  {
   "cell_type": "markdown",
   "id": "informative-sunset",
   "metadata": {},
   "source": [
    "### Model"
   ]
  },
  {
   "cell_type": "code",
   "execution_count": 18,
   "id": "understanding-neighborhood",
   "metadata": {},
   "outputs": [],
   "source": [
    "vectorizer = TfidfVectorizer(ngram_range=(1, 3), analyzer='char_wb', min_df=10, max_df=0.5)"
   ]
  },
  {
   "cell_type": "code",
   "execution_count": 19,
   "id": "great-constitutional",
   "metadata": {},
   "outputs": [],
   "source": [
    "X = vectorizer.fit_transform(all_candidates)"
   ]
  },
  {
   "cell_type": "markdown",
   "id": "configured-correlation",
   "metadata": {},
   "source": [
    "#### Similarity Function"
   ]
  },
  {
   "cell_type": "code",
   "execution_count": 20,
   "id": "marine-thickness",
   "metadata": {},
   "outputs": [],
   "source": [
    "def get_similars(name, k=10, demo_mode=False):\n",
    "    if demo_mode:\n",
    "        name = utils.add_padding(name)\n",
    "    x = vectorizer.transform([name]).toarray()\n",
    "    scores = safe_sparse_dot(X, x.T).flatten()\n",
    "    sorted_scores_idx = np.argsort(scores)[::-1][:k]\n",
    "    candidates = all_candidates[sorted_scores_idx]\n",
    "    if demo_mode:\n",
    "        candidates = [utils.remove_padding(candidate) for candidate in candidates]\n",
    "    candidates_scores = scores[sorted_scores_idx]\n",
    "    \n",
    "    return list(zip(candidates, candidates_scores))"
   ]
  },
  {
   "cell_type": "markdown",
   "id": "parental-legislation",
   "metadata": {},
   "source": [
    "#### Demo"
   ]
  },
  {
   "cell_type": "code",
   "execution_count": 21,
   "id": "czech-cotton",
   "metadata": {},
   "outputs": [
    {
     "data": {
      "text/plain": [
       "[('schumacker', 0.8092917375133883),\n",
       " ('schuman', 0.7500946651703772),\n",
       " ('schumann', 0.7027601314426228),\n",
       " ('schumaker', 0.6902077476321085),\n",
       " ('schacher', 0.6547967092097396),\n",
       " ('schum', 0.6372697150535586),\n",
       " ('scheuman', 0.5581147793510491),\n",
       " ('hamacher', 0.5418542569428892),\n",
       " ('amacher', 0.5358002092434179),\n",
       " ('stelmacher', 0.5294070446892176)]"
      ]
     },
     "execution_count": 21,
     "metadata": {},
     "output_type": "execute_result"
    }
   ],
   "source": [
    "get_similars('schumacher', 10, True)"
   ]
  },
  {
   "cell_type": "markdown",
   "id": "comparable-nightmare",
   "metadata": {},
   "source": [
    "### Generate candidates for all names"
   ]
  },
  {
   "cell_type": "code",
   "execution_count": 22,
   "id": "proper-milwaukee",
   "metadata": {},
   "outputs": [
    {
     "name": "stderr",
     "output_type": "stream",
     "text": [
      "100%|██████████| 23587/23587 [00:57<00:00, 410.28it/s]\n"
     ]
    }
   ],
   "source": [
    "k = 100 # Number of candidates\n",
    "name_candidates = list(map(lambda x: get_similars(x, k=k), tqdm(input_names)))\n",
    "candidates = np.array(name_candidates)[:, :, 0]"
   ]
  },
  {
   "cell_type": "markdown",
   "id": "flexible-affiliate",
   "metadata": {},
   "source": [
    "### Evaluation"
   ]
  },
  {
   "cell_type": "markdown",
   "id": "universal-priority",
   "metadata": {},
   "source": [
    "### mAP@1"
   ]
  },
  {
   "cell_type": "code",
   "execution_count": 23,
   "id": "italic-beverage",
   "metadata": {},
   "outputs": [
    {
     "data": {
      "text/plain": [
       "0.4927714418959596"
      ]
     },
     "execution_count": 23,
     "metadata": {},
     "output_type": "execute_result"
    }
   ],
   "source": [
    "metrics.mean_avg_precision_k(relevant_names, candidates, 1)"
   ]
  },
  {
   "cell_type": "markdown",
   "id": "incomplete-barrel",
   "metadata": {},
   "source": [
    "### mAP@3"
   ]
  },
  {
   "cell_type": "code",
   "execution_count": 24,
   "id": "threatened-product",
   "metadata": {},
   "outputs": [
    {
     "data": {
      "text/plain": [
       "0.4073265405143134"
      ]
     },
     "execution_count": 24,
     "metadata": {},
     "output_type": "execute_result"
    }
   ],
   "source": [
    "metrics.mean_avg_precision_k(relevant_names, candidates, 3)"
   ]
  },
  {
   "cell_type": "markdown",
   "id": "solved-statistics",
   "metadata": {},
   "source": [
    "### Precision-Recall Curve"
   ]
  },
  {
   "cell_type": "code",
   "execution_count": 28,
   "id": "offshore-shore",
   "metadata": {},
   "outputs": [
    {
     "data": {
      "image/png": "[encoded data removed]",
      "text/plain": [
       "<Figure size 432x288 with 1 Axes>"
      ]
     },
     "metadata": {
      "needs_background": "light"
     },
     "output_type": "display_data"
    }
   ],
   "source": [
    "# Number of rank cutoffs to test i.e precision_{i}, recall_{i} for i in (1, ..., N)\n",
    "N = 100\n",
    "metrics.precision_recall_curve(relevant_names, candidates, N)"
   ]
  },
  {
   "cell_type": "code",
   "execution_count": null,
   "id": "provincial-survivor",
   "metadata": {},
   "outputs": [],
   "source": []
  }
 ],
 "metadata": {
  "kernelspec": {
   "display_name": "Python [conda env:name-matching] *",
   "language": "python",
   "name": "conda-env-name-matching-py"
  },
  "language_info": {
   "codemirror_mode": {
    "name": "ipython",
    "version": 3
   },
   "file_extension": ".py",
   "mimetype": "text/x-python",
   "name": "python",
   "nbconvert_exporter": "python",
   "pygments_lexer": "ipython3",
   "version": "3.8.5"
  }
 },
 "nbformat": 4,
 "nbformat_minor": 5
}
