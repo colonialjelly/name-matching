{
 "cells": [
  {
   "cell_type": "code",
   "execution_count": 1,
   "id": "juvenile-plain",
   "metadata": {},
   "outputs": [],
   "source": [
    "%load_ext autoreload\n",
    "%autoreload 2"
   ]
  },
  {
   "cell_type": "code",
   "execution_count": 2,
   "id": "immediate-aaron",
   "metadata": {},
   "outputs": [],
   "source": [
    "import sys\n",
    "sys.path.append('..')"
   ]
  },
  {
   "cell_type": "code",
   "execution_count": 3,
   "id": "corrected-chemical",
   "metadata": {},
   "outputs": [],
   "source": [
    "import pickle\n",
    "import torch\n",
    "import numpy as np\n",
    "import pandas as pd\n",
    "from collections import defaultdict\n",
    "from tqdm import tqdm\n",
    "from matchers import constant, dataset, metrics, utils\n",
    "from matchers.models.autoencoder import AutoEncoder\n",
    "from matchers.models import triplet_loss"
   ]
  },
  {
   "cell_type": "code",
   "execution_count": 4,
   "id": "wooden-preservation",
   "metadata": {},
   "outputs": [],
   "source": [
    "MAX_NAME_LENGTH=30\n",
    "char_to_idx_map, idx_to_char_map = utils.build_token_idx_maps()"
   ]
  },
  {
   "cell_type": "markdown",
   "id": "adaptive-medline",
   "metadata": {},
   "source": [
    "### Load model"
   ]
  },
  {
   "cell_type": "code",
   "execution_count": 70,
   "id": "wrong-pipeline",
   "metadata": {},
   "outputs": [],
   "source": [
    "model = torch.load('../data/ae-bilstm-100.pth')"
   ]
  },
  {
   "cell_type": "code",
   "execution_count": 68,
   "id": "synthetic-lesson",
   "metadata": {},
   "outputs": [],
   "source": [
    "device = torch.device(\"cuda:0\" if torch.cuda.is_available() else \"cpu\")"
   ]
  },
  {
   "cell_type": "markdown",
   "id": "residential-connectivity",
   "metadata": {},
   "source": [
    "### Load Ancestry data for fine-tuning and evaluation"
   ]
  },
  {
   "cell_type": "code",
   "execution_count": 7,
   "id": "binary-baker",
   "metadata": {},
   "outputs": [],
   "source": [
    "train, test = dataset.load_process_from_disk()\n",
    "\n",
    "input_names_train, weighted_relevant_names_train, candidates_train = train\n",
    "input_names_test, weighted_relevant_names_test, candidates_test = test\n",
    "\n",
    "relevant_names_train = [[name for name, _, _ in name_weights] for name_weights in weighted_relevant_names_train]\n",
    "relevant_names_test = [[name for name, _, _ in name_weights] for name_weights in weighted_relevant_names_test]\n",
    "\n",
    "all_candidates = np.concatenate((candidates_train, candidates_test))"
   ]
  },
  {
   "cell_type": "markdown",
   "id": "understanding-faith",
   "metadata": {},
   "source": [
    "### Train with WeRelate data"
   ]
  },
  {
   "cell_type": "code",
   "execution_count": 7,
   "id": "collective-excuse",
   "metadata": {},
   "outputs": [
    {
     "data": {
      "text/html": [
       "<div>\n",
       "<style scoped>\n",
       "    .dataframe tbody tr th:only-of-type {\n",
       "        vertical-align: middle;\n",
       "    }\n",
       "\n",
       "    .dataframe tbody tr th {\n",
       "        vertical-align: top;\n",
       "    }\n",
       "\n",
       "    .dataframe thead th {\n",
       "        text-align: right;\n",
       "    }\n",
       "</style>\n",
       "<table border=\"1\" class=\"dataframe\">\n",
       "  <thead>\n",
       "    <tr style=\"text-align: right;\">\n",
       "      <th></th>\n",
       "      <th>Unnamed: 0</th>\n",
       "      <th>name1</th>\n",
       "      <th>name2</th>\n",
       "      <th>co_occurrence</th>\n",
       "      <th>count1</th>\n",
       "      <th>count2</th>\n",
       "    </tr>\n",
       "  </thead>\n",
       "  <tbody>\n",
       "    <tr>\n",
       "      <th>0</th>\n",
       "      <td>0</td>\n",
       "      <td>ae</td>\n",
       "      <td>iye</td>\n",
       "      <td>0</td>\n",
       "      <td>0</td>\n",
       "      <td>0</td>\n",
       "    </tr>\n",
       "    <tr>\n",
       "      <th>1</th>\n",
       "      <td>1</td>\n",
       "      <td>ae</td>\n",
       "      <td>ase</td>\n",
       "      <td>0</td>\n",
       "      <td>0</td>\n",
       "      <td>0</td>\n",
       "    </tr>\n",
       "    <tr>\n",
       "      <th>2</th>\n",
       "      <td>2</td>\n",
       "      <td>ae</td>\n",
       "      <td>yah</td>\n",
       "      <td>0</td>\n",
       "      <td>0</td>\n",
       "      <td>0</td>\n",
       "    </tr>\n",
       "    <tr>\n",
       "      <th>3</th>\n",
       "      <td>3</td>\n",
       "      <td>ae</td>\n",
       "      <td>yeo</td>\n",
       "      <td>0</td>\n",
       "      <td>0</td>\n",
       "      <td>0</td>\n",
       "    </tr>\n",
       "    <tr>\n",
       "      <th>4</th>\n",
       "      <td>4</td>\n",
       "      <td>ae</td>\n",
       "      <td>aye</td>\n",
       "      <td>0</td>\n",
       "      <td>0</td>\n",
       "      <td>0</td>\n",
       "    </tr>\n",
       "    <tr>\n",
       "      <th>...</th>\n",
       "      <td>...</td>\n",
       "      <td>...</td>\n",
       "      <td>...</td>\n",
       "      <td>...</td>\n",
       "      <td>...</td>\n",
       "      <td>...</td>\n",
       "    </tr>\n",
       "    <tr>\n",
       "      <th>2644543</th>\n",
       "      <td>2644543</td>\n",
       "      <td>swarte</td>\n",
       "      <td>zwarts</td>\n",
       "      <td>0</td>\n",
       "      <td>0</td>\n",
       "      <td>0</td>\n",
       "    </tr>\n",
       "    <tr>\n",
       "      <th>2644544</th>\n",
       "      <td>2644544</td>\n",
       "      <td>zwetzig</td>\n",
       "      <td>zweizig</td>\n",
       "      <td>0</td>\n",
       "      <td>0</td>\n",
       "      <td>0</td>\n",
       "    </tr>\n",
       "    <tr>\n",
       "      <th>2644545</th>\n",
       "      <td>2644545</td>\n",
       "      <td>zweygardt</td>\n",
       "      <td>zwigard</td>\n",
       "      <td>0</td>\n",
       "      <td>0</td>\n",
       "      <td>0</td>\n",
       "    </tr>\n",
       "    <tr>\n",
       "      <th>2644546</th>\n",
       "      <td>2644546</td>\n",
       "      <td>zwickey</td>\n",
       "      <td>zwicki</td>\n",
       "      <td>0</td>\n",
       "      <td>0</td>\n",
       "      <td>0</td>\n",
       "    </tr>\n",
       "    <tr>\n",
       "      <th>2644547</th>\n",
       "      <td>2644547</td>\n",
       "      <td>zwinger</td>\n",
       "      <td>zwing</td>\n",
       "      <td>0</td>\n",
       "      <td>0</td>\n",
       "      <td>0</td>\n",
       "    </tr>\n",
       "  </tbody>\n",
       "</table>\n",
       "<p>2644548 rows × 6 columns</p>\n",
       "</div>"
      ],
      "text/plain": [
       "         Unnamed: 0      name1    name2  co_occurrence  count1  count2\n",
       "0                 0         ae      iye              0       0       0\n",
       "1                 1         ae      ase              0       0       0\n",
       "2                 2         ae      yah              0       0       0\n",
       "3                 3         ae      yeo              0       0       0\n",
       "4                 4         ae      aye              0       0       0\n",
       "...             ...        ...      ...            ...     ...     ...\n",
       "2644543     2644543     swarte   zwarts              0       0       0\n",
       "2644544     2644544    zwetzig  zweizig              0       0       0\n",
       "2644545     2644545  zweygardt  zwigard              0       0       0\n",
       "2644546     2644546    zwickey   zwicki              0       0       0\n",
       "2644547     2644547    zwinger    zwing              0       0       0\n",
       "\n",
       "[2644548 rows x 6 columns]"
      ]
     },
     "execution_count": 7,
     "metadata": {},
     "output_type": "execute_result"
    }
   ],
   "source": [
    "wr_df = pd.read_csv('../data/werelate_pairs.csv', dtype={'name1': object, 'name2': object})\n",
    "# pandas reads nan as NaN; convert back to string nan\n",
    "wr_df.fillna('nan', inplace=True)\n",
    "wr_df"
   ]
  },
  {
   "cell_type": "code",
   "execution_count": 8,
   "id": "spread-kruger",
   "metadata": {},
   "outputs": [],
   "source": [
    "input_names_wr, weighted_relevant_names_wr, all_candidates_wr = dataset.process(wr_df.copy())"
   ]
  },
  {
   "cell_type": "code",
   "execution_count": 9,
   "id": "second-superior",
   "metadata": {},
   "outputs": [
    {
     "name": "stdout",
     "output_type": "stream",
     "text": [
      "147255 147255 (154601,)\n",
      "<aa> [('<ahi>', nan, 0), ('<ao>', nan, 0), ('<aye>', nan, 0), ('<azo>', nan, 0), ('<oe>', nan, 0), ('<oj>', nan, 0), ('<yah>', nan, 0), ('<yarrow>', nan, 0), ('<yate>', nan, 0), ('<yeo>', nan, 0)] <ahi>\n"
     ]
    }
   ],
   "source": [
    "print(len(input_names_wr), len(weighted_relevant_names_wr), all_candidates_wr.shape)\n",
    "print(input_names_wr[0], weighted_relevant_names_wr[0], all_candidates_wr[0])"
   ]
  },
  {
   "cell_type": "code",
   "execution_count": null,
   "id": "amber-traveler",
   "metadata": {},
   "outputs": [],
   "source": [
    "near_negatives_wr = triplet_loss.get_near_negatives(input_names_wr, weighted_relevant_names_wr, all_candidates_wr, k=50)"
   ]
  },
  {
   "cell_type": "code",
   "execution_count": 27,
   "id": "insured-auditor",
   "metadata": {},
   "outputs": [
    {
     "name": "stdout",
     "output_type": "stream",
     "text": [
      "147255\n"
     ]
    }
   ],
   "source": [
    "print(len(near_negatives_wr))"
   ]
  },
  {
   "cell_type": "code",
   "execution_count": 33,
   "id": "boolean-kingdom",
   "metadata": {},
   "outputs": [],
   "source": [
    "# save near_negatives\n",
    "with open('../data/werelate_near_negatives.pickle', 'wb') as f:\n",
    "    pickle.dump(near_negatives_wr, f)"
   ]
  },
  {
   "cell_type": "code",
   "execution_count": 10,
   "id": "affecting-ontario",
   "metadata": {},
   "outputs": [],
   "source": [
    "# load near_negatives\n",
    "with open('../data/werelate_near_negatives.pickle', 'rb') as f:\n",
    "    near_negatives_wr = pickle.load(f)"
   ]
  },
  {
   "cell_type": "code",
   "execution_count": null,
   "id": "worst-sessions",
   "metadata": {},
   "outputs": [
    {
     "name": "stderr",
     "output_type": "stream",
     "text": [
      "  0%|          | 0/20 [00:00<?, ?it/s]"
     ]
    }
   ],
   "source": [
    "triplet_loss.train_triplet_loss(model, input_names_wr, weighted_relevant_names_wr, near_negatives_wr, \n",
    "                                input_names_test, weighted_relevant_names_test, candidates_test, candidates_train, all_candidates,\n",
    "                                char_to_idx_map, MAX_NAME_LENGTH, 20, 512, 0.1, 100, device)"
   ]
  },
  {
   "cell_type": "code",
   "execution_count": 16,
   "id": "detailed-halifax",
   "metadata": {},
   "outputs": [],
   "source": [
    "torch.save(model, '../data/ae-bilstm-100-werelate.pth')"
   ]
  },
  {
   "cell_type": "code",
   "execution_count": 43,
   "id": "weird-washer",
   "metadata": {},
   "outputs": [],
   "source": [
    "model = torch.load('../data/ae-bilstm-100-werelate.pth')"
   ]
  },
  {
   "cell_type": "markdown",
   "id": "intense-authorization",
   "metadata": {},
   "source": [
    "### Fine-tune with Ancestry data"
   ]
  },
  {
   "cell_type": "code",
   "execution_count": 91,
   "id": "committed-slope",
   "metadata": {},
   "outputs": [
    {
     "name": "stderr",
     "output_type": "stream",
     "text": [
      "100%|██████████| 21374/21374 [12:10<00:00, 29.27it/s]\n"
     ]
    }
   ],
   "source": [
    "near_negatives = triplet_loss.get_near_negatives(input_names_train, weighted_relevant_names_train, candidates_train, k=50)"
   ]
  },
  {
   "cell_type": "code",
   "execution_count": 92,
   "id": "bacterial-tribe",
   "metadata": {},
   "outputs": [],
   "source": [
    "# save near_negatives\n",
    "with open('../data/ancestry_near_negatives.pickle', 'wb') as f:\n",
    "    pickle.dump(near_negatives, f)"
   ]
  },
  {
   "cell_type": "code",
   "execution_count": 8,
   "id": "elder-tamil",
   "metadata": {},
   "outputs": [],
   "source": [
    "# load near_negatives\n",
    "with open('../data/ancestry_near_negatives.pickle', 'rb') as f:\n",
    "    near_negatives = pickle.load(f)"
   ]
  },
  {
   "cell_type": "code",
   "execution_count": 71,
   "id": "qualified-hearts",
   "metadata": {},
   "outputs": [
    {
     "name": "stderr",
     "output_type": "stream",
     "text": [
      "  5%|▌         | 1/20 [00:49<15:46, 49.79s/it, loss=0.0103, auc=0.653]"
     ]
    },
    {
     "name": "stdout",
     "output_type": "stream",
     "text": [
      "test AUC 0.6526886635110692\n"
     ]
    },
    {
     "name": "stderr",
     "output_type": "stream",
     "text": [
      " 10%|█         | 2/20 [01:40<15:03, 50.18s/it, loss=0.00735, auc=0.663]"
     ]
    },
    {
     "name": "stdout",
     "output_type": "stream",
     "text": [
      "test AUC 0.6628777171401595\n"
     ]
    },
    {
     "name": "stderr",
     "output_type": "stream",
     "text": [
      " 15%|█▌        | 3/20 [02:31<14:23, 50.81s/it, loss=0.00774, auc=0.665]"
     ]
    },
    {
     "name": "stdout",
     "output_type": "stream",
     "text": [
      "test AUC 0.6648183126268367\n"
     ]
    },
    {
     "name": "stderr",
     "output_type": "stream",
     "text": [
      " 20%|██        | 4/20 [03:25<13:52, 52.04s/it, loss=0.00592, auc=0.662]"
     ]
    },
    {
     "name": "stdout",
     "output_type": "stream",
     "text": [
      "test AUC 0.6619407432529654\n"
     ]
    },
    {
     "name": "stderr",
     "output_type": "stream",
     "text": [
      " 25%|██▌       | 5/20 [04:19<13:12, 52.83s/it, loss=0.00437, auc=0.657]"
     ]
    },
    {
     "name": "stdout",
     "output_type": "stream",
     "text": [
      "test AUC 0.6565549463350492\n"
     ]
    },
    {
     "name": "stderr",
     "output_type": "stream",
     "text": [
      " 30%|███       | 6/20 [05:13<12:24, 53.15s/it, loss=0.00379, auc=0.658]"
     ]
    },
    {
     "name": "stdout",
     "output_type": "stream",
     "text": [
      "test AUC 0.6583782392872013\n"
     ]
    },
    {
     "name": "stderr",
     "output_type": "stream",
     "text": [
      " 35%|███▌      | 7/20 [06:07<11:34, 53.45s/it, loss=0.00364, auc=0.659]"
     ]
    },
    {
     "name": "stdout",
     "output_type": "stream",
     "text": [
      "test AUC 0.6589110466554532\n"
     ]
    },
    {
     "name": "stderr",
     "output_type": "stream",
     "text": [
      " 40%|████      | 8/20 [07:01<10:42, 53.56s/it, loss=0.00347, auc=0.673]"
     ]
    },
    {
     "name": "stdout",
     "output_type": "stream",
     "text": [
      "test AUC 0.6733615596586882\n"
     ]
    },
    {
     "name": "stderr",
     "output_type": "stream",
     "text": [
      " 45%|████▌     | 9/20 [07:55<09:49, 53.59s/it, loss=0.00312, auc=0.676]"
     ]
    },
    {
     "name": "stdout",
     "output_type": "stream",
     "text": [
      "test AUC 0.6757528235054063\n"
     ]
    },
    {
     "name": "stderr",
     "output_type": "stream",
     "text": [
      " 50%|█████     | 10/20 [08:49<08:58, 53.85s/it, loss=0.00295, auc=0.705]"
     ]
    },
    {
     "name": "stdout",
     "output_type": "stream",
     "text": [
      "test AUC 0.7046427082202035\n"
     ]
    },
    {
     "name": "stderr",
     "output_type": "stream",
     "text": [
      " 55%|█████▌    | 11/20 [09:43<08:04, 53.81s/it, loss=0.00282, auc=0.732]"
     ]
    },
    {
     "name": "stdout",
     "output_type": "stream",
     "text": [
      "test AUC 0.7323347982025575\n"
     ]
    },
    {
     "name": "stderr",
     "output_type": "stream",
     "text": [
      " 60%|██████    | 12/20 [10:36<07:09, 53.70s/it, loss=0.0029, auc=0.718] "
     ]
    },
    {
     "name": "stdout",
     "output_type": "stream",
     "text": [
      "test AUC 0.7179593120241365\n"
     ]
    },
    {
     "name": "stderr",
     "output_type": "stream",
     "text": [
      " 65%|██████▌   | 13/20 [11:30<06:15, 53.69s/it, loss=0.00274, auc=0.715]"
     ]
    },
    {
     "name": "stdout",
     "output_type": "stream",
     "text": [
      "test AUC 0.7150159743217241\n"
     ]
    },
    {
     "name": "stderr",
     "output_type": "stream",
     "text": [
      " 70%|███████   | 14/20 [12:24<05:22, 53.71s/it, loss=0.00247, auc=0.797]"
     ]
    },
    {
     "name": "stdout",
     "output_type": "stream",
     "text": [
      "test AUC 0.7974314314989975\n"
     ]
    },
    {
     "name": "stderr",
     "output_type": "stream",
     "text": [
      " 75%|███████▌  | 15/20 [13:19<04:30, 54.10s/it, loss=0.00248, auc=0.737]"
     ]
    },
    {
     "name": "stdout",
     "output_type": "stream",
     "text": [
      "test AUC 0.7366275035158771\n"
     ]
    },
    {
     "name": "stderr",
     "output_type": "stream",
     "text": [
      " 80%|████████  | 16/20 [14:13<03:36, 54.18s/it, loss=0.00252, auc=0.72] "
     ]
    },
    {
     "name": "stdout",
     "output_type": "stream",
     "text": [
      "test AUC 0.720325104381725\n"
     ]
    },
    {
     "name": "stderr",
     "output_type": "stream",
     "text": [
      " 85%|████████▌ | 17/20 [15:09<02:43, 54.54s/it, loss=0.00236, auc=0.855]"
     ]
    },
    {
     "name": "stdout",
     "output_type": "stream",
     "text": [
      "test AUC 0.8552214274125962\n"
     ]
    },
    {
     "name": "stderr",
     "output_type": "stream",
     "text": [
      " 90%|█████████ | 18/20 [16:03<01:49, 54.57s/it, loss=0.00219, auc=0.759]"
     ]
    },
    {
     "name": "stdout",
     "output_type": "stream",
     "text": [
      "test AUC 0.7590505721922669\n"
     ]
    },
    {
     "name": "stderr",
     "output_type": "stream",
     "text": [
      " 95%|█████████▌| 19/20 [16:57<00:54, 54.30s/it, loss=0.00221, auc=0.8]  "
     ]
    },
    {
     "name": "stdout",
     "output_type": "stream",
     "text": [
      "test AUC 0.8004591036074572\n"
     ]
    },
    {
     "name": "stderr",
     "output_type": "stream",
     "text": [
      "100%|██████████| 20/20 [17:50<00:00, 53.54s/it, loss=0.00213, auc=0.799]"
     ]
    },
    {
     "name": "stdout",
     "output_type": "stream",
     "text": [
      "test AUC 0.7989657988939928\n"
     ]
    },
    {
     "name": "stderr",
     "output_type": "stream",
     "text": [
      "\n"
     ]
    }
   ],
   "source": [
    "triplet_loss.train_triplet_loss(model, input_names_train, weighted_relevant_names_train, near_negatives,\n",
    "                                input_names_test, weighted_relevant_names_test, candidates_test, candidates_train, all_candidates,\n",
    "                                char_to_idx_map, MAX_NAME_LENGTH, 20, 512, 0.05, 100, device)"
   ]
  },
  {
   "cell_type": "code",
   "execution_count": 72,
   "id": "challenging-deployment",
   "metadata": {},
   "outputs": [],
   "source": [
    "torch.save(model, '../data/ae-bilstm-100-ancestry-20-05.pth')"
   ]
  },
  {
   "cell_type": "code",
   "execution_count": 48,
   "id": "existing-preview",
   "metadata": {},
   "outputs": [],
   "source": [
    "model = torch.load('../data/ae-bilstm-100-ancestry-20.pth')"
   ]
  },
  {
   "cell_type": "markdown",
   "id": "graduate-kazakhstan",
   "metadata": {},
   "source": [
    "## Evaluation"
   ]
  },
  {
   "cell_type": "code",
   "execution_count": 73,
   "id": "threatened-mexico",
   "metadata": {},
   "outputs": [],
   "source": [
    "# move to cpu for evaluation so we don't run out of GPU memory\n",
    "model.to(\"cpu\")\n",
    "model.device=\"cpu\""
   ]
  },
  {
   "cell_type": "code",
   "execution_count": 74,
   "id": "royal-sweet",
   "metadata": {},
   "outputs": [],
   "source": [
    "# Get embeddings for train candidate names\n",
    "X_train_inputs, _ = utils.convert_names_model_inputs(candidates_train,\n",
    "                                                     char_to_idx_map, \n",
    "                                                     MAX_NAME_LENGTH)\n",
    "# Get Embeddings for the names from the encoder\n",
    "X_train_candidates_encoded = model(X_train_inputs, just_encoder=True).detach().numpy()"
   ]
  },
  {
   "cell_type": "code",
   "execution_count": 75,
   "id": "significant-pantyhose",
   "metadata": {},
   "outputs": [],
   "source": [
    "# Get embeddings for test input names\n",
    "X_test_inputs, _ = utils.convert_names_model_inputs(input_names_test,\n",
    "                                                    char_to_idx_map, \n",
    "                                                    MAX_NAME_LENGTH)\n",
    "# Get Embeddings for the names from the encoder\n",
    "X_input_names_encoded = model(X_test_inputs, just_encoder=True).detach().numpy()"
   ]
  },
  {
   "cell_type": "code",
   "execution_count": 76,
   "id": "renewable-headquarters",
   "metadata": {},
   "outputs": [],
   "source": [
    "# Get embeddings for test candidate names\n",
    "X_test_candidate_inputs, _ = utils.convert_names_model_inputs(candidates_test, \n",
    "                                                              char_to_idx_map, \n",
    "                                                              MAX_NAME_LENGTH)\n",
    "X_test_candidates_encoded = model(X_test_candidate_inputs, just_encoder=True).detach().numpy()"
   ]
  },
  {
   "cell_type": "code",
   "execution_count": 77,
   "id": "civilian-allocation",
   "metadata": {},
   "outputs": [],
   "source": [
    "X_candidates_encoded = np.vstack((X_train_candidates_encoded, X_test_candidates_encoded))"
   ]
  },
  {
   "cell_type": "code",
   "execution_count": 78,
   "id": "solar-provision",
   "metadata": {},
   "outputs": [
    {
     "name": "stdout",
     "output_type": "stream",
     "text": [
      "(2444, 100, 2)\n",
      "<abadusky>\n",
      "0.9990407439927893\n"
     ]
    }
   ],
   "source": [
    "k = 100\n",
    "candidates = utils.get_candidates_batch(X_input_names_encoded, \n",
    "                                        X_candidates_encoded, \n",
    "                                        all_candidates,\n",
    "                                        num_candidates=k)\n",
    "print(candidates.shape)\n",
    "print(candidates[0,0,0])\n",
    "print(candidates[0,0,1])"
   ]
  },
  {
   "cell_type": "code",
   "execution_count": 79,
   "id": "exact-thursday",
   "metadata": {},
   "outputs": [
    {
     "name": "stdout",
     "output_type": "stream",
     "text": [
      "(2444, 100)\n"
     ]
    }
   ],
   "source": [
    "candidate_names = candidates[:, :, 0]\n",
    "print(candidate_names.shape)"
   ]
  },
  {
   "cell_type": "markdown",
   "id": "banned-award",
   "metadata": {},
   "source": [
    "### PR Curve at k"
   ]
  },
  {
   "cell_type": "code",
   "execution_count": 80,
   "id": "conditional-position",
   "metadata": {},
   "outputs": [
    {
     "data": {
      "image/png": "[encoded data removed]",
      "text/plain": [
       "<Figure size 432x288 with 1 Axes>"
      ]
     },
     "metadata": {
      "needs_background": "light"
     },
     "output_type": "display_data"
    }
   ],
   "source": [
    "metrics.precision_recall_curve(relevant_names_test, candidate_names, k)"
   ]
  },
  {
   "cell_type": "code",
   "execution_count": 124,
   "id": "spatial-fight",
   "metadata": {},
   "outputs": [
    {
     "data": {
      "text/plain": [
       "0.6704566709885857"
      ]
     },
     "execution_count": 124,
     "metadata": {},
     "output_type": "execute_result"
    }
   ],
   "source": [
    "metrics.avg_precision_at_threshold(weighted_relevant_names_test, candidates, 0.9986)"
   ]
  },
  {
   "cell_type": "code",
   "execution_count": 123,
   "id": "strategic-pizza",
   "metadata": {},
   "outputs": [
    {
     "data": {
      "text/plain": [
       "0.8856602476151306"
      ]
     },
     "execution_count": 123,
     "metadata": {},
     "output_type": "execute_result"
    }
   ],
   "source": [
    "metrics.avg_recall_at_threshold(weighted_relevant_names_test, candidates, 0.9986)"
   ]
  },
  {
   "cell_type": "markdown",
   "id": "patient-adventure",
   "metadata": {},
   "source": [
    "### PR Curve at threshold"
   ]
  },
  {
   "cell_type": "code",
   "execution_count": 105,
   "id": "current-heading",
   "metadata": {},
   "outputs": [
    {
     "data": {
      "image/png": "[encoded data removed]",
      "text/plain": [
       "<Figure size 432x288 with 1 Axes>"
      ]
     },
     "metadata": {
      "needs_background": "light"
     },
     "output_type": "display_data"
    }
   ],
   "source": [
    "# minimum score threshold to test\n",
    "metrics.precision_recall_curve_at_threshold(weighted_relevant_names_test, candidates, step=.0001)"
   ]
  },
  {
   "cell_type": "markdown",
   "id": "inappropriate-oxygen",
   "metadata": {},
   "source": [
    "### AUC"
   ]
  },
  {
   "cell_type": "code",
   "execution_count": 94,
   "id": "romantic-poetry",
   "metadata": {},
   "outputs": [
    {
     "data": {
      "text/plain": [
       "0.7989657988939928"
      ]
     },
     "execution_count": 94,
     "metadata": {},
     "output_type": "execute_result"
    }
   ],
   "source": [
    "metrics.get_auc(weighted_relevant_names_test, candidates, step=.001)"
   ]
  },
  {
   "cell_type": "code",
   "execution_count": null,
   "id": "tired-desert",
   "metadata": {},
   "outputs": [],
   "source": []
  }
 ],
 "metadata": {
  "kernelspec": {
   "display_name": "Python [conda env:name-matching] *",
   "language": "python",
   "name": "conda-env-name-matching-py"
  },
  "language_info": {
   "codemirror_mode": {
    "name": "ipython",
    "version": 3
   },
   "file_extension": ".py",
   "mimetype": "text/x-python",
   "name": "python",
   "nbconvert_exporter": "python",
   "pygments_lexer": "ipython3",
   "version": "3.8.5"
  }
 },
 "nbformat": 4,
 "nbformat_minor": 5
}
