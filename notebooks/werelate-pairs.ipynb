{
 "cells": [
  {
   "cell_type": "code",
   "execution_count": 1,
   "id": "encouraging-harbor",
   "metadata": {},
   "outputs": [],
   "source": [
    "%load_ext autoreload\n",
    "%autoreload 2"
   ]
  },
  {
   "cell_type": "code",
   "execution_count": 2,
   "id": "unable-variable",
   "metadata": {},
   "outputs": [],
   "source": [
    "# open wr file\n",
    "# for each line, for each pair, get more-frequent name\n",
    "# map more-freq name to less-freq names"
   ]
  },
  {
   "cell_type": "code",
   "execution_count": 6,
   "id": "blank-battery",
   "metadata": {},
   "outputs": [],
   "source": [
    "from collections import defaultdict"
   ]
  },
  {
   "cell_type": "code",
   "execution_count": 7,
   "id": "residential-paraguay",
   "metadata": {},
   "outputs": [],
   "source": [
    "def load_name_freqs(filename):\n",
    "    name_freqs = defaultdict(int)\n",
    "    with open(filename, mode=\"r\", encoding=\"utf-8\") as f:\n",
    "        for line in f:\n",
    "            fields = line.rstrip().split(\"\\t\")\n",
    "            # normalize name\n",
    "            name_freqs[fields[0]] = int(fields[1])\n",
    "    return name_freqs"
   ]
  },
  {
   "cell_type": "code",
   "execution_count": 8,
   "id": "threatened-knowing",
   "metadata": {},
   "outputs": [],
   "source": [
    "# map names to their frequency\n",
    "given_name_freqs = load_name_freqs('../data/given-final.normal.txt')\n",
    "surname_freqs = load_name_freqs('../data/surname-final.normal.txt')"
   ]
  },
  {
   "cell_type": "code",
   "execution_count": 39,
   "id": "talented-equity",
   "metadata": {},
   "outputs": [],
   "source": [
    "min_freq = 5"
   ]
  },
  {
   "cell_type": "code",
   "execution_count": 40,
   "id": "complete-nursing",
   "metadata": {},
   "outputs": [],
   "source": [
    "def load_werelate_pairs(filename, name_freqs):\n",
    "    tree_variants = defaultdict(set)\n",
    "    with open(filename, mode=\"r\", encoding=\"utf-8\") as f:\n",
    "        is_header = True\n",
    "        for line in f:\n",
    "            if is_header:\n",
    "                is_header = False\n",
    "                continue\n",
    "            fields = line.rstrip().split(\"\\t\")\n",
    "            name = fields[0].strip()\n",
    "            if not name or len(fields) < 2:\n",
    "                continue\n",
    "            name_freq = name_freqs[name]\n",
    "            if name_freq < min_freq:\n",
    "                continue\n",
    "            confirmed_variants = fields[1].strip().split(\" \")\n",
    "            computer_variants = fields[2].strip().split(\" \") if len(fields) == 3 else []\n",
    "            variants = confirmed_variants + computer_variants\n",
    "            for variant in variants:\n",
    "                if not variant:\n",
    "                    continue\n",
    "                variant_freq = name_freqs[variant]\n",
    "                if variant_freq < min_freq:\n",
    "                    continue\n",
    "                tree_name, record_name = (name, variant) if name_freq > variant_freq else (variant, name)\n",
    "                tree_variants[tree_name].add(record_name)\n",
    "    return tree_variants"
   ]
  },
  {
   "cell_type": "code",
   "execution_count": 41,
   "id": "quality-concentrate",
   "metadata": {},
   "outputs": [
    {
     "name": "stdout",
     "output_type": "stream",
     "text": [
      "37252\n",
      "126889\n",
      "147255\n"
     ]
    }
   ],
   "source": [
    "given_variants = load_werelate_pairs('../data/givenname_similar_names.werelate.20210414.tsv', given_name_freqs)\n",
    "print(len(given_variants))\n",
    "surname_variants = load_werelate_pairs('../data/surname_similar_names.werelate.20210414.tsv', surname_freqs)\n",
    "print(len(surname_variants))\n",
    "all_variants = defaultdict(set)\n",
    "for k, v in given_variants.items():\n",
    "    all_variants[k] |= v\n",
    "for k, v in surname_variants.items():\n",
    "    all_variants[k] |= v\n",
    "print(len(all_variants))"
   ]
  },
  {
   "cell_type": "code",
   "execution_count": 42,
   "id": "starting-chapel",
   "metadata": {},
   "outputs": [],
   "source": [
    "def save_werelate_pairs(filename, variants):\n",
    "    with open(filename, mode=\"w\", encoding=\"utf-8\") as f:\n",
    "        f.write(\",name1,name2,co_occurrence,count1,count2\\n\")\n",
    "        ix = 0\n",
    "        for name, variants in variants.items():\n",
    "            for variant in variants:\n",
    "                f.write(f'{ix},{name},{variant},0,0,0\\n')\n",
    "                ix += 1"
   ]
  },
  {
   "cell_type": "code",
   "execution_count": 43,
   "id": "composed-outline",
   "metadata": {},
   "outputs": [],
   "source": [
    "save_werelate_pairs('../data/werelate_pairs.csv', all_variants)"
   ]
  },
  {
   "cell_type": "code",
   "execution_count": null,
   "id": "manual-blake",
   "metadata": {},
   "outputs": [],
   "source": []
  }
 ],
 "metadata": {
  "kernelspec": {
   "display_name": "Python [conda env:name-matching] *",
   "language": "python",
   "name": "conda-env-name-matching-py"
  },
  "language_info": {
   "codemirror_mode": {
    "name": "ipython",
    "version": 3
   },
   "file_extension": ".py",
   "mimetype": "text/x-python",
   "name": "python",
   "nbconvert_exporter": "python",
   "pygments_lexer": "ipython3",
   "version": "3.8.5"
  }
 },
 "nbformat": 4,
 "nbformat_minor": 5
}
