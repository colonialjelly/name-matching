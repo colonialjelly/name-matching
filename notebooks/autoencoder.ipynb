{
 "cells": [
  {
   "cell_type": "code",
   "execution_count": 1,
   "id": "excessive-statement",
   "metadata": {},
   "outputs": [],
   "source": [
    "%load_ext autoreload\n",
    "%autoreload 2"
   ]
  },
  {
   "cell_type": "code",
   "execution_count": 2,
   "id": "distant-elizabeth",
   "metadata": {},
   "outputs": [],
   "source": [
    "import torch\n",
    "import numpy as np\n",
    "from matchers import constant, dataset, metrics, utils\n",
    "from matchers.models.autoencoder import AutoEncoder, train_model"
   ]
  },
  {
   "cell_type": "code",
   "execution_count": 3,
   "id": "removed-peter",
   "metadata": {},
   "outputs": [],
   "source": [
    "MAX_NAME_LENGTH = 30"
   ]
  },
  {
   "cell_type": "markdown",
   "id": "reflected-corrections",
   "metadata": {},
   "source": [
    "### Load data"
   ]
  },
  {
   "cell_type": "code",
   "execution_count": 4,
   "id": "acknowledged-temple",
   "metadata": {},
   "outputs": [],
   "source": [
    "train, test = dataset.load_process_from_disk()\n",
    "\n",
    "input_names_train, weighted_relevant_names_train, candidates_train = train\n",
    "input_names_test, weighted_relevant_names_test, candidates_test = test\n",
    "\n",
    "relevant_names_train = [[name for name, _ in name_weights] for name_weights in weighted_relevant_names_train]\n",
    "relevant_names_test = [[name for name, _ in name_weights] for name_weights in weighted_relevant_names_test]\n",
    "\n",
    "all_candidates = np.concatenate((candidates_train, candidates_test))"
   ]
  },
  {
   "cell_type": "markdown",
   "id": "criminal-camel",
   "metadata": {},
   "source": [
    "### Build token index mappings"
   ]
  },
  {
   "cell_type": "code",
   "execution_count": 5,
   "id": "spare-biography",
   "metadata": {},
   "outputs": [],
   "source": [
    "char_to_idx_map, idx_to_char_map = utils.build_token_idx_maps()"
   ]
  },
  {
   "cell_type": "markdown",
   "id": "hydraulic-spare",
   "metadata": {},
   "source": [
    "### Convert names to ids"
   ]
  },
  {
   "cell_type": "code",
   "execution_count": 6,
   "id": "colored-milwaukee",
   "metadata": {},
   "outputs": [],
   "source": [
    "# Prepare data for training\n",
    "# inputs and targets have the same data just in different representations 1-hot vs normal sequences\n",
    "X_train_inputs, X_train_targets = utils.convert_names_model_inputs(candidates_train, \n",
    "                                                                   char_to_idx_map, \n",
    "                                                                   MAX_NAME_LENGTH)"
   ]
  },
  {
   "cell_type": "markdown",
   "id": "defensive-choice",
   "metadata": {},
   "source": [
    "### Model"
   ]
  },
  {
   "cell_type": "code",
   "execution_count": 7,
   "id": "excited-reach",
   "metadata": {},
   "outputs": [],
   "source": [
    "model = AutoEncoder(input_size=constant.VOCAB_SIZE + 1, \n",
    "                    hidden_size=100,\n",
    "                    num_layers=1,\n",
    "                    seq_len=MAX_NAME_LENGTH)"
   ]
  },
  {
   "cell_type": "code",
   "execution_count": 8,
   "id": "temporal-tooth",
   "metadata": {
    "scrolled": true
   },
   "outputs": [
    {
     "name": "stderr",
     "output_type": "stream",
     "text": [
      "100%|██████████| 100/100 [1:19:53<00:00, 47.94s/it, loss=0.0768]\n"
     ]
    }
   ],
   "source": [
    "train_model(model, X_train_inputs, X_train_targets, 100, 512)"
   ]
  },
  {
   "cell_type": "markdown",
   "id": "formed-department",
   "metadata": {},
   "source": [
    "### Evaluation"
   ]
  },
  {
   "cell_type": "code",
   "execution_count": 9,
   "id": "retired-skiing",
   "metadata": {},
   "outputs": [],
   "source": [
    "# Convert test name inputs to correct format\n",
    "X_test_inputs, X_test_targets = utils.convert_names_model_inputs(input_names_test,\n",
    "                                                                 char_to_idx_map, \n",
    "                                                                 MAX_NAME_LENGTH)\n",
    "\n",
    "# Get Embeddings for the names from the encoder\n",
    "X_input_names_encoded = model(X_test_inputs, just_encoder=True).detach().numpy()"
   ]
  },
  {
   "cell_type": "code",
   "execution_count": 10,
   "id": "offshore-angle",
   "metadata": {},
   "outputs": [],
   "source": [
    "# Get embeddings for all candidate names (train + test)\n",
    "X_test_candidate_inputs, _ = utils.convert_names_model_inputs(candidates_test, \n",
    "                                                              char_to_idx_map, \n",
    "                                                              MAX_NAME_LENGTH)\n",
    "X_train_candidates_encoded = model(X_train_inputs, just_encoder=True).detach().numpy()\n",
    "X_test_candidates_encoded = model(X_test_candidate_inputs, just_encoder=True).detach().numpy()"
   ]
  },
  {
   "cell_type": "code",
   "execution_count": 11,
   "id": "cross-cheat",
   "metadata": {},
   "outputs": [],
   "source": [
    "X_candidates_encoded = np.vstack((X_train_candidates_encoded, X_test_candidates_encoded))"
   ]
  },
  {
   "cell_type": "code",
   "execution_count": 12,
   "id": "contemporary-factory",
   "metadata": {},
   "outputs": [],
   "source": [
    "candidates = utils.get_candidates_batch(X_input_names_encoded, \n",
    "                                        X_candidates_encoded, \n",
    "                                        all_candidates,\n",
    "                                        num_candidates=10)"
   ]
  },
  {
   "cell_type": "code",
   "execution_count": 13,
   "id": "hungry-twelve",
   "metadata": {},
   "outputs": [],
   "source": [
    "candidate_names = candidates[:, :, 0]"
   ]
  },
  {
   "cell_type": "markdown",
   "id": "fitting-central",
   "metadata": {},
   "source": [
    "### mAP @ 1"
   ]
  },
  {
   "cell_type": "code",
   "execution_count": 14,
   "id": "banned-turtle",
   "metadata": {},
   "outputs": [
    {
     "data": {
      "text/plain": [
       "0.4828711256117455"
      ]
     },
     "execution_count": 14,
     "metadata": {},
     "output_type": "execute_result"
    }
   ],
   "source": [
    "metrics.mean_avg_precision_k(relevant_names_test, candidate_names, 1)"
   ]
  },
  {
   "cell_type": "markdown",
   "id": "removed-boston",
   "metadata": {},
   "source": [
    "### mAP @ 3"
   ]
  },
  {
   "cell_type": "code",
   "execution_count": 15,
   "id": "rolled-maryland",
   "metadata": {},
   "outputs": [
    {
     "data": {
      "text/plain": [
       "0.39527823092260284"
      ]
     },
     "execution_count": 15,
     "metadata": {},
     "output_type": "execute_result"
    }
   ],
   "source": [
    "metrics.mean_avg_precision_k(relevant_names_test, candidate_names, 3)"
   ]
  },
  {
   "cell_type": "markdown",
   "id": "atomic-slope",
   "metadata": {},
   "source": [
    "### Demo"
   ]
  },
  {
   "cell_type": "code",
   "execution_count": 16,
   "id": "boring-horse",
   "metadata": {},
   "outputs": [
    {
     "data": {
      "text/plain": [
       "array([[['<schumacker>', 0.9732252757430083],\n",
       "        ['<schumaker>', 0.9555255655282007],\n",
       "        ['<schurhamer>', 0.9476526897939922],\n",
       "        ['<stelmacher>', 0.9394673079829338],\n",
       "        ['<schmelcher>', 0.9387595480335915],\n",
       "        ['<schacher>', 0.9359247159554456],\n",
       "        ['<schulster>', 0.9349424270257514],\n",
       "        ['<standacher>', 0.9290711774579947],\n",
       "        ['<steinacher>', 0.9277713400733684],\n",
       "        ['<scammahorn>', 0.927082093785697]]], dtype=object)"
      ]
     },
     "execution_count": 16,
     "metadata": {},
     "output_type": "execute_result"
    }
   ],
   "source": [
    "test_name = ['<schumacher>']\n",
    "test_name, _ = utils.convert_names_model_inputs(test_name, char_to_idx_map, MAX_NAME_LENGTH)\n",
    "test_name_embedding = model(test_name, just_encoder=True).detach().numpy()\n",
    "\n",
    "utils.get_candidates_batch(test_name_embedding, \n",
    "                           X_candidates_encoded,\n",
    "                           all_candidates,\n",
    "                           num_candidates=10)"
   ]
  },
  {
   "cell_type": "code",
   "execution_count": null,
   "id": "intensive-newport",
   "metadata": {},
   "outputs": [],
   "source": []
  }
 ],
 "metadata": {
  "kernelspec": {
   "display_name": "Python [conda env:name-matching] *",
   "language": "python",
   "name": "conda-env-name-matching-py"
  },
  "language_info": {
   "codemirror_mode": {
    "name": "ipython",
    "version": 3
   },
   "file_extension": ".py",
   "mimetype": "text/x-python",
   "name": "python",
   "nbconvert_exporter": "python",
   "pygments_lexer": "ipython3",
   "version": "3.8.5"
  }
 },
 "nbformat": 4,
 "nbformat_minor": 5
}
