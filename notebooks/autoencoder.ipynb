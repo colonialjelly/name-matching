{
 "cells": [
  {
   "cell_type": "code",
   "execution_count": 1,
   "id": "cooperative-cornell",
   "metadata": {},
   "outputs": [],
   "source": [
    "%load_ext autoreload\n",
    "%autoreload 2"
   ]
  },
  {
   "cell_type": "code",
   "execution_count": 2,
   "id": "unusual-electric",
   "metadata": {},
   "outputs": [],
   "source": [
    "import sys\n",
    "sys.path.append('..')"
   ]
  },
  {
   "cell_type": "code",
   "execution_count": 3,
   "id": "quiet-burke",
   "metadata": {},
   "outputs": [],
   "source": [
    "import torch\n",
    "import numpy as np\n",
    "from matchers import constant, dataset, metrics, utils\n",
    "from matchers.models.autoencoder import AutoEncoder, train_model"
   ]
  },
  {
   "cell_type": "code",
   "execution_count": 4,
   "id": "interested-surveillance",
   "metadata": {},
   "outputs": [],
   "source": [
    "MAX_NAME_LENGTH = 30"
   ]
  },
  {
   "cell_type": "markdown",
   "id": "literary-boost",
   "metadata": {},
   "source": [
    "### Load data"
   ]
  },
  {
   "cell_type": "code",
   "execution_count": 7,
   "id": "peripheral-cathedral",
   "metadata": {},
   "outputs": [],
   "source": [
    "train, test = dataset.load_process_from_disk()\n",
    "\n",
    "input_names_train, weighted_relevant_names_train, candidates_train = train\n",
    "input_names_test, weighted_relevant_names_test, candidates_test = test\n",
    "\n",
    "relevant_names_train = [[name for name, _, _ in name_weights] for name_weights in weighted_relevant_names_train]\n",
    "relevant_names_test = [[name for name, _, _ in name_weights] for name_weights in weighted_relevant_names_test]\n",
    "\n",
    "all_candidates = np.concatenate((candidates_train, candidates_test))"
   ]
  },
  {
   "cell_type": "markdown",
   "id": "accompanied-singing",
   "metadata": {},
   "source": [
    "### Build token index mappings"
   ]
  },
  {
   "cell_type": "code",
   "execution_count": 8,
   "id": "fitting-michigan",
   "metadata": {},
   "outputs": [],
   "source": [
    "char_to_idx_map, idx_to_char_map = utils.build_token_idx_maps()"
   ]
  },
  {
   "cell_type": "markdown",
   "id": "bottom-finance",
   "metadata": {},
   "source": [
    "### Convert names to ids"
   ]
  },
  {
   "cell_type": "code",
   "execution_count": 9,
   "id": "nearby-citation",
   "metadata": {},
   "outputs": [],
   "source": [
    "# Prepare data for training\n",
    "# inputs and targets have the same data just in different representations 1-hot vs normal sequences\n",
    "X_train_inputs, X_train_targets = utils.convert_names_model_inputs(candidates_train, \n",
    "                                                                   char_to_idx_map, \n",
    "                                                                   MAX_NAME_LENGTH)"
   ]
  },
  {
   "cell_type": "markdown",
   "id": "armed-vintage",
   "metadata": {},
   "source": [
    "### Model"
   ]
  },
  {
   "cell_type": "code",
   "execution_count": 10,
   "id": "considerable-syndication",
   "metadata": {},
   "outputs": [],
   "source": [
    "model = AutoEncoder(input_size=constant.VOCAB_SIZE + 1, \n",
    "                    hidden_size=100,\n",
    "                    num_layers=1,\n",
    "                    seq_len=MAX_NAME_LENGTH)"
   ]
  },
  {
   "cell_type": "code",
   "execution_count": 11,
   "id": "future-baseline",
   "metadata": {
    "scrolled": true
   },
   "outputs": [
    {
     "name": "stderr",
     "output_type": "stream",
     "text": [
      "100%|██████████| 100/100 [33:43<00:00, 20.23s/it, loss=0.117]\n"
     ]
    }
   ],
   "source": [
    "train_model(model, X_train_inputs, X_train_targets, 100, 512)"
   ]
  },
  {
   "cell_type": "markdown",
   "id": "lightweight-montana",
   "metadata": {},
   "source": [
    "### Evaluation"
   ]
  },
  {
   "cell_type": "code",
   "execution_count": 12,
   "id": "continuing-royal",
   "metadata": {},
   "outputs": [],
   "source": [
    "# Convert test name inputs to correct format\n",
    "X_test_inputs, X_test_targets = utils.convert_names_model_inputs(input_names_test,\n",
    "                                                                 char_to_idx_map, \n",
    "                                                                 MAX_NAME_LENGTH)\n",
    "\n",
    "# Get Embeddings for the names from the encoder\n",
    "X_input_names_encoded = model(X_test_inputs, just_encoder=True).detach().numpy()"
   ]
  },
  {
   "cell_type": "code",
   "execution_count": 13,
   "id": "commercial-prior",
   "metadata": {},
   "outputs": [],
   "source": [
    "# Get embeddings for all candidate names (train + test)\n",
    "X_test_candidate_inputs, _ = utils.convert_names_model_inputs(candidates_test, \n",
    "                                                              char_to_idx_map, \n",
    "                                                              MAX_NAME_LENGTH)\n",
    "X_train_candidates_encoded = model(X_train_inputs, just_encoder=True).detach().numpy()\n",
    "X_test_candidates_encoded = model(X_test_candidate_inputs, just_encoder=True).detach().numpy()"
   ]
  },
  {
   "cell_type": "code",
   "execution_count": 14,
   "id": "hazardous-manchester",
   "metadata": {},
   "outputs": [],
   "source": [
    "X_candidates_encoded = np.vstack((X_train_candidates_encoded, X_test_candidates_encoded))"
   ]
  },
  {
   "cell_type": "code",
   "execution_count": 18,
   "id": "fifteen-sherman",
   "metadata": {},
   "outputs": [],
   "source": [
    "k = 100\n",
    "candidates = utils.get_candidates_batch(X_input_names_encoded, \n",
    "                                        X_candidates_encoded, \n",
    "                                        all_candidates,\n",
    "                                        num_candidates=k)"
   ]
  },
  {
   "cell_type": "code",
   "execution_count": 19,
   "id": "colonial-static",
   "metadata": {},
   "outputs": [],
   "source": [
    "candidate_names = candidates[:, :, 0]"
   ]
  },
  {
   "cell_type": "markdown",
   "id": "missing-authentication",
   "metadata": {},
   "source": [
    "### Evaluation"
   ]
  },
  {
   "cell_type": "code",
   "execution_count": 20,
   "id": "covered-tourist",
   "metadata": {},
   "outputs": [
    {
     "data": {
      "image/png": "[encoded data removed]",
      "text/plain": [
       "<Figure size 432x288 with 1 Axes>"
      ]
     },
     "metadata": {
      "needs_background": "light"
     },
     "output_type": "display_data"
    }
   ],
   "source": [
    "metrics.precision_recall_curve(relevant_names_test, candidate_names, k)"
   ]
  },
  {
   "cell_type": "markdown",
   "id": "green-overview",
   "metadata": {},
   "source": [
    "### mAP @ 1"
   ]
  },
  {
   "cell_type": "code",
   "execution_count": null,
   "id": "compatible-connection",
   "metadata": {},
   "outputs": [],
   "source": [
    "metrics.mean_avg_precision_k(relevant_names_test, candidate_names, 1)"
   ]
  },
  {
   "cell_type": "markdown",
   "id": "posted-mobility",
   "metadata": {},
   "source": [
    "### mAP @ 3"
   ]
  },
  {
   "cell_type": "code",
   "execution_count": null,
   "id": "wicked-karma",
   "metadata": {},
   "outputs": [],
   "source": [
    "metrics.mean_avg_precision_k(relevant_names_test, candidate_names, 3)"
   ]
  },
  {
   "cell_type": "markdown",
   "id": "amino-twist",
   "metadata": {},
   "source": [
    "### Demo"
   ]
  },
  {
   "cell_type": "code",
   "execution_count": null,
   "id": "classified-participation",
   "metadata": {},
   "outputs": [],
   "source": [
    "test_name = ['<schumacher>']\n",
    "test_name, _ = utils.convert_names_model_inputs(test_name, char_to_idx_map, MAX_NAME_LENGTH)\n",
    "test_name_embedding = model(test_name, just_encoder=True).detach().numpy()\n",
    "\n",
    "utils.get_candidates_batch(test_name_embedding, \n",
    "                           X_candidates_encoded,\n",
    "                           all_candidates,\n",
    "                           num_candidates=10)"
   ]
  },
  {
   "cell_type": "code",
   "execution_count": null,
   "id": "intermediate-gross",
   "metadata": {},
   "outputs": [],
   "source": []
  }
 ],
 "metadata": {
  "kernelspec": {
   "display_name": "Python [conda env:name-matching] *",
   "language": "python",
   "name": "conda-env-name-matching-py"
  },
  "language_info": {
   "codemirror_mode": {
    "name": "ipython",
    "version": 3
   },
   "file_extension": ".py",
   "mimetype": "text/x-python",
   "name": "python",
   "nbconvert_exporter": "python",
   "pygments_lexer": "ipython3",
   "version": "3.8.5"
  }
 },
 "nbformat": 4,
 "nbformat_minor": 5
}
