{
 "cells": [
  {
   "cell_type": "code",
   "execution_count": 24,
   "id": "planned-significance",
   "metadata": {},
   "outputs": [
    {
     "name": "stdout",
     "output_type": "stream",
     "text": [
      "The autoreload extension is already loaded. To reload it, use:\n",
      "  %reload_ext autoreload\n"
     ]
    }
   ],
   "source": [
    "%load_ext autoreload\n",
    "%autoreload 2"
   ]
  },
  {
   "cell_type": "code",
   "execution_count": 25,
   "id": "ideal-settlement",
   "metadata": {},
   "outputs": [],
   "source": [
    "from collections import defaultdict\n",
    "import unidecode"
   ]
  },
  {
   "cell_type": "code",
   "execution_count": 31,
   "id": "honey-label",
   "metadata": {},
   "outputs": [],
   "source": [
    "input_filename = \"/home/data/names/surname-final.txt\"\n",
    "output_filename = \"/home/data/names/surname-final.normal.txt\""
   ]
  },
  {
   "cell_type": "code",
   "execution_count": 32,
   "id": "obvious-vanilla",
   "metadata": {},
   "outputs": [],
   "source": [
    "names = defaultdict(int)"
   ]
  },
  {
   "cell_type": "code",
   "execution_count": 33,
   "id": "prime-latest",
   "metadata": {},
   "outputs": [],
   "source": [
    "def normalize(s):\n",
    "    return unidecode.unidecode(s).lower()"
   ]
  },
  {
   "cell_type": "code",
   "execution_count": 34,
   "id": "twelve-advancement",
   "metadata": {},
   "outputs": [],
   "source": [
    "# read file\n",
    "with open(input_filename, mode=\"r\", encoding=\"utf-8\") as f:\n",
    "    for pos, line in enumerate(f):\n",
    "        fields = line.rstrip().split(\"\\t\")\n",
    "        # normalize name\n",
    "        name = normalize(fields[0])\n",
    "        names[name] += int(fields[1])\n"
   ]
  },
  {
   "cell_type": "code",
   "execution_count": 35,
   "id": "solid-survivor",
   "metadata": {},
   "outputs": [],
   "source": [
    "# write file\n",
    "with open(output_filename, mode=\"w\", encoding=\"utf-8\") as f:\n",
    "    # write names alphabetically\n",
    "    for name in sorted(names.keys()):\n",
    "        f.write(f\"{name}\\t{names[name]}\\n\")"
   ]
  },
  {
   "cell_type": "code",
   "execution_count": null,
   "id": "forty-reducing",
   "metadata": {},
   "outputs": [],
   "source": []
  }
 ],
 "metadata": {
  "kernelspec": {
   "display_name": "Python 3",
   "language": "python",
   "name": "python3"
  },
  "language_info": {
   "codemirror_mode": {
    "name": "ipython",
    "version": 3
   },
   "file_extension": ".py",
   "mimetype": "text/x-python",
   "name": "python",
   "nbconvert_exporter": "python",
   "pygments_lexer": "ipython3",
   "version": "3.8.5"
  }
 },
 "nbformat": 4,
 "nbformat_minor": 5
}
